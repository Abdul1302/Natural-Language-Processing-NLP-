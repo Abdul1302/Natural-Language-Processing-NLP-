{
 "cells": [
  {
   "cell_type": "markdown",
   "metadata": {
    "id": "BR0FffyI7XYu"
   },
   "source": [
    "# NLP Pipeline Step By Step\n",
    "### 5000 Movies Dataset Preprocessing"
   ]
  },
  {
   "cell_type": "code",
   "execution_count": 58,
   "metadata": {
    "id": "ObfGv1Sv7KlK"
   },
   "outputs": [],
   "source": [
    "import pandas as pd\n",
    "import numpy as np"
   ]
  },
  {
   "cell_type": "code",
   "execution_count": 59,
   "metadata": {
    "id": "mzA6DEeC74aR"
   },
   "outputs": [],
   "source": [
    "df=pd.read_csv(\"/content/tmdb_5000_movies.csv\")"
   ]
  },
  {
   "cell_type": "code",
   "execution_count": 60,
   "metadata": {
    "colab": {
     "base_uri": "https://localhost:8080/",
     "height": 222
    },
    "id": "-VDOz_cb77Qu",
    "outputId": "d9b88882-2aa8-44e3-a28b-fa00cd199cc1"
   },
   "outputs": [
    {
     "data": {
      "application/vnd.google.colaboratory.intrinsic+json": {
       "repr_error": "0",
       "type": "dataframe"
      },
      "text/html": [
       "\n",
       "  <div id=\"df-4bb042a2-0fcd-4cdd-a3ac-cf3474dc7268\" class=\"colab-df-container\">\n",
       "    <div>\n",
       "<style scoped>\n",
       "    .dataframe tbody tr th:only-of-type {\n",
       "        vertical-align: middle;\n",
       "    }\n",
       "\n",
       "    .dataframe tbody tr th {\n",
       "        vertical-align: top;\n",
       "    }\n",
       "\n",
       "    .dataframe thead th {\n",
       "        text-align: right;\n",
       "    }\n",
       "</style>\n",
       "<table border=\"1\" class=\"dataframe\">\n",
       "  <thead>\n",
       "    <tr style=\"text-align: right;\">\n",
       "      <th></th>\n",
       "      <th>budget</th>\n",
       "      <th>genres</th>\n",
       "      <th>homepage</th>\n",
       "      <th>id</th>\n",
       "      <th>keywords</th>\n",
       "      <th>original_language</th>\n",
       "      <th>original_title</th>\n",
       "      <th>overview</th>\n",
       "      <th>popularity</th>\n",
       "      <th>production_companies</th>\n",
       "      <th>production_countries</th>\n",
       "      <th>release_date</th>\n",
       "      <th>revenue</th>\n",
       "      <th>runtime</th>\n",
       "      <th>spoken_languages</th>\n",
       "      <th>status</th>\n",
       "      <th>tagline</th>\n",
       "      <th>title</th>\n",
       "      <th>vote_average</th>\n",
       "      <th>vote_count</th>\n",
       "    </tr>\n",
       "  </thead>\n",
       "  <tbody>\n",
       "    <tr>\n",
       "      <th>778</th>\n",
       "      <td>60000000</td>\n",
       "      <td>[{\"id\": 35, \"name\": \"Comedy\"}, {\"id\": 878, \"na...</td>\n",
       "      <td>http://www.meetdavemovie.com/</td>\n",
       "      <td>11260</td>\n",
       "      <td>[{\"id\": 242, \"name\": \"new york\"}, {\"id\": 1316,...</td>\n",
       "      <td>en</td>\n",
       "      <td>Meet Dave</td>\n",
       "      <td>A crew of miniature aliens operate a spaceship...</td>\n",
       "      <td>18.676291</td>\n",
       "      <td>[{\"name\": \"Twentieth Century Fox Film Corporat...</td>\n",
       "      <td>[{\"iso_3166_1\": \"US\", \"name\": \"United States o...</td>\n",
       "      <td>2008-07-08</td>\n",
       "      <td>50650079</td>\n",
       "      <td>90.0</td>\n",
       "      <td>[{\"iso_639_1\": \"en\", \"name\": \"English\"}]</td>\n",
       "      <td>Released</td>\n",
       "      <td>There's a Whole Other World Going on Inside of...</td>\n",
       "      <td>Meet Dave</td>\n",
       "      <td>5.0</td>\n",
       "      <td>371</td>\n",
       "    </tr>\n",
       "  </tbody>\n",
       "</table>\n",
       "</div>\n",
       "    <div class=\"colab-df-buttons\">\n",
       "\n",
       "  <div class=\"colab-df-container\">\n",
       "    <button class=\"colab-df-convert\" onclick=\"convertToInteractive('df-4bb042a2-0fcd-4cdd-a3ac-cf3474dc7268')\"\n",
       "            title=\"Convert this dataframe to an interactive table.\"\n",
       "            style=\"display:none;\">\n",
       "\n",
       "  <svg xmlns=\"http://www.w3.org/2000/svg\" height=\"24px\" viewBox=\"0 -960 960 960\">\n",
       "    <path d=\"M120-120v-720h720v720H120Zm60-500h600v-160H180v160Zm220 220h160v-160H400v160Zm0 220h160v-160H400v160ZM180-400h160v-160H180v160Zm440 0h160v-160H620v160ZM180-180h160v-160H180v160Zm440 0h160v-160H620v160Z\"/>\n",
       "  </svg>\n",
       "    </button>\n",
       "\n",
       "  <style>\n",
       "    .colab-df-container {\n",
       "      display:flex;\n",
       "      gap: 12px;\n",
       "    }\n",
       "\n",
       "    .colab-df-convert {\n",
       "      background-color: #E8F0FE;\n",
       "      border: none;\n",
       "      border-radius: 50%;\n",
       "      cursor: pointer;\n",
       "      display: none;\n",
       "      fill: #1967D2;\n",
       "      height: 32px;\n",
       "      padding: 0 0 0 0;\n",
       "      width: 32px;\n",
       "    }\n",
       "\n",
       "    .colab-df-convert:hover {\n",
       "      background-color: #E2EBFA;\n",
       "      box-shadow: 0px 1px 2px rgba(60, 64, 67, 0.3), 0px 1px 3px 1px rgba(60, 64, 67, 0.15);\n",
       "      fill: #174EA6;\n",
       "    }\n",
       "\n",
       "    .colab-df-buttons div {\n",
       "      margin-bottom: 4px;\n",
       "    }\n",
       "\n",
       "    [theme=dark] .colab-df-convert {\n",
       "      background-color: #3B4455;\n",
       "      fill: #D2E3FC;\n",
       "    }\n",
       "\n",
       "    [theme=dark] .colab-df-convert:hover {\n",
       "      background-color: #434B5C;\n",
       "      box-shadow: 0px 1px 3px 1px rgba(0, 0, 0, 0.15);\n",
       "      filter: drop-shadow(0px 1px 2px rgba(0, 0, 0, 0.3));\n",
       "      fill: #FFFFFF;\n",
       "    }\n",
       "  </style>\n",
       "\n",
       "    <script>\n",
       "      const buttonEl =\n",
       "        document.querySelector('#df-4bb042a2-0fcd-4cdd-a3ac-cf3474dc7268 button.colab-df-convert');\n",
       "      buttonEl.style.display =\n",
       "        google.colab.kernel.accessAllowed ? 'block' : 'none';\n",
       "\n",
       "      async function convertToInteractive(key) {\n",
       "        const element = document.querySelector('#df-4bb042a2-0fcd-4cdd-a3ac-cf3474dc7268');\n",
       "        const dataTable =\n",
       "          await google.colab.kernel.invokeFunction('convertToInteractive',\n",
       "                                                    [key], {});\n",
       "        if (!dataTable) return;\n",
       "\n",
       "        const docLinkHtml = 'Like what you see? Visit the ' +\n",
       "          '<a target=\"_blank\" href=https://colab.research.google.com/notebooks/data_table.ipynb>data table notebook</a>'\n",
       "          + ' to learn more about interactive tables.';\n",
       "        element.innerHTML = '';\n",
       "        dataTable['output_type'] = 'display_data';\n",
       "        await google.colab.output.renderOutput(dataTable, element);\n",
       "        const docLink = document.createElement('div');\n",
       "        docLink.innerHTML = docLinkHtml;\n",
       "        element.appendChild(docLink);\n",
       "      }\n",
       "    </script>\n",
       "  </div>\n",
       "\n",
       "\n",
       "    </div>\n",
       "  </div>\n"
      ],
      "text/plain": [
       "       budget                                             genres  \\\n",
       "778  60000000  [{\"id\": 35, \"name\": \"Comedy\"}, {\"id\": 878, \"na...   \n",
       "\n",
       "                          homepage     id  \\\n",
       "778  http://www.meetdavemovie.com/  11260   \n",
       "\n",
       "                                              keywords original_language  \\\n",
       "778  [{\"id\": 242, \"name\": \"new york\"}, {\"id\": 1316,...                en   \n",
       "\n",
       "    original_title                                           overview  \\\n",
       "778      Meet Dave  A crew of miniature aliens operate a spaceship...   \n",
       "\n",
       "     popularity                               production_companies  \\\n",
       "778   18.676291  [{\"name\": \"Twentieth Century Fox Film Corporat...   \n",
       "\n",
       "                                  production_countries release_date   revenue  \\\n",
       "778  [{\"iso_3166_1\": \"US\", \"name\": \"United States o...   2008-07-08  50650079   \n",
       "\n",
       "     runtime                          spoken_languages    status  \\\n",
       "778     90.0  [{\"iso_639_1\": \"en\", \"name\": \"English\"}]  Released   \n",
       "\n",
       "                                               tagline      title  \\\n",
       "778  There's a Whole Other World Going on Inside of...  Meet Dave   \n",
       "\n",
       "     vote_average  vote_count  \n",
       "778           5.0         371  "
      ]
     },
     "execution_count": 60,
     "metadata": {},
     "output_type": "execute_result"
    }
   ],
   "source": [
    "df.sample()"
   ]
  },
  {
   "cell_type": "code",
   "execution_count": 61,
   "metadata": {
    "colab": {
     "base_uri": "https://localhost:8080/",
     "height": 206
    },
    "id": "Toik-JRu8DB2",
    "outputId": "ae988715-2ce8-47f5-d09b-c5ab5a9c379c"
   },
   "outputs": [
    {
     "data": {
      "application/vnd.google.colaboratory.intrinsic+json": {
       "summary": "{\n  \"name\": \"df\",\n  \"rows\": 4803,\n  \"fields\": [\n    {\n      \"column\": \"title\",\n      \"properties\": {\n        \"dtype\": \"string\",\n        \"num_unique_values\": 4800,\n        \"samples\": [\n          \"I Spy\",\n          \"Who's Your Caddy?\",\n          \"Sleepover\"\n        ],\n        \"semantic_type\": \"\",\n        \"description\": \"\"\n      }\n    },\n    {\n      \"column\": \"overview\",\n      \"properties\": {\n        \"dtype\": \"string\",\n        \"num_unique_values\": 4800,\n        \"samples\": [\n          \"When the Switchblade, the most sophisticated prototype stealth fighter created yet, is stolen from the U.S. government, one of the United States' top spies, Alex Scott, is called to action. What he doesn't expect is to get teamed up with a cocky civilian, World Class Boxing Champion Kelly Robinson, on a dangerous top secret espionage mission. Their assignment: using equal parts skill and humor, catch Arnold Gundars, one of the world's most successful arms dealers.\",\n          \"When \\\"street smart\\\" rapper Christopher \\\"C-Note\\\" Hawkins (Big Boi) applies for a membership to all-white Carolina Pines Country Club, the establishment's proprietors are hardly ready to oblige him.\",\n          \"As their first year of high school looms ahead, best friends Julie, Hannah, Yancy and Farrah have one last summer sleepover. Little do they know they're about to embark on the adventure of a lifetime. Desperate to shed their nerdy status, they take part in a night-long scavenger hunt that pits them against their popular archrivals. Everything under the sun goes on -- from taking Yancy's father's car to sneaking into nightclubs!\"\n        ],\n        \"semantic_type\": \"\",\n        \"description\": \"\"\n      }\n    }\n  ]\n}",
       "type": "dataframe",
       "variable_name": "df"
      },
      "text/html": [
       "\n",
       "  <div id=\"df-b395f51c-0655-42af-993d-197aeebb5c96\" class=\"colab-df-container\">\n",
       "    <div>\n",
       "<style scoped>\n",
       "    .dataframe tbody tr th:only-of-type {\n",
       "        vertical-align: middle;\n",
       "    }\n",
       "\n",
       "    .dataframe tbody tr th {\n",
       "        vertical-align: top;\n",
       "    }\n",
       "\n",
       "    .dataframe thead th {\n",
       "        text-align: right;\n",
       "    }\n",
       "</style>\n",
       "<table border=\"1\" class=\"dataframe\">\n",
       "  <thead>\n",
       "    <tr style=\"text-align: right;\">\n",
       "      <th></th>\n",
       "      <th>title</th>\n",
       "      <th>overview</th>\n",
       "    </tr>\n",
       "  </thead>\n",
       "  <tbody>\n",
       "    <tr>\n",
       "      <th>0</th>\n",
       "      <td>Avatar</td>\n",
       "      <td>In the 22nd century, a paraplegic Marine is di...</td>\n",
       "    </tr>\n",
       "    <tr>\n",
       "      <th>1</th>\n",
       "      <td>Pirates of the Caribbean: At World's End</td>\n",
       "      <td>Captain Barbossa, long believed to be dead, ha...</td>\n",
       "    </tr>\n",
       "    <tr>\n",
       "      <th>2</th>\n",
       "      <td>Spectre</td>\n",
       "      <td>A cryptic message from Bond’s past sends him o...</td>\n",
       "    </tr>\n",
       "    <tr>\n",
       "      <th>3</th>\n",
       "      <td>The Dark Knight Rises</td>\n",
       "      <td>Following the death of District Attorney Harve...</td>\n",
       "    </tr>\n",
       "    <tr>\n",
       "      <th>4</th>\n",
       "      <td>John Carter</td>\n",
       "      <td>John Carter is a war-weary, former military ca...</td>\n",
       "    </tr>\n",
       "  </tbody>\n",
       "</table>\n",
       "</div>\n",
       "    <div class=\"colab-df-buttons\">\n",
       "\n",
       "  <div class=\"colab-df-container\">\n",
       "    <button class=\"colab-df-convert\" onclick=\"convertToInteractive('df-b395f51c-0655-42af-993d-197aeebb5c96')\"\n",
       "            title=\"Convert this dataframe to an interactive table.\"\n",
       "            style=\"display:none;\">\n",
       "\n",
       "  <svg xmlns=\"http://www.w3.org/2000/svg\" height=\"24px\" viewBox=\"0 -960 960 960\">\n",
       "    <path d=\"M120-120v-720h720v720H120Zm60-500h600v-160H180v160Zm220 220h160v-160H400v160Zm0 220h160v-160H400v160ZM180-400h160v-160H180v160Zm440 0h160v-160H620v160ZM180-180h160v-160H180v160Zm440 0h160v-160H620v160Z\"/>\n",
       "  </svg>\n",
       "    </button>\n",
       "\n",
       "  <style>\n",
       "    .colab-df-container {\n",
       "      display:flex;\n",
       "      gap: 12px;\n",
       "    }\n",
       "\n",
       "    .colab-df-convert {\n",
       "      background-color: #E8F0FE;\n",
       "      border: none;\n",
       "      border-radius: 50%;\n",
       "      cursor: pointer;\n",
       "      display: none;\n",
       "      fill: #1967D2;\n",
       "      height: 32px;\n",
       "      padding: 0 0 0 0;\n",
       "      width: 32px;\n",
       "    }\n",
       "\n",
       "    .colab-df-convert:hover {\n",
       "      background-color: #E2EBFA;\n",
       "      box-shadow: 0px 1px 2px rgba(60, 64, 67, 0.3), 0px 1px 3px 1px rgba(60, 64, 67, 0.15);\n",
       "      fill: #174EA6;\n",
       "    }\n",
       "\n",
       "    .colab-df-buttons div {\n",
       "      margin-bottom: 4px;\n",
       "    }\n",
       "\n",
       "    [theme=dark] .colab-df-convert {\n",
       "      background-color: #3B4455;\n",
       "      fill: #D2E3FC;\n",
       "    }\n",
       "\n",
       "    [theme=dark] .colab-df-convert:hover {\n",
       "      background-color: #434B5C;\n",
       "      box-shadow: 0px 1px 3px 1px rgba(0, 0, 0, 0.15);\n",
       "      filter: drop-shadow(0px 1px 2px rgba(0, 0, 0, 0.3));\n",
       "      fill: #FFFFFF;\n",
       "    }\n",
       "  </style>\n",
       "\n",
       "    <script>\n",
       "      const buttonEl =\n",
       "        document.querySelector('#df-b395f51c-0655-42af-993d-197aeebb5c96 button.colab-df-convert');\n",
       "      buttonEl.style.display =\n",
       "        google.colab.kernel.accessAllowed ? 'block' : 'none';\n",
       "\n",
       "      async function convertToInteractive(key) {\n",
       "        const element = document.querySelector('#df-b395f51c-0655-42af-993d-197aeebb5c96');\n",
       "        const dataTable =\n",
       "          await google.colab.kernel.invokeFunction('convertToInteractive',\n",
       "                                                    [key], {});\n",
       "        if (!dataTable) return;\n",
       "\n",
       "        const docLinkHtml = 'Like what you see? Visit the ' +\n",
       "          '<a target=\"_blank\" href=https://colab.research.google.com/notebooks/data_table.ipynb>data table notebook</a>'\n",
       "          + ' to learn more about interactive tables.';\n",
       "        element.innerHTML = '';\n",
       "        dataTable['output_type'] = 'display_data';\n",
       "        await google.colab.output.renderOutput(dataTable, element);\n",
       "        const docLink = document.createElement('div');\n",
       "        docLink.innerHTML = docLinkHtml;\n",
       "        element.appendChild(docLink);\n",
       "      }\n",
       "    </script>\n",
       "  </div>\n",
       "\n",
       "\n",
       "<div id=\"df-cadb6301-d492-4272-81b8-9394e077190b\">\n",
       "  <button class=\"colab-df-quickchart\" onclick=\"quickchart('df-cadb6301-d492-4272-81b8-9394e077190b')\"\n",
       "            title=\"Suggest charts\"\n",
       "            style=\"display:none;\">\n",
       "\n",
       "<svg xmlns=\"http://www.w3.org/2000/svg\" height=\"24px\"viewBox=\"0 0 24 24\"\n",
       "     width=\"24px\">\n",
       "    <g>\n",
       "        <path d=\"M19 3H5c-1.1 0-2 .9-2 2v14c0 1.1.9 2 2 2h14c1.1 0 2-.9 2-2V5c0-1.1-.9-2-2-2zM9 17H7v-7h2v7zm4 0h-2V7h2v10zm4 0h-2v-4h2v4z\"/>\n",
       "    </g>\n",
       "</svg>\n",
       "  </button>\n",
       "\n",
       "<style>\n",
       "  .colab-df-quickchart {\n",
       "      --bg-color: #E8F0FE;\n",
       "      --fill-color: #1967D2;\n",
       "      --hover-bg-color: #E2EBFA;\n",
       "      --hover-fill-color: #174EA6;\n",
       "      --disabled-fill-color: #AAA;\n",
       "      --disabled-bg-color: #DDD;\n",
       "  }\n",
       "\n",
       "  [theme=dark] .colab-df-quickchart {\n",
       "      --bg-color: #3B4455;\n",
       "      --fill-color: #D2E3FC;\n",
       "      --hover-bg-color: #434B5C;\n",
       "      --hover-fill-color: #FFFFFF;\n",
       "      --disabled-bg-color: #3B4455;\n",
       "      --disabled-fill-color: #666;\n",
       "  }\n",
       "\n",
       "  .colab-df-quickchart {\n",
       "    background-color: var(--bg-color);\n",
       "    border: none;\n",
       "    border-radius: 50%;\n",
       "    cursor: pointer;\n",
       "    display: none;\n",
       "    fill: var(--fill-color);\n",
       "    height: 32px;\n",
       "    padding: 0;\n",
       "    width: 32px;\n",
       "  }\n",
       "\n",
       "  .colab-df-quickchart:hover {\n",
       "    background-color: var(--hover-bg-color);\n",
       "    box-shadow: 0 1px 2px rgba(60, 64, 67, 0.3), 0 1px 3px 1px rgba(60, 64, 67, 0.15);\n",
       "    fill: var(--button-hover-fill-color);\n",
       "  }\n",
       "\n",
       "  .colab-df-quickchart-complete:disabled,\n",
       "  .colab-df-quickchart-complete:disabled:hover {\n",
       "    background-color: var(--disabled-bg-color);\n",
       "    fill: var(--disabled-fill-color);\n",
       "    box-shadow: none;\n",
       "  }\n",
       "\n",
       "  .colab-df-spinner {\n",
       "    border: 2px solid var(--fill-color);\n",
       "    border-color: transparent;\n",
       "    border-bottom-color: var(--fill-color);\n",
       "    animation:\n",
       "      spin 1s steps(1) infinite;\n",
       "  }\n",
       "\n",
       "  @keyframes spin {\n",
       "    0% {\n",
       "      border-color: transparent;\n",
       "      border-bottom-color: var(--fill-color);\n",
       "      border-left-color: var(--fill-color);\n",
       "    }\n",
       "    20% {\n",
       "      border-color: transparent;\n",
       "      border-left-color: var(--fill-color);\n",
       "      border-top-color: var(--fill-color);\n",
       "    }\n",
       "    30% {\n",
       "      border-color: transparent;\n",
       "      border-left-color: var(--fill-color);\n",
       "      border-top-color: var(--fill-color);\n",
       "      border-right-color: var(--fill-color);\n",
       "    }\n",
       "    40% {\n",
       "      border-color: transparent;\n",
       "      border-right-color: var(--fill-color);\n",
       "      border-top-color: var(--fill-color);\n",
       "    }\n",
       "    60% {\n",
       "      border-color: transparent;\n",
       "      border-right-color: var(--fill-color);\n",
       "    }\n",
       "    80% {\n",
       "      border-color: transparent;\n",
       "      border-right-color: var(--fill-color);\n",
       "      border-bottom-color: var(--fill-color);\n",
       "    }\n",
       "    90% {\n",
       "      border-color: transparent;\n",
       "      border-bottom-color: var(--fill-color);\n",
       "    }\n",
       "  }\n",
       "</style>\n",
       "\n",
       "  <script>\n",
       "    async function quickchart(key) {\n",
       "      const quickchartButtonEl =\n",
       "        document.querySelector('#' + key + ' button');\n",
       "      quickchartButtonEl.disabled = true;  // To prevent multiple clicks.\n",
       "      quickchartButtonEl.classList.add('colab-df-spinner');\n",
       "      try {\n",
       "        const charts = await google.colab.kernel.invokeFunction(\n",
       "            'suggestCharts', [key], {});\n",
       "      } catch (error) {\n",
       "        console.error('Error during call to suggestCharts:', error);\n",
       "      }\n",
       "      quickchartButtonEl.classList.remove('colab-df-spinner');\n",
       "      quickchartButtonEl.classList.add('colab-df-quickchart-complete');\n",
       "    }\n",
       "    (() => {\n",
       "      let quickchartButtonEl =\n",
       "        document.querySelector('#df-cadb6301-d492-4272-81b8-9394e077190b button');\n",
       "      quickchartButtonEl.style.display =\n",
       "        google.colab.kernel.accessAllowed ? 'block' : 'none';\n",
       "    })();\n",
       "  </script>\n",
       "</div>\n",
       "\n",
       "    </div>\n",
       "  </div>\n"
      ],
      "text/plain": [
       "                                      title  \\\n",
       "0                                    Avatar   \n",
       "1  Pirates of the Caribbean: At World's End   \n",
       "2                                   Spectre   \n",
       "3                     The Dark Knight Rises   \n",
       "4                               John Carter   \n",
       "\n",
       "                                            overview  \n",
       "0  In the 22nd century, a paraplegic Marine is di...  \n",
       "1  Captain Barbossa, long believed to be dead, ha...  \n",
       "2  A cryptic message from Bond’s past sends him o...  \n",
       "3  Following the death of District Attorney Harve...  \n",
       "4  John Carter is a war-weary, former military ca...  "
      ]
     },
     "execution_count": 61,
     "metadata": {},
     "output_type": "execute_result"
    }
   ],
   "source": [
    "df=df[['title','overview']]\n",
    "df.head()"
   ]
  },
  {
   "cell_type": "code",
   "execution_count": 62,
   "metadata": {
    "colab": {
     "base_uri": "https://localhost:8080/"
    },
    "id": "eaItSL3j8ZBm",
    "outputId": "f4f7e4cd-14b9-4f38-aace-98ecd1b52e93"
   },
   "outputs": [
    {
     "data": {
      "text/plain": [
       "(4803, 2)"
      ]
     },
     "execution_count": 62,
     "metadata": {},
     "output_type": "execute_result"
    }
   ],
   "source": [
    "df.shape"
   ]
  },
  {
   "cell_type": "code",
   "execution_count": 63,
   "metadata": {
    "id": "WQEJXXAITv3X"
   },
   "outputs": [],
   "source": [
    "df.drop(df.index[100:], inplace=True)"
   ]
  },
  {
   "cell_type": "code",
   "execution_count": 64,
   "metadata": {
    "colab": {
     "base_uri": "https://localhost:8080/"
    },
    "id": "-F6rypH8Twb8",
    "outputId": "675eeafd-10b6-4612-bc81-d5a86c566803"
   },
   "outputs": [
    {
     "data": {
      "text/plain": [
       "(100, 2)"
      ]
     },
     "execution_count": 64,
     "metadata": {},
     "output_type": "execute_result"
    }
   ],
   "source": [
    "df.shape"
   ]
  },
  {
   "cell_type": "code",
   "execution_count": 65,
   "metadata": {
    "colab": {
     "base_uri": "https://localhost:8080/",
     "height": 70
    },
    "id": "SSj1MrCK8eIN",
    "outputId": "d0a58e9a-0bda-46bc-a6b8-8baf7160d3d8"
   },
   "outputs": [
    {
     "data": {
      "application/vnd.google.colaboratory.intrinsic+json": {
       "type": "string"
      },
      "text/plain": [
       "\"Following the death of District Attorney Harvey Dent, Batman assumes responsibility for Dent's crimes to protect the late attorney's reputation and is subsequently hunted by the Gotham City Police Department. Eight years later, Batman encounters the mysterious Selina Kyle and the villainous Bane, a new terrorist leader who overwhelms Gotham's finest. The Dark Knight resurfaces to protect a city that has branded him an enemy.\""
      ]
     },
     "execution_count": 65,
     "metadata": {},
     "output_type": "execute_result"
    }
   ],
   "source": [
    "df.overview[3]"
   ]
  },
  {
   "cell_type": "code",
   "execution_count": 66,
   "metadata": {
    "colab": {
     "base_uri": "https://localhost:8080/"
    },
    "id": "qqF0FFPN8gFc",
    "outputId": "dc4fe157-2f97-40a7-b768-d427603558d4"
   },
   "outputs": [
    {
     "data": {
      "text/plain": [
       "title       0\n",
       "overview    0\n",
       "dtype: int64"
      ]
     },
     "execution_count": 66,
     "metadata": {},
     "output_type": "execute_result"
    }
   ],
   "source": [
    "df.isnull().sum()"
   ]
  },
  {
   "cell_type": "code",
   "execution_count": 67,
   "metadata": {
    "colab": {
     "base_uri": "https://localhost:8080/"
    },
    "id": "iTpnTEin8ngg",
    "outputId": "ba9a87d7-a812-405f-9ee9-ffe90eb5f0b5"
   },
   "outputs": [
    {
     "data": {
      "text/plain": [
       "0"
      ]
     },
     "execution_count": 67,
     "metadata": {},
     "output_type": "execute_result"
    }
   ],
   "source": [
    "df.duplicated().sum()"
   ]
  },
  {
   "cell_type": "markdown",
   "metadata": {
    "id": "rLOKVB0g8xBr"
   },
   "source": [
    "## Removing null Values"
   ]
  },
  {
   "cell_type": "code",
   "execution_count": 68,
   "metadata": {
    "id": "aI2EGvPF8rv5"
   },
   "outputs": [],
   "source": [
    "df.dropna(inplace=True)"
   ]
  },
  {
   "cell_type": "code",
   "execution_count": 69,
   "metadata": {
    "colab": {
     "base_uri": "https://localhost:8080/"
    },
    "id": "zVM7HRhA8z_Z",
    "outputId": "db4b978a-2fcc-4826-d47b-68b7a76c60e5"
   },
   "outputs": [
    {
     "data": {
      "text/plain": [
       "title       0\n",
       "overview    0\n",
       "dtype: int64"
      ]
     },
     "execution_count": 69,
     "metadata": {},
     "output_type": "execute_result"
    }
   ],
   "source": [
    "df.isnull().sum()"
   ]
  },
  {
   "cell_type": "markdown",
   "metadata": {
    "id": "6gKwKtds865c"
   },
   "source": [
    "## Preprocessing On Overview Column"
   ]
  },
  {
   "cell_type": "markdown",
   "metadata": {
    "id": "snzI47ts9HDL"
   },
   "source": [
    "## Removing Chat Words"
   ]
  },
  {
   "cell_type": "code",
   "execution_count": 70,
   "metadata": {
    "colab": {
     "base_uri": "https://localhost:8080/"
    },
    "id": "6c91Wx0w82BX",
    "outputId": "b118f2e5-d54e-44b0-9e81-16566cdc1d67"
   },
   "outputs": [
    {
     "name": "stdout",
     "output_type": "stream",
     "text": [
      "{'AFAIK': 'As Far As I Know', 'AFK': 'Away From Keyboard', 'ASAP': 'As Soon As Possible', 'ATK': 'At The Keyboard', 'ATM': 'At The Moment', 'A3': 'Anytime, Anywhere, Anyplace', 'BAK': 'Back At Keyboard', 'BBL': 'Be Back Later', 'BBS': 'Be Back Soon', 'BFN': 'Bye For Now', 'B4N': 'Bye For Now', 'BRB': 'Be Right Back', 'BRT': 'Be Right There', 'BTW': 'By The Way', 'B4': 'Before', 'CU': 'See You', 'CUL8R': 'See You Later', 'CYA': 'See You', 'FAQ': 'Frequently Asked Questions', 'FC': 'Fingers Crossed', 'FWIW': \"For What It's Worth\", 'FYI': 'For Your Information', 'GAL': 'Get A Life', 'GG': 'Good Game', 'GN': 'Good Night', 'GMTA': 'Great Minds Think Alike', 'GR8': 'Great!', 'G9': 'Genius', 'IC': 'I See', 'ICQ': 'I Seek you (also a chat program)', 'ILU': 'ILU: I Love You', 'IMHO': 'In My Honest/Humble Opinion', 'IMO': 'In My Opinion', 'IOW': 'In Other Words', 'IRL': 'In Real Life', 'KISS': 'Keep It Simple, Stupid', 'LDR': 'Long Distance Relationship', 'LMAO': 'Laughing my a** off', 'LOL': 'Laughing out loud', 'LTNS': 'Long Time No See', 'L8R': 'Later', 'MTE': 'My Thoughts Exactly', 'M8': 'Mate', 'NRN': 'No Reply Necessary', 'OIC': 'Oh I See', 'PITA': 'Pain In The A..', 'PRT': 'Party', 'PRW': 'Parents Are Watching', 'QPSA': 'Que Pasa?', 'ROFL': 'Rolling On The Floor Laughing', 'ROFLOL': 'Rolling On The Floor Laughing Out Loud', 'ROTFLMAO': 'Rolling On The Floor Laughing My A.. Off', 'SK8': 'Skate', 'STATS': 'Your sex and age', 'ASL': 'Age, Sex, Location', 'THX': 'Thank You', 'TTFN': 'Ta-Ta For Now!', 'TTYL': 'Talk To You Later', 'U': 'You', 'U2': 'You Too', 'U4E': 'Yours For Ever', 'WB': 'Welcome Back', 'WTF': 'What The F...', 'WTG': 'Way To Go!', 'WUF': 'Where Are You From?', 'W8': 'Wait...', '7K': 'Sick:-D Laugher', 'TFW': 'That feeling when', 'MFW': 'My face when', 'MRW': 'My reaction when', 'IFYP': 'I feel your pain', 'TNTL': 'Trying not to laugh', 'JK': 'Just kidding', 'IDC': 'I don’t care', 'ILY': 'I love you', 'IMU': 'I miss you', 'ADIH': 'Another day in hell', 'ZZZ': 'Sleeping, bored, tired', 'WYWH': 'Wish you were here', 'TIME': 'Tears in my eyes', 'BAE': 'Before anyone else', 'FIMH': 'Forever in my heart', 'BSAAW': 'Big smile and a wink', 'BWL': 'Bursting with laughter', 'BFF': 'Best friends forever', 'CSL': 'Can’t stop laughing'}\n"
     ]
    }
   ],
   "source": [
    "chatwords = {\n",
    "    \"AFAIK\": \"As Far As I Know\",\n",
    "    \"AFK\": \"Away From Keyboard\",\n",
    "    \"ASAP\": \"As Soon As Possible\",\n",
    "    \"ATK\": \"At The Keyboard\",\n",
    "    \"ATM\": \"At The Moment\",\n",
    "    \"A3\": \"Anytime, Anywhere, Anyplace\",\n",
    "    \"BAK\": \"Back At Keyboard\",\n",
    "    \"BBL\": \"Be Back Later\",\n",
    "    \"BBS\": \"Be Back Soon\",\n",
    "    \"BFN\": \"Bye For Now\",\n",
    "    \"B4N\": \"Bye For Now\",\n",
    "    \"BRB\": \"Be Right Back\",\n",
    "    \"BRT\": \"Be Right There\",\n",
    "    \"BTW\": \"By The Way\",\n",
    "    \"B4\": \"Before\",\n",
    "    \"B4N\": \"Bye For Now\",\n",
    "    \"CU\": \"See You\",\n",
    "    \"CUL8R\": \"See You Later\",\n",
    "    \"CYA\": \"See You\",\n",
    "    \"FAQ\": \"Frequently Asked Questions\",\n",
    "    \"FC\": \"Fingers Crossed\",\n",
    "    \"FWIW\": \"For What It's Worth\",\n",
    "    \"FYI\": \"For Your Information\",\n",
    "    \"GAL\": \"Get A Life\",\n",
    "    \"GG\": \"Good Game\",\n",
    "    \"GN\": \"Good Night\",\n",
    "    \"GMTA\": \"Great Minds Think Alike\",\n",
    "    \"GR8\": \"Great!\",\n",
    "    \"G9\": \"Genius\",\n",
    "    \"IC\": \"I See\",\n",
    "    \"ICQ\": \"I Seek you (also a chat program)\",\n",
    "    \"ILU\": \"ILU: I Love You\",\n",
    "    \"IMHO\": \"In My Honest/Humble Opinion\",\n",
    "    \"IMO\": \"In My Opinion\",\n",
    "    \"IOW\": \"In Other Words\",\n",
    "    \"IRL\": \"In Real Life\",\n",
    "    \"KISS\": \"Keep It Simple, Stupid\",\n",
    "    \"LDR\": \"Long Distance Relationship\",\n",
    "    \"LMAO\": \"Laugh My A.. Off\",\n",
    "    \"LOL\": \"Laughing Out Loud\",\n",
    "    \"LTNS\": \"Long Time No See\",\n",
    "    \"L8R\": \"Later\",\n",
    "    \"MTE\": \"My Thoughts Exactly\",\n",
    "    \"M8\": \"Mate\",\n",
    "    \"NRN\": \"No Reply Necessary\",\n",
    "    \"OIC\": \"Oh I See\",\n",
    "    \"PITA\": \"Pain In The A..\",\n",
    "    \"PRT\": \"Party\",\n",
    "    \"PRW\": \"Parents Are Watching\",\n",
    "    \"QPSA\": \"Que Pasa?\",\n",
    "    \"ROFL\": \"Rolling On The Floor Laughing\",\n",
    "    \"ROFLOL\": \"Rolling On The Floor Laughing Out Loud\",\n",
    "    \"ROTFLMAO\": \"Rolling On The Floor Laughing My A.. Off\",\n",
    "    \"SK8\": \"Skate\",\n",
    "    \"STATS\": \"Your sex and age\",\n",
    "    \"ASL\": \"Age, Sex, Location\",\n",
    "    \"THX\": \"Thank You\",\n",
    "    \"TTFN\": \"Ta-Ta For Now!\",\n",
    "    \"TTYL\": \"Talk To You Later\",\n",
    "    \"U\": \"You\",\n",
    "    \"U2\": \"You Too\",\n",
    "    \"U4E\": \"Yours For Ever\",\n",
    "    \"WB\": \"Welcome Back\",\n",
    "    \"WTF\": \"What The F...\",\n",
    "    \"WTG\": \"Way To Go!\",\n",
    "    \"WUF\": \"Where Are You From?\",\n",
    "    \"W8\": \"Wait...\",\n",
    "    \"7K\": \"Sick:-D Laugher\",\n",
    "    \"TFW\": \"That feeling when\",\n",
    "    \"MFW\": \"My face when\",\n",
    "    \"MRW\": \"My reaction when\",\n",
    "    \"IFYP\": \"I feel your pain\",\n",
    "    \"LOL\": \"Laughing out loud\",\n",
    "    \"TNTL\": \"Trying not to laugh\",\n",
    "    \"JK\": \"Just kidding\",\n",
    "    \"IDC\": \"I don’t care\",\n",
    "    \"ILY\": \"I love you\",\n",
    "    \"IMU\": \"I miss you\",\n",
    "    \"ADIH\": \"Another day in hell\",\n",
    "    \"IDC\": \"I don’t care\",\n",
    "    \"ZZZ\": \"Sleeping, bored, tired\",\n",
    "    \"WYWH\": \"Wish you were here\",\n",
    "    \"TIME\": \"Tears in my eyes\",\n",
    "    \"BAE\": \"Before anyone else\",\n",
    "    \"FIMH\": \"Forever in my heart\",\n",
    "    \"BSAAW\": \"Big smile and a wink\",\n",
    "    \"BWL\": \"Bursting with laughter\",\n",
    "    \"LMAO\": \"Laughing my a** off\",\n",
    "    \"BFF\": \"Best friends forever\",\n",
    "    \"CSL\": \"Can’t stop laughing\"\n",
    "}\n",
    "\n",
    "print(chatwords)\n"
   ]
  },
  {
   "cell_type": "code",
   "execution_count": 71,
   "metadata": {
    "id": "VHg36O6H9Fdi"
   },
   "outputs": [],
   "source": [
    "def chat_conversation(text):\n",
    "    new_text=[]\n",
    "    for word in text.split():\n",
    "        if word.upper() in chatwords:\n",
    "            new_text.append(chatwords[word.upper()])\n",
    "        else:\n",
    "            new_text.append(word)\n",
    "    return \" \".join(new_text)"
   ]
  },
  {
   "cell_type": "code",
   "execution_count": 72,
   "metadata": {
    "colab": {
     "base_uri": "https://localhost:8080/",
     "height": 35
    },
    "id": "6QK8Tj_W9PlM",
    "outputId": "c9108a07-5fdd-4660-e3fb-8acb3813c858"
   },
   "outputs": [
    {
     "data": {
      "application/vnd.google.colaboratory.intrinsic+json": {
       "type": "string"
      },
      "text/plain": [
       "'In My Honest/Humble Opinion he is the best'"
      ]
     },
     "execution_count": 72,
     "metadata": {},
     "output_type": "execute_result"
    }
   ],
   "source": [
    "chat_conversation('IMHO he is the best')"
   ]
  },
  {
   "cell_type": "code",
   "execution_count": 73,
   "metadata": {
    "id": "kXkRmKhn9TjR"
   },
   "outputs": [],
   "source": [
    "df['overview']=df['overview'].apply(chat_conversation)"
   ]
  },
  {
   "cell_type": "code",
   "execution_count": 74,
   "metadata": {
    "colab": {
     "base_uri": "https://localhost:8080/",
     "height": 70
    },
    "id": "4gvtRdsQ9XrM",
    "outputId": "3f0eab2b-c5e3-4394-be4d-652b80fb8563"
   },
   "outputs": [
    {
     "data": {
      "application/vnd.google.colaboratory.intrinsic+json": {
       "type": "string"
      },
      "text/plain": [
       "\"Following the death of District Attorney Harvey Dent, Batman assumes responsibility for Dent's crimes to protect the late attorney's reputation and is subsequently hunted by the Gotham City Police Department. Eight years later, Batman encounters the mysterious Selina Kyle and the villainous Bane, a new terrorist leader who overwhelms Gotham's finest. The Dark Knight resurfaces to protect a city that has branded him an enemy.\""
      ]
     },
     "execution_count": 74,
     "metadata": {},
     "output_type": "execute_result"
    }
   ],
   "source": [
    "df['overview'][3]"
   ]
  },
  {
   "cell_type": "markdown",
   "metadata": {
    "id": "EGplz5Bt9ff-"
   },
   "source": [
    "## Removing Stopwords"
   ]
  },
  {
   "cell_type": "code",
   "execution_count": 75,
   "metadata": {
    "colab": {
     "base_uri": "https://localhost:8080/"
    },
    "id": "3nAhnyDa-FhR",
    "outputId": "d70b130d-ea74-4287-c323-6d135ca63d92"
   },
   "outputs": [
    {
     "name": "stdout",
     "output_type": "stream",
     "text": [
      "Requirement already satisfied: nltk in /usr/local/lib/python3.10/dist-packages (3.8.1)\n",
      "Requirement already satisfied: click in /usr/local/lib/python3.10/dist-packages (from nltk) (8.1.7)\n",
      "Requirement already satisfied: joblib in /usr/local/lib/python3.10/dist-packages (from nltk) (1.4.2)\n",
      "Requirement already satisfied: regex>=2021.8.3 in /usr/local/lib/python3.10/dist-packages (from nltk) (2023.12.25)\n",
      "Requirement already satisfied: tqdm in /usr/local/lib/python3.10/dist-packages (from nltk) (4.66.4)\n"
     ]
    },
    {
     "name": "stderr",
     "output_type": "stream",
     "text": [
      "[nltk_data] Downloading package stopwords to /root/nltk_data...\n",
      "[nltk_data]   Package stopwords is already up-to-date!\n"
     ]
    },
    {
     "data": {
      "text/plain": [
       "True"
      ]
     },
     "execution_count": 75,
     "metadata": {},
     "output_type": "execute_result"
    }
   ],
   "source": [
    "!pip install nltk\n",
    "import nltk\n",
    "nltk.download('stopwords')"
   ]
  },
  {
   "cell_type": "code",
   "execution_count": 76,
   "metadata": {
    "colab": {
     "base_uri": "https://localhost:8080/"
    },
    "id": "HfCginOR9a5M",
    "outputId": "dc3a6ca2-5100-4f7f-89ee-31ff56ff1ef1"
   },
   "outputs": [
    {
     "data": {
      "text/plain": [
       "['i',\n",
       " 'me',\n",
       " 'my',\n",
       " 'myself',\n",
       " 'we',\n",
       " 'our',\n",
       " 'ours',\n",
       " 'ourselves',\n",
       " 'you',\n",
       " \"you're\",\n",
       " \"you've\",\n",
       " \"you'll\",\n",
       " \"you'd\",\n",
       " 'your',\n",
       " 'yours',\n",
       " 'yourself',\n",
       " 'yourselves',\n",
       " 'he',\n",
       " 'him',\n",
       " 'his',\n",
       " 'himself',\n",
       " 'she',\n",
       " \"she's\",\n",
       " 'her',\n",
       " 'hers',\n",
       " 'herself',\n",
       " 'it',\n",
       " \"it's\",\n",
       " 'its',\n",
       " 'itself',\n",
       " 'they',\n",
       " 'them',\n",
       " 'their',\n",
       " 'theirs',\n",
       " 'themselves',\n",
       " 'what',\n",
       " 'which',\n",
       " 'who',\n",
       " 'whom',\n",
       " 'this',\n",
       " 'that',\n",
       " \"that'll\",\n",
       " 'these',\n",
       " 'those',\n",
       " 'am',\n",
       " 'is',\n",
       " 'are',\n",
       " 'was',\n",
       " 'were',\n",
       " 'be',\n",
       " 'been',\n",
       " 'being',\n",
       " 'have',\n",
       " 'has',\n",
       " 'had',\n",
       " 'having',\n",
       " 'do',\n",
       " 'does',\n",
       " 'did',\n",
       " 'doing',\n",
       " 'a',\n",
       " 'an',\n",
       " 'the',\n",
       " 'and',\n",
       " 'but',\n",
       " 'if',\n",
       " 'or',\n",
       " 'because',\n",
       " 'as',\n",
       " 'until',\n",
       " 'while',\n",
       " 'of',\n",
       " 'at',\n",
       " 'by',\n",
       " 'for',\n",
       " 'with',\n",
       " 'about',\n",
       " 'against',\n",
       " 'between',\n",
       " 'into',\n",
       " 'through',\n",
       " 'during',\n",
       " 'before',\n",
       " 'after',\n",
       " 'above',\n",
       " 'below',\n",
       " 'to',\n",
       " 'from',\n",
       " 'up',\n",
       " 'down',\n",
       " 'in',\n",
       " 'out',\n",
       " 'on',\n",
       " 'off',\n",
       " 'over',\n",
       " 'under',\n",
       " 'again',\n",
       " 'further',\n",
       " 'then',\n",
       " 'once',\n",
       " 'here',\n",
       " 'there',\n",
       " 'when',\n",
       " 'where',\n",
       " 'why',\n",
       " 'how',\n",
       " 'all',\n",
       " 'any',\n",
       " 'both',\n",
       " 'each',\n",
       " 'few',\n",
       " 'more',\n",
       " 'most',\n",
       " 'other',\n",
       " 'some',\n",
       " 'such',\n",
       " 'no',\n",
       " 'nor',\n",
       " 'not',\n",
       " 'only',\n",
       " 'own',\n",
       " 'same',\n",
       " 'so',\n",
       " 'than',\n",
       " 'too',\n",
       " 'very',\n",
       " 's',\n",
       " 't',\n",
       " 'can',\n",
       " 'will',\n",
       " 'just',\n",
       " 'don',\n",
       " \"don't\",\n",
       " 'should',\n",
       " \"should've\",\n",
       " 'now',\n",
       " 'd',\n",
       " 'll',\n",
       " 'm',\n",
       " 'o',\n",
       " 're',\n",
       " 've',\n",
       " 'y',\n",
       " 'ain',\n",
       " 'aren',\n",
       " \"aren't\",\n",
       " 'couldn',\n",
       " \"couldn't\",\n",
       " 'didn',\n",
       " \"didn't\",\n",
       " 'doesn',\n",
       " \"doesn't\",\n",
       " 'hadn',\n",
       " \"hadn't\",\n",
       " 'hasn',\n",
       " \"hasn't\",\n",
       " 'haven',\n",
       " \"haven't\",\n",
       " 'isn',\n",
       " \"isn't\",\n",
       " 'ma',\n",
       " 'mightn',\n",
       " \"mightn't\",\n",
       " 'mustn',\n",
       " \"mustn't\",\n",
       " 'needn',\n",
       " \"needn't\",\n",
       " 'shan',\n",
       " \"shan't\",\n",
       " 'shouldn',\n",
       " \"shouldn't\",\n",
       " 'wasn',\n",
       " \"wasn't\",\n",
       " 'weren',\n",
       " \"weren't\",\n",
       " 'won',\n",
       " \"won't\",\n",
       " 'wouldn',\n",
       " \"wouldn't\"]"
      ]
     },
     "execution_count": 76,
     "metadata": {},
     "output_type": "execute_result"
    }
   ],
   "source": [
    "from nltk.corpus import stopwords\n",
    "stopwords=stopwords.words('english')\n",
    "stopwords"
   ]
  },
  {
   "cell_type": "code",
   "execution_count": 77,
   "metadata": {
    "id": "AiSjCRqx9oma"
   },
   "outputs": [],
   "source": [
    "lst=[]\n",
    "def remove_stopwords(text):\n",
    "    filtered=[word for word in text.split() if word not in stopwords]\n",
    "    return \" \".join(filtered)"
   ]
  },
  {
   "cell_type": "code",
   "execution_count": 78,
   "metadata": {
    "id": "zxgI7IFU-aPc"
   },
   "outputs": [],
   "source": [
    "df['overview']=df['overview'].apply(remove_stopwords)"
   ]
  },
  {
   "cell_type": "code",
   "execution_count": 79,
   "metadata": {
    "colab": {
     "base_uri": "https://localhost:8080/",
     "height": 70
    },
    "id": "hHLHJI6Z-cI7",
    "outputId": "3688a673-fa4f-40b7-b33e-1bf4371acd82"
   },
   "outputs": [
    {
     "data": {
      "application/vnd.google.colaboratory.intrinsic+json": {
       "type": "string"
      },
      "text/plain": [
       "\"Following death District Attorney Harvey Dent, Batman assumes responsibility Dent's crimes protect late attorney's reputation subsequently hunted Gotham City Police Department. Eight years later, Batman encounters mysterious Selina Kyle villainous Bane, new terrorist leader overwhelms Gotham's finest. The Dark Knight resurfaces protect city branded enemy.\""
      ]
     },
     "execution_count": 79,
     "metadata": {},
     "output_type": "execute_result"
    }
   ],
   "source": [
    "df.overview[3]"
   ]
  },
  {
   "cell_type": "markdown",
   "metadata": {
    "id": "yLJbH233-kXm"
   },
   "source": [
    "## Spelling Correction"
   ]
  },
  {
   "cell_type": "code",
   "execution_count": 80,
   "metadata": {
    "id": "lef4Ldpb-es7"
   },
   "outputs": [],
   "source": [
    "from textblob import TextBlob\n"
   ]
  },
  {
   "cell_type": "code",
   "execution_count": 81,
   "metadata": {
    "id": "pzhIiE-2-nlb"
   },
   "outputs": [],
   "source": [
    "def spelling_correction(text):\n",
    "    blb=TextBlob(text)\n",
    "    return blb.correct().string"
   ]
  },
  {
   "cell_type": "code",
   "execution_count": 82,
   "metadata": {
    "colab": {
     "base_uri": "https://localhost:8080/",
     "height": 35
    },
    "id": "FofjB_CK-pus",
    "outputId": "5a00422c-b472-42e0-9a2a-f30b13924e15"
   },
   "outputs": [
    {
     "data": {
      "application/vnd.google.colaboratory.intrinsic+json": {
       "type": "string"
      },
      "text/plain": [
       "'He is really certain amount of time'"
      ]
     },
     "execution_count": 82,
     "metadata": {},
     "output_type": "execute_result"
    }
   ],
   "source": [
    "spelling_correction(\"He is really certane amount of time\")"
   ]
  },
  {
   "cell_type": "code",
   "execution_count": 83,
   "metadata": {
    "id": "r9QRsmq9-rlM"
   },
   "outputs": [],
   "source": [
    "df['overview']=df['overview'].apply(spelling_correction)"
   ]
  },
  {
   "cell_type": "code",
   "execution_count": 84,
   "metadata": {
    "colab": {
     "base_uri": "https://localhost:8080/",
     "height": 70
    },
    "id": "ED6axoE9-tc8",
    "outputId": "364448a0-d83c-4471-acea-29919dec59b5"
   },
   "outputs": [
    {
     "data": {
      "application/vnd.google.colaboratory.intrinsic+json": {
       "type": "string"
      },
      "text/plain": [
       "\"Following death District Attorney Harvey Went, Batman assumes responsibility Went's crimes protect late attorney's reputation subsequently hunted Gotham City Police Department. Right years later, Batman encounters mysterious Helena Able villains Lane, new terrorist leader overwhelm Gotham's finest. The Dark Night surfaces protect city branded enemy.\""
      ]
     },
     "execution_count": 84,
     "metadata": {},
     "output_type": "execute_result"
    }
   ],
   "source": [
    "df.overview[3]"
   ]
  },
  {
   "cell_type": "markdown",
   "metadata": {
    "id": "WyN_KIN3-3Kz"
   },
   "source": [
    "## Remove Punctuations"
   ]
  },
  {
   "cell_type": "code",
   "execution_count": 85,
   "metadata": {
    "id": "ZVd1P1nc-y_m"
   },
   "outputs": [],
   "source": [
    "import string\n",
    "from string import punctuation"
   ]
  },
  {
   "cell_type": "code",
   "execution_count": 86,
   "metadata": {
    "id": "ITsSq4GS-zaw"
   },
   "outputs": [],
   "source": [
    "def remove_punctuation(text):\n",
    "    for char in text:\n",
    "        if char in punctuation:\n",
    "            text=text.replace(char,\"\")\n",
    "    return text"
   ]
  },
  {
   "cell_type": "code",
   "execution_count": 87,
   "metadata": {
    "colab": {
     "base_uri": "https://localhost:8080/",
     "height": 35
    },
    "id": "iP0HFW5mU2o0",
    "outputId": "a9a40bbc-23ed-409b-fd6b-c667595f7060"
   },
   "outputs": [
    {
     "data": {
      "application/vnd.google.colaboratory.intrinsic+json": {
       "type": "string"
      },
      "text/plain": [
       "'My name is Abdul Rehman1302'"
      ]
     },
     "execution_count": 87,
     "metadata": {},
     "output_type": "execute_result"
    }
   ],
   "source": [
    "remove_punctuation('My name is Abdul Rehman-1302#@//;.;\\/?<>')"
   ]
  },
  {
   "cell_type": "code",
   "execution_count": 88,
   "metadata": {
    "id": "D5gdfyn1-zqM"
   },
   "outputs": [],
   "source": [
    "df['overview']=df['overview'].apply(remove_punctuation)"
   ]
  },
  {
   "cell_type": "code",
   "execution_count": 89,
   "metadata": {
    "colab": {
     "base_uri": "https://localhost:8080/",
     "height": 70
    },
    "id": "n06qvSSK-z09",
    "outputId": "2f9d21e2-7af6-4ebf-9009-d8a9d55cdece"
   },
   "outputs": [
    {
     "data": {
      "application/vnd.google.colaboratory.intrinsic+json": {
       "type": "string"
      },
      "text/plain": [
       "'Following death District Attorney Harvey Went Batman assumes responsibility Wents crimes protect late attorneys reputation subsequently hunted Gotham City Police Department Right years later Batman encounters mysterious Helena Able villains Lane new terrorist leader overwhelm Gothams finest The Dark Night surfaces protect city branded enemy'"
      ]
     },
     "execution_count": 89,
     "metadata": {},
     "output_type": "execute_result"
    }
   ],
   "source": [
    "df.overview[3]"
   ]
  },
  {
   "cell_type": "markdown",
   "metadata": {
    "id": "nLbKYpPQ_FtI"
   },
   "source": [
    "## Convert the Text to Lower"
   ]
  },
  {
   "cell_type": "code",
   "execution_count": 90,
   "metadata": {
    "id": "6-AJmNpq-0GO"
   },
   "outputs": [],
   "source": [
    "df['overview']=df['overview'].str.lower()"
   ]
  },
  {
   "cell_type": "code",
   "execution_count": 91,
   "metadata": {
    "colab": {
     "base_uri": "https://localhost:8080/",
     "height": 70
    },
    "id": "lIdTqZck_KHY",
    "outputId": "1c6bd90b-0947-4758-f0e1-d1cd97a222eb"
   },
   "outputs": [
    {
     "data": {
      "application/vnd.google.colaboratory.intrinsic+json": {
       "type": "string"
      },
      "text/plain": [
       "'following death district attorney harvey went batman assumes responsibility wents crimes protect late attorneys reputation subsequently hunted gotham city police department right years later batman encounters mysterious helena able villains lane new terrorist leader overwhelm gothams finest the dark night surfaces protect city branded enemy'"
      ]
     },
     "execution_count": 91,
     "metadata": {},
     "output_type": "execute_result"
    }
   ],
   "source": [
    "df['overview'][3]"
   ]
  },
  {
   "cell_type": "markdown",
   "metadata": {
    "id": "U2gTp66JVqOz"
   },
   "source": [
    "##Stemming"
   ]
  },
  {
   "cell_type": "code",
   "execution_count": 92,
   "metadata": {
    "id": "fQuPLnFsVlo2"
   },
   "outputs": [],
   "source": [
    "import nltk\n",
    "from nltk.stem import PorterStemmer\n",
    "stemmer = PorterStemmer()"
   ]
  },
  {
   "cell_type": "code",
   "execution_count": 93,
   "metadata": {
    "id": "OAdjVmuBYEpl"
   },
   "outputs": [],
   "source": [
    "def stem_words(text):\n",
    "    return \" \".join(stemmer.stem(word) for word in text.split())"
   ]
  },
  {
   "cell_type": "code",
   "execution_count": 94,
   "metadata": {
    "colab": {
     "base_uri": "https://localhost:8080/",
     "height": 35
    },
    "id": "NWc2ZmR3YEiN",
    "outputId": "6fa030ba-af2f-4bfb-f753-e9ec57ee384b"
   },
   "outputs": [
    {
     "data": {
      "application/vnd.google.colaboratory.intrinsic+json": {
       "type": "string"
      },
      "text/plain": [
       "'follow are the word of the runner ali'"
      ]
     },
     "execution_count": 94,
     "metadata": {},
     "output_type": "execute_result"
    }
   ],
   "source": [
    "stem_words(' following are the wording of the runner Ali')"
   ]
  },
  {
   "cell_type": "code",
   "execution_count": 95,
   "metadata": {
    "id": "mRYinf2bYEZw"
   },
   "outputs": [],
   "source": [
    "df['overview']=df['overview'].apply(stem_words)"
   ]
  },
  {
   "cell_type": "code",
   "execution_count": 96,
   "metadata": {
    "colab": {
     "base_uri": "https://localhost:8080/",
     "height": 70
    },
    "id": "FGimVPtJafNK",
    "outputId": "0c7c2462-33e8-4a34-aadf-45553099a691"
   },
   "outputs": [
    {
     "data": {
      "application/vnd.google.colaboratory.intrinsic+json": {
       "type": "string"
      },
      "text/plain": [
       "'follow death district attorney harvey went batman assum respons went crime protect late attorney reput subsequ hunt gotham citi polic depart right year later batman encount mysteri helena abl villain lane new terrorist leader overwhelm gotham finest the dark night surfac protect citi brand enemi'"
      ]
     },
     "execution_count": 96,
     "metadata": {},
     "output_type": "execute_result"
    }
   ],
   "source": [
    "df['overview'][3]"
   ]
  },
  {
   "cell_type": "markdown",
   "metadata": {
    "id": "U1WRwc5XkW7O"
   },
   "source": [
    "## Tokenization"
   ]
  },
  {
   "cell_type": "code",
   "execution_count": 42,
   "metadata": {
    "colab": {
     "base_uri": "https://localhost:8080/"
    },
    "id": "pbCq5Q70kVwj",
    "outputId": "07644f37-70a9-443f-a4bf-74d11286b0b3"
   },
   "outputs": [
    {
     "name": "stderr",
     "output_type": "stream",
     "text": [
      "[nltk_data] Downloading package punkt to /root/nltk_data...\n",
      "[nltk_data]   Unzipping tokenizers/punkt.zip.\n"
     ]
    },
    {
     "data": {
      "text/plain": [
       "True"
      ]
     },
     "execution_count": 42,
     "metadata": {},
     "output_type": "execute_result"
    }
   ],
   "source": [
    "from nltk.tokenize import word_tokenize\n",
    "nltk.download('punkt')"
   ]
  },
  {
   "cell_type": "code",
   "execution_count": 43,
   "metadata": {
    "id": "QnwEWK6GkV7o"
   },
   "outputs": [],
   "source": [
    "def tokenization(text):\n",
    "    tokens=word_tokenize(text)\n",
    "    return tokens"
   ]
  },
  {
   "cell_type": "code",
   "execution_count": 44,
   "metadata": {
    "id": "LHXK_ij-kWA4"
   },
   "outputs": [],
   "source": [
    "df['overview']=df['overview'].apply(tokenization)"
   ]
  },
  {
   "cell_type": "code",
   "execution_count": 45,
   "metadata": {
    "colab": {
     "base_uri": "https://localhost:8080/"
    },
    "id": "9Q_CJLzdkWD0",
    "outputId": "e6b8e48f-6958-40a5-9aeb-40f95daffdc8"
   },
   "outputs": [
    {
     "data": {
      "text/plain": [
       "0     [in, and, centuri, paraplegia, marin, dispatch...\n",
       "1     [captain, barbossa, long, believ, dead, come, ...\n",
       "2     [a, cystic, messag, fond, ’, past, send, trail...\n",
       "3     [follow, death, district, attorney, harvey, we...\n",
       "4     [john, garter, warweari, former, militari, cap...\n",
       "                            ...                        \n",
       "95    [interstellar, chronicl, adventur, group, expl...\n",
       "96    [cobb, skill, thief, commit, corpor, espionag,...\n",
       "97    [from, mind, behind, evangelion, come, hit, la...\n",
       "98    [ilio, margin, habit, enjoy, quiet, life, swep...\n",
       "99    [domen, toretto, os, angel, street, race, susp...\n",
       "Name: overview, Length: 100, dtype: object"
      ]
     },
     "execution_count": 45,
     "metadata": {},
     "output_type": "execute_result"
    }
   ],
   "source": [
    "df['overview']"
   ]
  },
  {
   "cell_type": "code",
   "execution_count": 46,
   "metadata": {
    "colab": {
     "base_uri": "https://localhost:8080/",
     "height": 206
    },
    "id": "-tpLvVRckWG2",
    "outputId": "49efc832-1f93-4ec3-c135-dff63d73aada"
   },
   "outputs": [
    {
     "data": {
      "application/vnd.google.colaboratory.intrinsic+json": {
       "summary": "{\n  \"name\": \"df\",\n  \"rows\": 100,\n  \"fields\": [\n    {\n      \"column\": \"title\",\n      \"properties\": {\n        \"dtype\": \"string\",\n        \"num_unique_values\": 100,\n        \"samples\": [\n          \"The Lovers\",\n          \"Indiana Jones and the Kingdom of the Crystal Skull\",\n          \"Wild Wild West\"\n        ],\n        \"semantic_type\": \"\",\n        \"description\": \"\"\n      }\n    },\n    {\n      \"column\": \"overview\",\n      \"properties\": {\n        \"dtype\": \"object\",\n        \"semantic_type\": \"\",\n        \"description\": \"\"\n      }\n    }\n  ]\n}",
       "type": "dataframe",
       "variable_name": "df"
      },
      "text/html": [
       "\n",
       "  <div id=\"df-ef9335fa-3513-4ce0-b6dc-6904f8c80237\" class=\"colab-df-container\">\n",
       "    <div>\n",
       "<style scoped>\n",
       "    .dataframe tbody tr th:only-of-type {\n",
       "        vertical-align: middle;\n",
       "    }\n",
       "\n",
       "    .dataframe tbody tr th {\n",
       "        vertical-align: top;\n",
       "    }\n",
       "\n",
       "    .dataframe thead th {\n",
       "        text-align: right;\n",
       "    }\n",
       "</style>\n",
       "<table border=\"1\" class=\"dataframe\">\n",
       "  <thead>\n",
       "    <tr style=\"text-align: right;\">\n",
       "      <th></th>\n",
       "      <th>title</th>\n",
       "      <th>overview</th>\n",
       "    </tr>\n",
       "  </thead>\n",
       "  <tbody>\n",
       "    <tr>\n",
       "      <th>0</th>\n",
       "      <td>Avatar</td>\n",
       "      <td>[in, and, centuri, paraplegia, marin, dispatch...</td>\n",
       "    </tr>\n",
       "    <tr>\n",
       "      <th>1</th>\n",
       "      <td>Pirates of the Caribbean: At World's End</td>\n",
       "      <td>[captain, barbossa, long, believ, dead, come, ...</td>\n",
       "    </tr>\n",
       "    <tr>\n",
       "      <th>2</th>\n",
       "      <td>Spectre</td>\n",
       "      <td>[a, cystic, messag, fond, ’, past, send, trail...</td>\n",
       "    </tr>\n",
       "    <tr>\n",
       "      <th>3</th>\n",
       "      <td>The Dark Knight Rises</td>\n",
       "      <td>[follow, death, district, attorney, harvey, we...</td>\n",
       "    </tr>\n",
       "    <tr>\n",
       "      <th>4</th>\n",
       "      <td>John Carter</td>\n",
       "      <td>[john, garter, warweari, former, militari, cap...</td>\n",
       "    </tr>\n",
       "  </tbody>\n",
       "</table>\n",
       "</div>\n",
       "    <div class=\"colab-df-buttons\">\n",
       "\n",
       "  <div class=\"colab-df-container\">\n",
       "    <button class=\"colab-df-convert\" onclick=\"convertToInteractive('df-ef9335fa-3513-4ce0-b6dc-6904f8c80237')\"\n",
       "            title=\"Convert this dataframe to an interactive table.\"\n",
       "            style=\"display:none;\">\n",
       "\n",
       "  <svg xmlns=\"http://www.w3.org/2000/svg\" height=\"24px\" viewBox=\"0 -960 960 960\">\n",
       "    <path d=\"M120-120v-720h720v720H120Zm60-500h600v-160H180v160Zm220 220h160v-160H400v160Zm0 220h160v-160H400v160ZM180-400h160v-160H180v160Zm440 0h160v-160H620v160ZM180-180h160v-160H180v160Zm440 0h160v-160H620v160Z\"/>\n",
       "  </svg>\n",
       "    </button>\n",
       "\n",
       "  <style>\n",
       "    .colab-df-container {\n",
       "      display:flex;\n",
       "      gap: 12px;\n",
       "    }\n",
       "\n",
       "    .colab-df-convert {\n",
       "      background-color: #E8F0FE;\n",
       "      border: none;\n",
       "      border-radius: 50%;\n",
       "      cursor: pointer;\n",
       "      display: none;\n",
       "      fill: #1967D2;\n",
       "      height: 32px;\n",
       "      padding: 0 0 0 0;\n",
       "      width: 32px;\n",
       "    }\n",
       "\n",
       "    .colab-df-convert:hover {\n",
       "      background-color: #E2EBFA;\n",
       "      box-shadow: 0px 1px 2px rgba(60, 64, 67, 0.3), 0px 1px 3px 1px rgba(60, 64, 67, 0.15);\n",
       "      fill: #174EA6;\n",
       "    }\n",
       "\n",
       "    .colab-df-buttons div {\n",
       "      margin-bottom: 4px;\n",
       "    }\n",
       "\n",
       "    [theme=dark] .colab-df-convert {\n",
       "      background-color: #3B4455;\n",
       "      fill: #D2E3FC;\n",
       "    }\n",
       "\n",
       "    [theme=dark] .colab-df-convert:hover {\n",
       "      background-color: #434B5C;\n",
       "      box-shadow: 0px 1px 3px 1px rgba(0, 0, 0, 0.15);\n",
       "      filter: drop-shadow(0px 1px 2px rgba(0, 0, 0, 0.3));\n",
       "      fill: #FFFFFF;\n",
       "    }\n",
       "  </style>\n",
       "\n",
       "    <script>\n",
       "      const buttonEl =\n",
       "        document.querySelector('#df-ef9335fa-3513-4ce0-b6dc-6904f8c80237 button.colab-df-convert');\n",
       "      buttonEl.style.display =\n",
       "        google.colab.kernel.accessAllowed ? 'block' : 'none';\n",
       "\n",
       "      async function convertToInteractive(key) {\n",
       "        const element = document.querySelector('#df-ef9335fa-3513-4ce0-b6dc-6904f8c80237');\n",
       "        const dataTable =\n",
       "          await google.colab.kernel.invokeFunction('convertToInteractive',\n",
       "                                                    [key], {});\n",
       "        if (!dataTable) return;\n",
       "\n",
       "        const docLinkHtml = 'Like what you see? Visit the ' +\n",
       "          '<a target=\"_blank\" href=https://colab.research.google.com/notebooks/data_table.ipynb>data table notebook</a>'\n",
       "          + ' to learn more about interactive tables.';\n",
       "        element.innerHTML = '';\n",
       "        dataTable['output_type'] = 'display_data';\n",
       "        await google.colab.output.renderOutput(dataTable, element);\n",
       "        const docLink = document.createElement('div');\n",
       "        docLink.innerHTML = docLinkHtml;\n",
       "        element.appendChild(docLink);\n",
       "      }\n",
       "    </script>\n",
       "  </div>\n",
       "\n",
       "\n",
       "<div id=\"df-48808a70-78e0-4a41-bf8f-83222b1e81c3\">\n",
       "  <button class=\"colab-df-quickchart\" onclick=\"quickchart('df-48808a70-78e0-4a41-bf8f-83222b1e81c3')\"\n",
       "            title=\"Suggest charts\"\n",
       "            style=\"display:none;\">\n",
       "\n",
       "<svg xmlns=\"http://www.w3.org/2000/svg\" height=\"24px\"viewBox=\"0 0 24 24\"\n",
       "     width=\"24px\">\n",
       "    <g>\n",
       "        <path d=\"M19 3H5c-1.1 0-2 .9-2 2v14c0 1.1.9 2 2 2h14c1.1 0 2-.9 2-2V5c0-1.1-.9-2-2-2zM9 17H7v-7h2v7zm4 0h-2V7h2v10zm4 0h-2v-4h2v4z\"/>\n",
       "    </g>\n",
       "</svg>\n",
       "  </button>\n",
       "\n",
       "<style>\n",
       "  .colab-df-quickchart {\n",
       "      --bg-color: #E8F0FE;\n",
       "      --fill-color: #1967D2;\n",
       "      --hover-bg-color: #E2EBFA;\n",
       "      --hover-fill-color: #174EA6;\n",
       "      --disabled-fill-color: #AAA;\n",
       "      --disabled-bg-color: #DDD;\n",
       "  }\n",
       "\n",
       "  [theme=dark] .colab-df-quickchart {\n",
       "      --bg-color: #3B4455;\n",
       "      --fill-color: #D2E3FC;\n",
       "      --hover-bg-color: #434B5C;\n",
       "      --hover-fill-color: #FFFFFF;\n",
       "      --disabled-bg-color: #3B4455;\n",
       "      --disabled-fill-color: #666;\n",
       "  }\n",
       "\n",
       "  .colab-df-quickchart {\n",
       "    background-color: var(--bg-color);\n",
       "    border: none;\n",
       "    border-radius: 50%;\n",
       "    cursor: pointer;\n",
       "    display: none;\n",
       "    fill: var(--fill-color);\n",
       "    height: 32px;\n",
       "    padding: 0;\n",
       "    width: 32px;\n",
       "  }\n",
       "\n",
       "  .colab-df-quickchart:hover {\n",
       "    background-color: var(--hover-bg-color);\n",
       "    box-shadow: 0 1px 2px rgba(60, 64, 67, 0.3), 0 1px 3px 1px rgba(60, 64, 67, 0.15);\n",
       "    fill: var(--button-hover-fill-color);\n",
       "  }\n",
       "\n",
       "  .colab-df-quickchart-complete:disabled,\n",
       "  .colab-df-quickchart-complete:disabled:hover {\n",
       "    background-color: var(--disabled-bg-color);\n",
       "    fill: var(--disabled-fill-color);\n",
       "    box-shadow: none;\n",
       "  }\n",
       "\n",
       "  .colab-df-spinner {\n",
       "    border: 2px solid var(--fill-color);\n",
       "    border-color: transparent;\n",
       "    border-bottom-color: var(--fill-color);\n",
       "    animation:\n",
       "      spin 1s steps(1) infinite;\n",
       "  }\n",
       "\n",
       "  @keyframes spin {\n",
       "    0% {\n",
       "      border-color: transparent;\n",
       "      border-bottom-color: var(--fill-color);\n",
       "      border-left-color: var(--fill-color);\n",
       "    }\n",
       "    20% {\n",
       "      border-color: transparent;\n",
       "      border-left-color: var(--fill-color);\n",
       "      border-top-color: var(--fill-color);\n",
       "    }\n",
       "    30% {\n",
       "      border-color: transparent;\n",
       "      border-left-color: var(--fill-color);\n",
       "      border-top-color: var(--fill-color);\n",
       "      border-right-color: var(--fill-color);\n",
       "    }\n",
       "    40% {\n",
       "      border-color: transparent;\n",
       "      border-right-color: var(--fill-color);\n",
       "      border-top-color: var(--fill-color);\n",
       "    }\n",
       "    60% {\n",
       "      border-color: transparent;\n",
       "      border-right-color: var(--fill-color);\n",
       "    }\n",
       "    80% {\n",
       "      border-color: transparent;\n",
       "      border-right-color: var(--fill-color);\n",
       "      border-bottom-color: var(--fill-color);\n",
       "    }\n",
       "    90% {\n",
       "      border-color: transparent;\n",
       "      border-bottom-color: var(--fill-color);\n",
       "    }\n",
       "  }\n",
       "</style>\n",
       "\n",
       "  <script>\n",
       "    async function quickchart(key) {\n",
       "      const quickchartButtonEl =\n",
       "        document.querySelector('#' + key + ' button');\n",
       "      quickchartButtonEl.disabled = true;  // To prevent multiple clicks.\n",
       "      quickchartButtonEl.classList.add('colab-df-spinner');\n",
       "      try {\n",
       "        const charts = await google.colab.kernel.invokeFunction(\n",
       "            'suggestCharts', [key], {});\n",
       "      } catch (error) {\n",
       "        console.error('Error during call to suggestCharts:', error);\n",
       "      }\n",
       "      quickchartButtonEl.classList.remove('colab-df-spinner');\n",
       "      quickchartButtonEl.classList.add('colab-df-quickchart-complete');\n",
       "    }\n",
       "    (() => {\n",
       "      let quickchartButtonEl =\n",
       "        document.querySelector('#df-48808a70-78e0-4a41-bf8f-83222b1e81c3 button');\n",
       "      quickchartButtonEl.style.display =\n",
       "        google.colab.kernel.accessAllowed ? 'block' : 'none';\n",
       "    })();\n",
       "  </script>\n",
       "</div>\n",
       "\n",
       "    </div>\n",
       "  </div>\n"
      ],
      "text/plain": [
       "                                      title  \\\n",
       "0                                    Avatar   \n",
       "1  Pirates of the Caribbean: At World's End   \n",
       "2                                   Spectre   \n",
       "3                     The Dark Knight Rises   \n",
       "4                               John Carter   \n",
       "\n",
       "                                            overview  \n",
       "0  [in, and, centuri, paraplegia, marin, dispatch...  \n",
       "1  [captain, barbossa, long, believ, dead, come, ...  \n",
       "2  [a, cystic, messag, fond, ’, past, send, trail...  \n",
       "3  [follow, death, district, attorney, harvey, we...  \n",
       "4  [john, garter, warweari, former, militari, cap...  "
      ]
     },
     "execution_count": 46,
     "metadata": {},
     "output_type": "execute_result"
    }
   ],
   "source": [
    "df.head()"
   ]
  },
  {
   "cell_type": "markdown",
   "metadata": {
    "id": "LbgedDRUa0xR"
   },
   "source": [
    "# Feature Extraction"
   ]
  },
  {
   "cell_type": "markdown",
   "metadata": {
    "id": "ZZ6vKGaJnugv"
   },
   "source": [
    "## 1. One Hot Encode"
   ]
  },
  {
   "cell_type": "code",
   "execution_count": 47,
   "metadata": {
    "colab": {
     "base_uri": "https://localhost:8080/"
    },
    "id": "rMDV9o94ntld",
    "outputId": "4232527d-733d-4da5-ba9b-caedc3037bb4"
   },
   "outputs": [
    {
     "name": "stdout",
     "output_type": "stream",
     "text": [
      "['in', 'and', 'centuri', 'paraplegia', 'marin', 'dispatch', 'moon', 'candor', 'uniqu', 'mission', 'becom', 'torn', 'follow', 'order', 'protect', 'alien', 'civil', 'captain', 'barbossa', 'long', 'believ', 'dead', 'come', 'back', 'life', 'head', 'edg', 'earth', 'will', 'turner', 'elizabeth', 'want', 'but', 'noth', 'quit', 'seem', 'a', 'cystic', 'messag', 'fond', '’', 'past', 'send', 'trail', 'uncov', 'sinist', 'organ', 'while', 'm', 'battl', 'polit', 'forc', 'keep', 'secret', 'servic', 'aliv', 'fond', 'feel', 'back', 'layer', 'deceit', 'reveal', 'terribl', 'truth', 'behind', 'spectr', 'follow', 'death', 'district', 'attorney', 'harvey', 'went', 'batman', 'assum', 'respons', 'went', 'crime', 'protect', 'late', 'attorney', 'reput', 'subsequ', 'hunt', 'gotham', 'citi', 'polic', 'depart', 'right', 'year', 'later', 'batman', 'encount', 'mysteri', 'helena', 'abl', 'villain', 'lane', 'new', 'terrorist', 'leader', 'overwhelm', 'gotham', 'finest', 'the', 'dark', 'night', 'surfac', 'protect', 'citi', 'brand', 'enemi', 'john', 'garter', 'warweari', 'former', 'militari', 'captain', 'who', 'inexplic', 'transport', 'mysteri', 'exot', 'planet', 'barsoom', 'war', 'reluctantli', 'becom', 'embroil', 'epic', 'conflict', 'it', 'world', 'brink', 'collaps', 'garter', 'rediscov', 'human', 'realiz', 'surviv', 'barsoom', 'peopl', 'rest', 'hand', 'the', 'seemingli', 'invinc', 'spideran', 'goe', 'allnew', 'crop', 'villain', '–', 'includ', 'shapeshift', 'madman', 'while', 'spideran', '’', 'superpow', 'alter', 'alien', 'organ', 'alter', 'ego', 'peter', 'parker', 'deal', 'genesi', 'die', 'frock', 'also', 'get', 'caught', 'love', 'triangl', 'when', 'kingdom', 'wantedand', 'charmingbandit', 'lynn', 'wider', 'hide', 'mysteri', 'tower', 'he', 'taken', 'hostag', 'rapunzel', 'beauti', 'fifti', 'towerbound', 'been', '70', 'feet', 'magic', 'golden', 'hair', 'lynn', 'curiou', 'castor', 'who', 'look', 'ticket', 'tower', 'lock', 'away', 'year', 'strike', 'deal', 'handsom', 'thief', 'unlik', 'do', 'set', 'actionpack', 'escapad', 'complet', 'supercop', 'hors', 'overprotect', 'chameleon', 'gruff', 'gang', 'pub', 'thu', 'when', 'boni', 'stark', 'tri', 'jumpstart', 'dormant', 'peacekeep', 'program', 'thing', 'go', 'awri', 'earth', '’', 'lightest', 'hero', 'put', 'ultim', 'test', 'fate', 'planet', 'hang', 'balanc', 'is', 'villain', 'patron', 'emerg', 'the', 'aveng', 'stop', 'enact', 'terribl', 'plan', 'soon', 'uneasi', 'allianc', 'unexpect', 'action', 'have', 'way', 'epic', 'uniqu', 'global', 'adventur', 'is', 'carri', 'begin', 'sixth', 'year', 'hogwart', 'discov', 'old', 'book', 'mark', 'properti', 'halfblood', 'princ', 'begin', 'learn', 'word', 'voldemort', 'dark', 'past', 'hear', 'action', 'godlik', 'super', 'hero', 'left', 'check', 'gotham', 'city', '’', 'formid', 'forc', 'vigil', 'take', 'metropolis', '’', 'rever', 'modernday', 'savior', 'world', 'wrestl', 'sort', 'hero', 'realli', 'need', 'and', 'batman', 'superman', 'war', 'one', 'anoth', 'new', 'threat', 'quickli', 'aris', 'put', 'mankind', 'greater', 'danger', 'it', '’', 'ever', 'known', 'befor', 'superman', 'return', 'discov', '5year', 'absenc', 'allow', 'ex', 'author', 'walk', 'free', 'closest', 'felt', 'abandon', 'move', 'on', 'author', 'plot', 'ultim', 'reveng', 'could', 'see', 'million', 'kill', 'chang', 'face', 'planet', 'forev', 'well', 'ride', 'an', 'steel', 'quantum', 'solac', 'continu', 'adventur', 'jame', 'fond', 'basin', 'royal', 'betray', 'deeper', 'woman', 'love', '007', 'fight', 'urg', 'make', 'latest', 'mission', 'person', 'pursu', 'determin', 'uncov', 'truth', 'fond', 'm', 'interrog', 'or', 'white', 'reveal', 'organ', 'blackmail', 'deeper', 'far', 'complex', 'danger', 'anyon', 'imagin', 'captain', 'back', 'sparrow', 'work', 'way', 'blood', 'debt', 'ghostli', 'have', 'bone', 'also', 'attempt', 'avoid', 'etern', 'donat', 'the', 'texa', 'danger', 'chase', 'gang', 'outlaw', 'led', 'dutch', 'cavendish', 'gang', 'bush', 'danger', 'seemingli', 'kill', 'all', 'one', 'survivor', 'found', 'howev', 'american', 'indian', 'name', 'onto', 'nurs', 'back', 'health', 'the', 'danger', 'don', 'mask', 'ride', 'white', 'stallion', 'name', 'silver', 'tear', 'onto', 'bring', 'unscrupul', 'gang', 'other', 'ill', 'justic', 'a', 'young', 'boy', 'learn', 'extraordinari', 'power', 'earth', 'is', 'young', 'man', 'journey', 'discov', 'came', 'sent', 'do', 'but', 'hero', 'must', 'emerg', 'save', 'world', 'annihil', 'becom', 'symbol', 'hope', 'mankind', 'one', 'year', 'incred', 'adventur', 'lion', 'pitch', 'wardrob', 'peter', 'edmund', 'luci', 'susan', 'pevensi', 'return', 'hernia', 'aid', 'young', 'princ', 'whose', 'life', 'threaten', 'evil', 'king', 'diaz', 'now', 'help', 'colour', 'cast', 'new', 'charact', 'includ', 'trufflehunt', 'badg', 'nikabrik', 'dwarf', 'pevensi', 'clan', 'embark', 'incred', 'quest', 'ensur', 'hernia', 'return', 'right', 'heir', 'when', 'unexpect', 'enemi', 'emerg', 'threaten', 'global', 'safeti', 'secur', 'sick', 'juri', 'director', 'intern', 'peacekeep', 'agenc', 'known', 'shield', 'find', 'need', 'team', 'pull', 'world', 'back', 'brink', 'disast', 'span', 'globe', 'dare', 'recruit', 'effort', 'begin', 'captain', 'back', 'sparrow', 'cross', 'path', 'woman', 'past', 'he', 'sure', 'love', 'ruthless', 'con', 'artist', 'who', 'use', 'find', 'fail', 'mountain', 'south', 'when', 'forc', 'aboard', 'queen', 'ann', 'reveng', 'ship', 'formid', 'pirat', 'blackbeard', 'back', 'find', 'unexpect', 'adventur', 'know', 'fear', 'more', 'blackbeard', 'woman', 'past', 'agent', 'j', 'will', 'smith', 'k', 'tommi', 'see', 'bone', 'backin', 'time', 'j', 'seen', 'inexplic', 'thing', '15', 'year', 'men', 'black', 'noth', 'even', 'alien', 'perplex', 'much', 'wri', 'retic', 'partner', 'but', 'ks', 'life', 'fate', 'planet', 'put', 'stake', 'agent', 'j', 'travel', 'back', 'year', 'eye', 'put', 'thing', 'right', 'j', 'discov', 'secret', 'univers', 'k', 'never', 'told', 'secret', 'reveal', 'tear', 'young', 'agent', 'k', 'most', 'groin', 'save', 'partner', 'agenc', 'futur', 'mankind', 'immedi', 'event', 'the', 'desol', 'mug', 'ilio', 'wave', 'tri', 'defend', 'tremor', 'mountain', 'treasur', 'other', 'claim', 'it', 'men', 'ruin', 'laketown', 'eav', 'firewood', 'meanwhil', 'armi', 'arm', 'led', 'dog', 'defil', 'march', 'tremor', 'field', 'rise', 'dark', 'lord', 'baron', 'wave', 'eav', 'men', 'must', 'unit', 'hope', 'middleearth', 'fall', 'ilio', 'hand', 'peter', 'parker', 'outcast', 'high', 'schooner', 'abandon', 'parent', 'boy', 'leav', 'rais', 'uncl', 'men', 'aunt', 'may', 'like', 'teenag', 'peter', 'tri', 'figur', 'got', 'person', 'today', 'is', 'peter', 'discov', 'mysteri', 'briefcas', 'belong', 'father', 'begin', 'quest', 'understand', 'parent', 'disappear', '–', 'lead', 'directli', 'score', 'lab', 'or', 'hurt', 'honor', 'father', 'former', 'partner', 'is', 'spideran', 'set', 'collis', 'cours', 'honor', 'alter', 'ego', 'the', 'wizard', 'peter', 'make', 'lifealt', 'choic', 'use', 'power', 'shape', 'destini', 'becom', 'hero', 'when', 'soldier', 'robin', 'happen', 'upon', 'die', 'robert', 'volley', 'promis', 'return', 'man', 'sword', 'famili', 'nottingham', 'there', 'assum', 'robert', 'ident', 'romanc', 'widow', 'marion', 'draw', 'ire', 'town', 'sheriff', 'king', 'john', 'frenchman', 'godfrey', 'the', 'wave', 'ilio', 'gandalf', 'success', 'escap', 'misti', 'mountain', 'ilio', 'gain', 'one', 'king', 'they', 'continu', 'journey', 'get', 'gold', 'back', 'dragon', 'mug', 'after', 'overhear', 'shock', 'secret', 'preciou', 'orphan', 'vera', 'belacqua', 'trade', 'carefre', 'exist', 'roam', 'hall', 'jordan', 'colleg', 'otherworldli', 'adventur', 'far', 'north', 'unawar', 'part', 'destini', 'in', '1933', 'new', 'work', 'overlay', 'ambiti', 'movi', 'produc', 'coerc', 'cast', 'hire', 'ship', 'crew', 'travel', 'mysteri', 'skull', 'island', 'encount', 'long', 'giant', 'ape', 'immedi', 'smitten', 'lead', 'ladi', '84', 'year', 'later', '101yearold', 'woman', 'name', 'rose', 'dewitt', 'bukat', 'tell', 'stori', 'granddaught', 'dizzi', 'alert', 'frock', 'covert', 'lewi', 'iodin', 'hobbi', 'quell', 'anatol', 'mikailavich', 'keldysh', 'life', 'set', 'april', 'with', '1912', 'ship', 'call', 'titan', 'young', 'rose', 'board', 'depart', 'ship', 'upperclass', 'passeng', 'mother', 'ruth', 'dewitt', 'bukat', 'fianc', 'caledon', 'jockey', 'meanwhil', 'drift', 'artist', 'name', 'back', 'dawson', 'best', 'friend', 'fabrizio', 'he', 'loss', 'win', 'thirdclass', 'ticket', 'ship', 'game', 'and', 'explain', 'whole', 'stori', 'departur', 'death', 'titan', 'first', 'last', 'voyag', 'april', 'with', '1912', '220', 'morn', 'follow', 'event', 'age', 'patron', 'collect', 'govern', 'world', 'pass', 'act', 'design', 'regul', 'superhuman', 'activ', 'hi', 'polar', 'opinion', 'amongst', 'aveng', 'caus', 'two', 'faction', 'side', 'iron', 'an', 'captain', 'america', 'caus', 'epic', 'battl', 'former', 'alli', 'when', 'mankind', 'beam', 'radio', 'signal', 'space', 'repli', 'come', '‘', 'planet', 'g', '’', 'form', 'sever', 'alien', 'craft', 'splash', 'water', 'hawaii', 'lieuten', 'flex', 'copper', 'weapon', 'offic', 'assign', 'uss', 'john', 'paul', 'bone', 'part', 'intern', 'naval', 'coalit', 'becom', 'world', 'last', 'hope', 'surviv', 'engag', 'hostil', 'alien', 'forc', 'unimagin', 'strength', 'while', 'take', 'invad', 'copper', 'must', 'also', 'tri', 'live', 'potenti', 'brother', 'fiance', 'father', 'admir', 'have', 'expect', 'him', 'twentytwo', 'year', 'event', 'jurass', 'dark', 'sea', 'tubular', 'featur', 'fulli', 'sanction', 'dinosaur', 'theme', 'park', 'jurass', 'world', 'origin', 'envis', 'john', 'hammond', 'when', 'fond', 'latest', 'assign', 'goe', 'grave', 'wrong', 'agent', 'around', 'world', 'expos', 'mi6', 'attack', 'forc', 'm', 'delic', 'agenc', 'these', 'event', 'caus', 'author', 'posit', 'challeng', 'earth', 'pallor', 'new', 'chairman', 'intellig', 'secur', 'committe', 'with', 'mi6', 'compromis', 'insid', 'out', 'm', 'left', 'one', 'alli', 'trust', 'fond', '007', 'take', 'shadow', 'aid', 'field', 'agent', 've', 'follow', 'trail', 'mysteri', 'ilya', 'whose', 'lethal', 'hidden', 'motiv', 'yet', 'reveal', 'themselv', 'peter', 'parker', 'go', 'major', 'ident', 'crisi', 'turn', 'spideran', 'decid', 'shelv', 'superhero', 'alter', 'ego', 'leav', 'citi', 'suffer', 'wake', 'carnag', 'left', 'evil', 'of', 'back', 'in', 'meantim', 'parker', 'still', 'cant', 'act', 'feel', 'mari', 'lane', 'watson', 'girl', 'he', 'love', 'sinc', 'childhood', 'when', 'boni', 'stark', 'world', 'torn', 'apart', 'formid', 'terrorist', 'call', 'mandarin', 'start', 'odyssey', 'rebuild', 'retribut', 'alic', 'unpretenti', 'individu', '19yearold', 'betroth', 'danc', 'english', 'nobleman', 'it', 'engag', 'parti', 'escap', 'crowd', 'consid', 'whether', 'go', 'marriag', 'fall', 'hole', 'garden', 'sport', 'unusu', 'rabbit', 'arriv', 'strang', 'surrey', 'place', 'call', 'underland', 'find', 'world', 'resembl', 'nightmar', 'child', 'fill', 'talk', 'anim', 'villain', 'queen', 'knight', 'furiou', 'bandersnatch', 'alic', 'realiz', 'reason', '–', 'conquer', 'horrifi', 'jabberwocki', 'restor', 'right', 'queen', 'throne', 'when', 'cure', 'found', 'treat', 'mutat', 'line', 'drawn', 'amongst', 'xmen', 'the', 'brotherhood', 'band', 'power', 'mutant', 'organ', 'easier', 'former', 'alli', 'magnet', 'a', 'look', 'relationship', 'like', 'pulley', 'day', 'monster', 'univers', '—', 'necessarili', 'best', 'friend', 'am', 'witwicki', 'leav', 'autobot', 'behind', 'normal', 'life', 'but', 'mind', 'fill', 'cystic', 'symbol', 'recept', 'target', 'drag', 'back', 'transform', 'war', 'is', 'human', 'pick', 'piec', 'follow', 'conclus', 'transform', 'dark', 'soon', 'autobot', 'recept', 'vanish', 'face', 'planet', 'howev', 'group', 'power', 'ingeni', 'businessman', 'scientist', 'attempt', 'learn', 'past', 'transform', 'incurs', 'push', 'boundari', 'technolog', 'beyond', 'control', 'ancient', 'power', 'transform', 'menac', 'set', 'earth', 'crosshair', 'scar', 'sign', 'smalltim', 'circu', 'illusionist', 'conartist', 'whiskey', 'kansa', 'and', 'z', 'inhabit', 'assum', 'he', 'great', 'wizard', 'propheci', 'save', 'z', 'clutch', 'evil', 'for', 'peter', 'parker', 'life', 'busi', 'between', 'take', 'bad', 'gun', 'spideran', 'spend', 'year', 'eye', 'person', 'love', 'wen', 'stay', 'high', 'school', 'granul', 'can', 'not', 'come', 'quickli', 'enough', 'peter', 'forgotten', 'promis', 'made', 'wen', '’', 'father', 'protect', 'stay', 'away', 'promis', 'can', 'not', 'keep', 'thing', 'chang', 'peter', 'new', 'villain', 'elector', 'emerg', 'old', 'friend', 'carri', 'born', 'return', 'peter', 'uncov', 'new', 'clue', 'past', 'am', 'lynn', 'teachnavvi', 'dare', 'son', 'even', 'lynn', 'investig', 'father', 'disappear', 'pull', 'the', 'rid', 'with', 'help', 'mysteri', 'program', 'name', 'hourra', 'am', 'quest', 'stop', 'evil', 'dictat', 'you', 'cross', 'real', 'world', 'star', 'race', 'car', 'lightn', 'mcqueen', 'pal', 'later', 'head', 'oversea', 'compet', 'world', 'grand', 'six', 'race', 'but', 'road', 'championship', 'becom', 'rocki', 'later', 'get', 'caught', 'intrigu', 'adventur', 'own', 'intern', 'espionag', 'for', 'centuri', 'small', 'power', 'forc', 'warrior', 'call', 'green', 'lantern', 'corp', 'sworn', 'keep', 'intergalact', 'order', 'each', 'green', 'lantern', 'wear', 'ring', 'grant', 'superpow', 'but', 'new', 'enemi', 'call', 'parallax', 'threaten', 'destroy', 'balanc', 'power', 'univers', 'fate', 'fate', 'earth', 'lie', 'hand', 'first', 'human', 'ever', 'recruit', 'moodi', 'buzz', 'rest', 'andi', 'toy', 'play', 'year', 'with', 'andi', 'go', 'colleg', 'gang', 'find', 'accident', 'left', 'nefari', 'day', 'care', 'center', 'the', 'toy', 'must', 'band', 'togeth', 'escap', 'return', 'home', 'andi', 'all', 'grown', 'postapocalypt', '2018', 'john', 'honor', 'must', 'lead', 'resist', 'human', 'increasingli', 'domin', 'militarist', 'root', 'but', 'marcu', 'right', 'appear', 'exist', 'confus', 'mission', 'honor', 'tri', 'determin', 'whether', 'right', 'come', 'futur', 'past', 'whether', 'he', 'friend', 'foe', 'deckard', 'thaw', 'seek', 'reveng', 'domin', 'toretto', 'famili', 'compos', 'brother', 'life', 'former', 'unit', 'nation', 'investig', 'merri', 'lane', 'famili', 'seem', 'content', 'suddenli', 'world', 'plagu', 'mysteri', 'infect', 'turn', 'whole', 'human', 'popul', 'damag', 'endless', 'hobbi', 'after', 'bare', 'escap', 'chao', 'lane', 'persuad', 'go', 'mission', 'investig', 'diseas', 'that', 'follow', 'peril', 'tree', 'around', 'world', 'lane', 'must', 'brave', 'horrifi', 'danger', 'long', 'odd', 'find', 'answer', 'human', 'civil', 'fall', 'the', 'ultim', 'xmen', 'resembl', 'fight', 'war', 'surviv', 'speci', 'across', 'two', 'year', 'eye', 'period', 'join', 'forc', 'younger', 'serv', 'epic', 'battl', 'must', 'chang', 'past', '–', 'save', 'futur', 'when', 'crew', 'enterpris', 'call', 'back', 'home', 'find', 'unstopp', 'forc', 'terror', 'within', 'organ', 'deton', 'fleet', 'everyth', 'stand', 'for', 'leav', 'world', 'state', 'crisi', 'with', 'person', 'score', 'settl', 'captain', 'kirk', 'lead', 'manhunt', 'warzon', 'world', 'captur', 'one', 'man', 'weapon', 'mass', 'destruct', 'is', 'hero', 'repel', 'epic', 'chess', 'game', 'life', 'death', 'love', 'challeng', 'friendship', 'torn', 'apart', 'sacrific', 'must', 'made', 'famili', 'kirk', 'left', 'crew', 'the', 'stori', 'ancient', 'war', 'reign', 'young', 'farrand', 'unwittingli', 'open', 'gateway', 'world', 'wearisom', 'race', 'giant', 'unleash', 'earth', 'first', 'year', 'eye', 'centuri', 'giant', 'strive', 'reclaim', 'land', 'lost', 'forc', 'young', 'man', 'back', 'battl', 'life', 'stop', 'them', 'fight', 'kingdom', 'peopl', 'love', 'brave', 'princess', 'come', 'face', 'face', 'unstopp', 'warrior', 'thought', 'exist', 'legend–and', 'get', 'chanc', 'becom', 'legend', 'himself', 'in', 'adapt', 'f', 'scott', 'fitzgerald', 'long', 'islandset', 'novel', 'midwestern', 'sick', 'faraway', 'lure', 'lavish', 'world', 'neighbor', 'may', 'gatsbi', 'soon', 'enough', 'howev', 'faraway', 'see', 'crack', 'gatsbi', 'nouveau', 'rich', 'exist', 'possess', 'mad', 'tragedi', 'await', 'a', 'rogu', 'princ', 'reluctantli', 'join', 'forc', 'mysteri', 'princess', 'togeth', 'race', 'dark', 'forc', 'safeguard', 'ancient', 'dagger', 'capabl', 'releas', 'hand', 'year', 'eye', '–', 'gift', 'god', 'revers', 'year', 'eye', 'allow', 'possessor', 'rule', 'world', 'when', 'lesion', 'monstrou', 'creatur', 'known', 'kaiju', 'start', 'rise', 'sea', 'war', 'began', 'would', 'take', 'million', 'live', 'consum', 'human', 'resourc', 'year', 'end', 'to', 'combat', 'giant', 'kaiju', 'special', 'type', 'weapon', 'devis', 'massiv', 'root', 'call', 'danger', 'control', 'simultan', 'two', 'pilot', 'whose', 'mind', 'lock', 'neutral', 'bridg', 'but', 'even', 'danger', 'prove', 'nearli', 'defenseless', 'face', 'relentless', 'kaiju', 'in', 'verg', 'defeat', 'forc', 'defend', 'mankind', 'choic', 'turn', 'two', 'unlik', 'heroes—a', 'washedup', 'former', 'pilot', 'charli', 'unna', 'invest', 'traine', 'into', 'kikuchi—who', 'term', 'drive', 'legendari', 'seemingli', 'obsolet', 'danger', 'past', 'togeth', 'stand', 'mankind', 'last', 'hope', 'mount', 'apocalyps', 'am', 'witwicki', 'take', 'first', 'tendon', 'step', 'adulthood', 'remain', 'reluct', 'human', 'alli', 'autobotlead', 'optimu', 'crime', 'the', 'film', 'center', 'around', 'space', 'race', 'ussr', 'usa', 'suggest', 'hidden', 'transform', 'role', 'remain', 'one', 'planet', 'danger', 'secret', 'met', 'old', 'war', 'soviet', '–', 'led', 'swordwield', 'irina', 'spalko', '–', 'search', 'crystal', 'skull', 'supernatur', 'power', 'relat', 'mystic', 'most', 'citi', 'old', 'after', 'captur', 'escap', 'them', 'andi', 'coerc', 'head', 'peru', 'best', 'young', 'man', 'whose', 'friend', '–', 'andi', 'colleagu', '–', 'professor', 'alley', 'captur', 'knowledg', 'skull', 'whereabout', 'in', 'epic', 'journey', 'world', 'dinosaur', 'apatosauru', 'name', 'orlov', 'make', 'unlik', 'human', 'friend', 'grave', 'set', 'mystic', 'scottish', 'highland', 'mérida', 'princess', 'kingdom', 'rule', 'king', 'serou', 'queen', 'minor', 'in', 'unduli', 'daughter', 'accomplish', 'arch', 'mérida', 'one', 'day', 'defin', 'sacr', 'custom', 'land', 'inadvert', 'bring', 'turmoil', 'kingdom', 'in', 'attempt', 'set', 'thing', 'right', 'mérida', 'seek', 'eccentr', 'old', 'rise', 'woman', 'grant', 'illfat', 'wish', 'also', 'fire', 'mérida', '’', 'quest', '—', 'serv', 'comic', 'relief', '—', 'kingdom', '’', 'three', 'lord', 'enorm', 'word', 'macguffin', 'surli', 'word', 'farintosh', 'disagre', 'word', 'dingwal', 'the', 'uss', 'enterpris', 'crew', 'explor', 'furthest', 'reach', 'unchang', 'space', 'encount', 'mysteri', 'new', 'enemi', 'put', 'everyth', 'feder', 'stand', 'test', 'wall·', 'last', 'root', 'left', 'earth', 'overrun', 'garag', 'human', 'fled', 'outer', 'space', 'for', '700', 'year', 'continu', 'tri', 'clean', 'mess', 'develop', 'rather', 'interest', 'humanlik', 'qualiti', 'when', 'ship', 'arriv', 'sleek', 'new', 'type', 'root', 'wall·', 'think', 'he', 'final', 'found', 'friend', 'show', 'away', 'ship', 'leav', 'after', 'attempt', 'assassin', 'ambassador', 'an', 'inspector', 'see', 'detect', 'garter', 'back', 'action', 'head', 'pari', 'protect', 'french', 'woman', 'knowledg', 'road', 'secret', 'leader', 'see', 'also', 'hold', 'secret', 'meet', 'unit', 'nation', 'author', 'person', 'struggl', 'chines', 'crimin', 'master', 'name', 'henri', 'reveal', 'see', 'longlostbroth', 'or', 'adrian', 'helmsley', 'part', 'worldwid', 'geophys', 'team', 'investig', 'effect', 'earth', 'radiat', 'unpreced', 'solar', 'storm', 'learn', 'earth', 'core', 'heat', 'up', 'he', 'warn', 'us', 'presid', 'thoma', 'wilson', 'crust', 'earth', 'becom', 'unstabl', 'without', 'proper', 'prepar', 'save', 'fraction', 'world', 'popul', 'entir', 'race', 'doom', 'meanwhil', 'writer', 'jackson', 'curti', 'stumbl', 'inform', 'while', 'world', 'leader', 'race', 'build', 'arm', 'escap', 'impend', 'cataclysm', 'curti', 'struggl', 'find', 'way', 'save', 'famili', 'meanwhil', 'volcan', 'erupt', 'earthquak', 'unpreced', 'strength', 'break', 'havoc', 'around', 'world', 'wiser', 'ebenez', 'scroog', 'awaken', 'christma', 've', 'spirit', 'reveal', 'miser', 'exist', 'opportun', 'wast', 'youth', 'current', 'cruelti', 'dire', 'fate', 'await', 'chang', 'way', 'scroog', 'face', 'stori', 'grow', 'bitter', 'mean', 'must', 'decid', 'futur', 'hold', 'death', 'redempt', 'in', 'univers', 'human', 'genet', 'materi', 'preciou', 'commod', 'impoverish', 'young', 'earth', 'woman', 'becom', 'key', 'strateg', 'maneuv', 'intern', 'strife', 'within', 'power', 'dynasty…', 'kazan', 'acclim', 'life', 'london', 'call', 'back', 'former', 'home', 'jungl', 'investig', 'activ', 'mine', 'encamp', 'will', 'luci', 'edmund', 'susan', 'peter', 'step', 'magic', 'wardrob', 'find', 'land', 'hernia', 'there', 'discov', 'charm', 'peac', 'kingdom', 'plung', 'etern', 'winter', 'evil', 'white', 'pitch', 'ladi', 'aid', 'wise', 'magnific', 'lion', 'plan', 'children', 'lead', 'hernia', 'spectacular', 'climact', 'battl', 'free', 'pitch', 'facial', 'power', 'forev', 'after', 'reemerg', 'world', 'first', 'meant', 'worlddestroy', 'apocalyps', 'xmen', 'must', 'unit', 'defeat', 'extinct', 'level', 'plan', 'batman', 'rais', 'stake', 'war', 'crime', 'with', 'help', 'it', 'him', 'gordon', 'district', 'attorney', 'harvey', 'went', 'batman', 'set', 'dismantl', 'remain', 'crimin', 'organ', 'plagu', 'street', 'the', 'partnership', 'prove', 'effect', 'soon', 'find', 'prey', 'reign', 'chao', 'unleash', 'rise', 'crimin', 'master', 'known', 'terrifi', 'citizen', 'gotham', 'poker', 'karl', 'fredricksen', 'spent', 'entir', 'life', 'dream', 'explor', 'globe', 'experienc', 'life', 'fullest', 'but', 'age', '78', 'life', 'seem', 'pass', 'by', 'twist', 'fate', 'and', 'persist', '8year', 'old', 'wilder', 'explor', 'name', 'russel', 'give', 'new', 'leas', 'life', 'when', 'susan', 'murphi', 'unwittingli', 'clamber', 'method', 'full', 'outer', 'space', 'gun', 'wed', 'day', 'mysteri', 'grow', '49feet11inch', 'the', 'militari', 'jump', 'action', 'captur', 'susan', 'secret', 'away', 'covert', 'govern', 'compound', 'the', 'renam', 'ginormica', 'place', 'confin', 'rage', 'group', 'monster', 'after', 'held', 'captiv', 'afghan', 'cave', 'millionair', 'engin', 'boni', 'stark', 'creat', 'uniqu', 'weapon', 'suit', 'armor', 'fight', 'evil', 'hugo', 'orphan', 'boy', 'live', 'wall', 'train', 'station', '1930', 'pari', 'he', 'learn', 'fix', 'clock', 'badg', 'father', 'uncl', 'put', 'use', 'keep', 'train', 'station', 'clock', 'run', 'the', 'thing', 'left', 'connect', 'dead', 'father', 'automat', 'mechan', 'man', 'work', 'without', 'special', 'key', 'hugo', 'need', 'find', 'clock', 'secret', 'believ', 'contain', 'in', 'adventur', 'meet', 'shopkeep', 'georg', 'seri', 'work', 'train', 'station', 'adventureseek', 'goddaught', 'hugo', 'find', 'surpris', 'connect', 'father', 'automat', 'discov', 'unlock', 'memori', 'old', 'man', 'buri', 'insid', 'regard', 'past', 'wigless', 'southern', 'inventor', 'or', 'bliss', 'hopeless', 'plan', 'kindl', 'civil', 'war', 'assassin', 'presid', 'us', 'grant', 'onli', 'two', 'men', 'stop', 'him', 'gunfight', 'jame', 'west', 'masterofdisguis', 'inventor', 'artemu', 'gordon', 'the', 'two', 'must', 'team', 'thwart', 'hopeless', 'plan', 'archaeologist', 'sick', 'ocornel', 'travel', 'china', 'pit', 'emperor', '2000yearold', 'an', 'dynasti', 'who', 'return', 'dead', 'pursu', 'quest', 'world', 'domin', 'hi', 'time', 'ocornel', 'enlist', 'help', 'wife', 'son', 'quasi', 'socal', 'dragon', 'emperor', 'abus', 'supernatur', 'power', 'from', 'of', 'topic', 'come', 'suicid', 'squad', 'antihero', 'team', 'incarcer', 'supervillain', 'act', 'enabl', 'asset', 'unit', 'state', 'govern', 'undertak', 'highrisk', 'black', 'op', 'mission', 'exchang', 'commut', 'prison', 'sentenc', 'god', 'contact', 'congressmen', 'van', 'baxter', 'tell', 'build', 'ark', 'prepar', 'great', 'flood', 'major', 'will', 'age', 'offic', 'never', 'seen', 'day', 'combat', 'ceremoni', 'devot', 'drop', 'combat', 'age', 'kill', 'within', 'minut', 'manag', 'take', 'alpha', 'alien', 'him', 'he', 'awaken', 'back', 'begin', 'day', 'forc', 'fight', 'die', 'again', 'physic', 'contact', 'alien', 'thrown', 'year', 'eye', 'loop', 'in', 'futurist', 'world', 'polar', 'ice', 'cap', 'melt', 'made', 'earth', 'liquid', 'planet', 'beauti', 'barmaid', 'rescu', 'meant', 'seafar', 'float', 'island', 'prison', 'they', 'escap', 'along', 'young', 'charg', 'knoll', 'sail', 'aboard', 'ship', 'but', 'trip', 'soon', 'becom', 'target', 'menac', 'pirat', 'cover', 'map', 'maryland', '–', 'tattoo', 'knoll', 'back', 'from', 'egyptian', 'desert', 'deep', 'polar', 'ice', 'cap', 'elit', 'gi', 'joe', 'team', 'use', 'latest', 'nextgener', 'spi', 'militari', 'equip', 'fight', 'corrupt', 'arm', 'dealer', 'destroy', 'grow', 'threat', 'mysteri', 'dora', 'organ', 'prevent', 'plung', 'world', 'chao', 'grow', 'bump', 'road', 'except', 'mile', 'promot', 'widest', 'life', 'father', 'start', 'new', 'job', 'an', 'francisco', 'like', 'us', 'mile', 'guid', 'emot', 'boy', 'dear', 'anger', 'disgust', 'sad', 'the', 'emot', 'live', 'headquart', 'control', 'center', 'insid', 'miless', 'mind', 'help', 'advis', 'everyday', 'life', 'is', 'mile', 'emot', 'struggl', 'adjust', 'new', 'life', 'an', 'francisco', 'turmoil', 'ensu', 'headquart', 'although', 'boy', 'miless', 'main', 'import', 'emot', 'tri', 'keep', 'thing', 'posit', 'emot', 'conflict', 'best', 'navig', 'new', 'citi', 'hous', 'school', 'after', 'threat', 'tiger', 'there', 'than', 'forc', 'flee', 'jungl', 'mancub', 'name', 'mowgli', 'embark', 'journey', 'self', 'discoveri', 'help', 'anoth', 'bagheera', 'free', 'spirit', 'bear', 'also', 'with', 'world', 'awar', 'dual', 'life', 'arm', 'superhero', 'iron', 'an', 'millionair', 'inventor', 'boni', 'stark', 'face', 'pressur', 'govern', 'press', 'public', 'share', 'technolog', 'militari', 'unwil', 'let', 'go', 'invent', 'stark', 'pepper', 'boot', 'jame', 'rhode', 'rhode', 'side', 'must', 'forg', 'new', 'allianc', '–', 'confront', 'power', 'enemi', 'after', 'evil', 'queen', 'marri', 'king', 'perform', 'violent', 'coup', 'king', 'murder', 'daughter', 'now', 'white', 'taken', 'captiv', 'almost', 'decad', 'later', 'grown', 'now', 'white', 'still', 'clutch', 'queen', 'in', 'order', 'obtain', 'immort', 'the', 'evil', 'queen', 'need', 'heart', 'now', 'white', 'after', 'now', 'escap', 'castl', 'queen', 'send', 'huntsman', 'find', 'dark', 'forest', 'the', 'untold', 'stori', 'kidney', 'iron', 'villain', '1959', 'classic', 'sleep', 'beauti', 'a', 'beauti', 'pureheart', 'young', 'woman', 'malefic', 'idyl', 'life', 'grow', 'peaceabl', 'forest', 'kingdom', 'one', 'day', 'invad', 'armi', 'threaten', 'harmoni', 'land', 'malefic', 'rise', 'land', 'fierc', 'protector', 'ultim', 'suffer', 'ruthless', 'betray', '–', 'act', 'begin', 'turn', 'heart', 'stone', 'went', 'reveng', 'malefic', 'face', 'epic', 'battl', 'invad', 'king', 'successor', 'and', 'result', 'place', 'curs', 'upon', 'newton', 'infant', 'aurora', 'is', 'child', 'grow', 'malefic', 'realiz', 'aurora', 'hold', 'key', 'peac', 'kingdom', 'malefic', 'true', 'happi', 'well', 'a', 'group', 'scientist', 'an', 'francisco', 'struggl', 'stay', 'aliv', 'aftermath', 'plagu', 'wipe', 'human', 'caesar', 'tri', 'maintain', 'domin', 'commun', 'intellig', 'ape', 'the', 'cover', 'epic', 'romanc', 'year', 'eye', 'travel', 'adventur', 'film', 'seem', 'poland', 'off', 'stori', 'they', 'jhankar', 'film', 'sweep', 'tale', 'imposs', 'love', 'set', 'backdrop', 'first', 'anglomartha', 'war', 'across', 'two', 'year', 'eye', 'period', 'contin', 'centr', 'around', 'four', 'charact', '—', 'british', 'offic', 'with', 'centuri', 'coloni', 'india', 'indian', 'woman', 'fall', 'deepli', 'love', 'with', 'american', 'presentday', 'marin', 'biologist', 'wife', 'base', 'origin', '1941', 'movi', 'japan', 'ancient', 'japan', '’', 'endur', 'tale', 'epic', 'of', 'fantasyadventur', '47', 'join', 'born', 'mean', 'nerv', 'lead', 'cast', 'ai', 'outcast', 'join', 'wish', 'hiroyuki', 'canada', 'leader', '47', 'outcast', 'samurai', 'togeth', 'seek', 'vengeanc', 'upon', 'treacher', 'overland', 'kill', 'master', 'banish', 'kind', 'to', 'restor', 'honor', 'holland', 'warrior', 'embark', 'upon', 'quest', 'challeng', 'seri', 'trial', 'would', 'destroy', 'ordinari', 'warrior', 'after', 'cataclysm', 'event', 'new', 'work', 'the', 'aveng', 'steve', 'roger', 'ak', 'captain', 'america', 'live', 'quietli', 'washington', 'dc', 'tri', 'adjust', 'modern', 'world', 'but', 'shield', 'colleagu', 'come', 'attack', 'steve', 'becom', 'embroil', 'web', 'intrigu', 'threaten', 'put', 'world', 'risk', 'join', 'forc', 'black', 'widow', 'captain', 'america', 'struggl', 'expos', 'everwiden', 'conspiraci', 'fight', 'profession', 'assassin', 'sent', 'silenc', 'everi', 'turn', 'when', 'full', 'scope', 'villain', 'plot', 'reveal', 'captain', 'america', 'black', 'widow', 'enlist', 'help', 'new', 'alli', 'falcon', 'howev', 'soon', 'find', 'unexpect', 'formid', 'enemy—th', 'winter', 'soldier', 'a', 'bore', 'domest', 'three', 'part', 'dealmak', 'rumpelstiltskin', 'get', 'back', 'feel', 'like', 'real', 'ore', 'again', 'he', 'dump', 'sent', 'twist', 'version', 'war', 'war', 'way—wher', 'rumpelstiltskin', 'king', 'ore', 'hunt', 'vilna', 'never', 'met—h', 'set', 'restor', 'world', 'reclaim', 'true', 'love', 'round', 'share', 'destini', 'bright', 'optimist', 'been', 'burst', 'scientif', 'curios', 'former', 'boygeniu', 'inventor', 'jade', 'disillusion', 'embark', 'dangerfil', 'mission', 'earth', 'secret', 'enigmat', 'place', 'somewher', 'year', 'eye', 'space', 'exist', 'collect', 'memori', 'tomorrowland', 'the', 'special', 'bond', 'develop', 'plussiz', 'inflamm', 'root', 'layman', 'prodigi', 'fire', 'canada', 'team', 'group', 'friend', 'form', 'band', 'highteach', 'hero', 'wreckit', 'ralph', '9foottal', '643pound', 'villain', 'arcad', 'video', 'game', 'name', 'sixit', 'felix', 'or', 'game', 'tubular', 'hero', 'fix', 'build', 'ralph', 'destroy', 'pant', 'prove', 'good', 'guy', 'villain', 'ralph', 'escap', 'game', 'land', 'hero', 'duti', 'firstperson', 'shorter', 'help', 'game', 'hero', 'battl', 'alien', 'invad', 'he', 'later', 'enter', 'sugar', 'rush', 'part', 'race', 'game', 'set', 'track', 'made', 'candl', 'coloni', 'sweet', 'there', 'ralph', 'meet', 'vanellop', 'von', 'schweetz', 'learn', 'game', 'face', 'dire', 'threat', 'could', 'affect', 'entir', 'arcad', 'one', 'ralph', 'may', 'inadvert', 'start', 'when', 'doubt', 'young', 'boy', 'take', 'extraordinari', 'train', 'ride', 'north', 'sole', 'embark', 'journey', 'selfdiscoveri', 'show', 'wonder', 'life', 'never', 'fade', 'believ', 'he', 'alway', 'knew', 'come', 'back', 'use', 'recov', 'alien', 'technolog', 'nation', 'earth', 'collabor', 'immens', 'defens', 'program', 'protect', 'planet', 'but', 'noth', 'prepar', 'us', 'aliens', '’', 'advanc', 'unpreced', 'forc', 'onli', 'ingenu', 'brave', 'men', 'women', 'bring', 'world', 'back', 'brink', 'extinct', 'is', 'son', 'like', 'leader', 'cusp', 'manhood', 'shi', 'hiccup', 'horrend', 'braddock', 'iii', 'face', 'rite', 'passag', 'must', 'kill', 'dragon', 'prove', 'warrior', 'mettl', 'but', 'own', 'fear', 'dragon', 'realiz', 'longer', 'want', 'destroy', 'it', 'instead', 'befriend', 'beast', '–', 'name', 'toothless', '–', 'much', 'chagrin', 'warrior', 'father', 'it', '10', 'year', 'sinc', 'john', 'honor', 'save', 'earth', 'judgment', 'may', 'he', 'live', 'rear', 'sneer', 'clear', 'use', 'anyth', 'skynet', 'trace', 'that', 'is', 'encount', 'tx', 'robot', 'assassin', 'order', 'finish', 't1000', 'start', 'good', 'thing', 'honor', 'former', 'genesi', 'termin', 'back', 'aid', 'nowadult', 'honor', '…', 'like', 'promis', 'right', 'year', 'earth', '26', 'year', 'abduct', 'peter', 'quill', 'find', 'prime', 'target', 'manhunt', 'discov', 'orb', 'want', 'conan', 'accus', 'interstellar', 'chronicl', 'adventur', 'group', 'explor', 'make', 'use', 'newli', 'discov', 'wormhol', 'surplu', 'limit', 'human', 'space', 'travel', 'conquer', 'vast', 'distanc', 'involv', 'interstellar', 'voyag', 'cobb', 'skill', 'thief', 'commit', 'corpor', 'espionag', 'infiltr', 'unconsci', 'target', 'offer', 'chanc', 'regain', 'old', 'life', 'payment', 'task', 'consid', 'imposs', 'incept', 'implant', 'anoth', 'person', 'idea', 'target', 'unconsci', 'from', 'mind', 'behind', 'evangelion', 'come', 'hit', 'larger', 'life', 'when', 'massiv', 'kill', 'monster', 'emerg', 'deep', 'tear', 'citi', 'govern', 'scrambl', 'save', 'citizen', 'a', 'ragtag', 'team', 'volunt', 'cut', 'web', 'red', 'tape', 'uncov', 'monster', 'weak', 'mysteri', 'tie', 'foreign', 'superpow', 'but', 'year', 'eye', 'side', 'greatest', 'catastroph', 'ever', 'befal', 'world', 'evolv', 'right', 'eye', 'ilio', 'margin', 'habit', 'enjoy', 'quiet', 'life', 'swept', 'epic', 'quest', 'gandalf', 'grey', 'thirteen', 'wave', 'seek', 'reclaim', 'mountain', 'home', 'mug', 'dragon', 'domen', 'toretto', 'os', 'angel', 'street', 'race', 'suspect', 'mastermind', 'seri', 'bigfig', 'hijack', 'when', 'undercov', 'cop', 'brian', 'olong', 'infiltr', 'toretto', 'iconoclast', 'crew', 'fall', 'toretto', 'sister', 'must', 'choos', 'side', 'gang', 'lapd']\n"
     ]
    }
   ],
   "source": [
    "vocabolary=[token for sublist in df['overview'] for token in sublist ]\n",
    "print(vocabolary)"
   ]
  },
  {
   "cell_type": "code",
   "execution_count": 48,
   "metadata": {
    "colab": {
     "base_uri": "https://localhost:8080/"
    },
    "id": "x44svoxQntbG",
    "outputId": "b5105b78-02e2-43ce-d2da-3af4af7de3ac"
   },
   "outputs": [
    {
     "data": {
      "text/plain": [
       "3602"
      ]
     },
     "execution_count": 48,
     "metadata": {},
     "output_type": "execute_result"
    }
   ],
   "source": [
    "len(vocabolary)"
   ]
  },
  {
   "cell_type": "code",
   "execution_count": 49,
   "metadata": {
    "colab": {
     "base_uri": "https://localhost:8080/"
    },
    "id": "dcTIbuJMp_MJ",
    "outputId": "6443066b-8efb-42c9-c3a9-7e276acd61ea"
   },
   "outputs": [
    {
     "name": "stdout",
     "output_type": "stream",
     "text": [
      "Token to Index Mapping: {'in': 2857, 'and': 2931, 'centuri': 3011, 'paraplegia': 3, 'marin': 3022, 'dispatch': 5, 'moon': 6, 'candor': 7, 'uniqu': 2419, 'mission': 3205, 'becom': 3106, 'torn': 1661, 'follow': 1571, 'order': 3428, 'protect': 3342, 'alien': 3334, 'civil': 2502, 'captain': 3137, 'barbossa': 18, 'long': 1727, 'believ': 3326, 'dead': 2539, 'come': 3512, 'back': 3438, 'life': 3560, 'head': 2088, 'edg': 26, 'earth': 3447, 'will': 2595, 'turner': 29, 'elizabeth': 30, 'want': 3459, 'but': 3543, 'noth': 3345, 'quit': 34, 'seem': 2981, 'a': 3528, 'cystic': 1252, 'messag': 38, 'fond': 1088, '’': 3349, 'past': 2493, 'send': 2873, 'trail': 1097, 'uncov': 3536, 'sinist': 45, 'organ': 2699, 'while': 2160, 'm': 1083, 'battl': 3271, 'polit': 50, 'forc': 3352, 'keep': 2760, 'secret': 3207, 'servic': 54, 'aliv': 2960, 'feel': 3163, 'layer': 59, 'deceit': 60, 'reveal': 3136, 'terribl': 255, 'truth': 384, 'behind': 3510, 'spectr': 65, 'death': 2215, 'district': 2313, 'attorney': 2314, 'harvey': 2315, 'went': 2922, 'batman': 2317, 'assum': 1308, 'respons': 74, 'crime': 2307, 'late': 78, 'reput': 80, 'subsequ': 81, 'hunt': 3179, 'gotham': 2341, 'citi': 3523, 'polic': 85, 'depart': 896, 'right': 3553, 'year': 3544, 'later': 3275, 'encount': 3424, 'mysteri': 3539, 'helena': 93, 'abl': 94, 'villain': 3259, 'lane': 1576, 'new': 3143, 'terrorist': 1151, 'leader': 3366, 'overwhelm': 100, 'finest': 102, 'the': 3218, 'dark': 2876, 'night': 105, 'surfac': 106, 'brand': 109, 'enemi': 2832, 'john': 3407, 'garter': 2085, 'warweari': 113, 'former': 3435, 'militari': 2813, 'who': 2537, 'inexplic': 608, 'transport': 119, 'exot': 121, 'planet': 3343, 'barsoom': 139, 'war': 3174, 'reluctantli': 1756, 'embroil': 3107, 'epic': 3562, 'conflict': 2764, 'it': 3403, 'world': 3551, 'brink': 3361, 'collaps': 133, 'rediscov': 135, 'human': 3474, 'realiz': 3387, 'surviv': 1594, 'peopl': 1705, 'rest': 1470, 'hand': 1770, 'seemingli': 1856, 'invinc': 145, 'spideran': 1326, 'goe': 1052, 'allnew': 148, 'crop': 149, '–': 3398, 'includ': 512, 'shapeshift': 153, 'madman': 154, 'superpow': 3542, 'alter': 1118, 'ego': 1119, 'peter': 3451, 'parker': 1319, 'deal': 208, 'genesi': 3436, 'die': 2622, 'frock': 876, 'also': 2792, 'get': 3161, 'caught': 1422, 'love': 3188, 'triangl': 174, 'when': 3585, 'kingdom': 2948, 'wantedand': 177, 'charmingbandit': 178, 'lynn': 1379, 'wider': 180, 'hide': 181, 'tower': 203, 'he': 3413, 'taken': 2846, 'hostag': 186, 'rapunzel': 187, 'beauti': 2889, 'fifti': 189, 'towerbound': 190, 'been': 3194, '70': 192, 'feet': 193, 'magic': 2256, 'golden': 195, 'hair': 196, 'curiou': 198, 'castor': 199, 'look': 1231, 'ticket': 920, 'lock': 1821, 'away': 2397, 'strike': 207, 'handsom': 209, 'thief': 3485, 'unlik': 1950, 'do': 471, 'set': 3282, 'actionpack': 214, 'escapad': 215, 'complet': 216, 'supercop': 217, 'hors': 218, 'overprotect': 219, 'chameleon': 220, 'gruff': 221, 'gang': 3600, 'pub': 223, 'thu': 224, 'boni': 2804, 'stark': 2818, 'tri': 3096, 'jumpstart': 229, 'dormant': 230, 'peacekeep': 539, 'program': 3341, 'thing': 3433, 'go': 2816, 'awri': 235, 'lightest': 238, 'hero': 3270, 'put': 3111, 'ultim': 2912, 'test': 2036, 'fate': 2362, 'hang': 245, 'balanc': 1456, 'is': 3423, 'patron': 941, 'emerg': 3520, 'aveng': 3086, 'stop': 2511, 'enact': 254, 'plan': 2526, 'soon': 3147, 'uneasi': 258, 'allianc': 2828, 'unexpect': 3149, 'action': 2393, 'have': 1026, 'way': 2204, 'global': 532, 'adventur': 3464, 'carri': 1365, 'begin': 2918, 'sixth': 271, 'hogwart': 273, 'discov': 3470, 'old': 3495, 'book': 276, 'mark': 277, 'properti': 278, 'halfblood': 279, 'princ': 1755, 'learn': 3294, 'word': 2017, 'voldemort': 284, 'hear': 287, 'godlik': 289, 'super': 290, 'left': 2450, 'check': 293, 'city': 295, 'formid': 3150, 'vigil': 299, 'take': 3312, 'metropolis': 301, 'rever': 303, 'modernday': 304, 'savior': 305, 'wrestl': 307, 'sort': 308, 'realli': 310, 'need': 2864, 'superman': 331, 'one': 3303, 'anoth': 3503, 'threat': 3298, 'quickli': 1340, 'aris': 321, 'mankind': 1862, 'greater': 324, 'danger': 1896, 'ever': 3549, 'known': 2338, 'befor': 330, 'return': 2538, '5year': 334, 'absenc': 335, 'allow': 1779, 'ex': 337, 'author': 2104, 'walk': 339, 'free': 2789, 'closest': 341, 'felt': 342, 'abandon': 706, 'move': 344, 'on': 345, 'plot': 3135, 'reveng': 2923, 'could': 3299, 'see': 2113, 'million': 1796, 'kill': 3518, 'chang': 2203, 'face': 3374, 'forev': 2288, 'well': 2952, 'ride': 3315, 'an': 2956, 'steel': 361, 'quantum': 362, 'solac': 363, 'continu': 2051, 'jame': 2821, 'basin': 368, 'royal': 369, 'betray': 2915, 'deeper': 393, 'woman': 3015, '007': 1089, 'fight': 3124, 'urg': 376, 'make': 3467, 'latest': 2685, 'person': 3504, 'pursu': 2540, 'determin': 1519, 'interrog': 387, 'or': 3247, 'white': 2867, 'blackmail': 392, 'far': 832, 'complex': 395, 'anyon': 397, 'imagin': 398, 'sparrow': 559, 'work': 3084, 'blood': 404, 'debt': 405, 'ghostli': 406, 'bone': 997, 'attempt': 2078, 'avoid': 411, 'etern': 2267, 'donat': 413, 'texa': 415, 'chase': 417, 'outlaw': 419, 'led': 1903, 'dutch': 421, 'cavendish': 422, 'bush': 424, 'all': 1496, 'survivor': 430, 'found': 2071, 'howev': 3146, 'american': 3020, 'indian': 3014, 'name': 3396, 'onto': 450, 'nurs': 437, 'health': 439, 'don': 442, 'mask': 443, 'stallion': 446, 'silver': 448, 'tear': 3522, 'bring': 3358, 'unscrupul': 452, 'other': 670, 'ill': 455, 'justic': 456, 'young': 3310, 'boy': 3311, 'extraordinari': 3313, 'power': 2831, 'man': 2489, 'journey': 3319, 'came': 469, 'sent': 3170, 'must': 3597, 'save': 3526, 'annihil': 478, 'symbol': 1253, 'hope': 1864, 'incred': 520, 'lion': 2276, 'pitch': 2285, 'wardrob': 2257, 'edmund': 2252, 'luci': 2251, 'susan': 2395, 'pevensi': 517, 'hernia': 2280, 'aid': 3439, 'whose': 1929, 'threaten': 3110, 'evil': 2862, 'king': 3177, 'diaz': 505, 'now': 2869, 'help': 3268, 'colour': 508, 'cast': 3044, 'charact': 3006, 'trufflehunt': 513, 'badg': 2438, 'nikabrik': 515, 'dwarf': 516, 'clan': 518, 'embark': 3318, 'quest': 3563, 'ensur': 522, 'heir': 526, 'safeti': 533, 'secur': 1076, 'sick': 2528, 'juri': 536, 'director': 537, 'intern': 2232, 'agenc': 1064, 'shield': 3101, 'find': 3453, 'team': 3530, 'pull': 1383, 'disast': 550, 'span': 551, 'globe': 2350, 'dare': 1376, 'recruit': 1467, 'effort': 555, 'cross': 1398, 'path': 561, 'sure': 565, 'ruthless': 2914, 'con': 568, 'artist': 909, 'use': 3468, 'fail': 573, 'mountain': 3570, 'south': 575, 'aboard': 2657, 'queen': 2872, 'ann': 580, 'ship': 2658, 'pirat': 2665, 'blackbeard': 593, 'know': 590, 'fear': 3385, 'more': 592, 'agent': 1094, 'j': 638, 'smith': 599, 'k': 650, 'tommi': 601, 'backin': 604, 'time': 2545, 'seen': 2599, '15': 610, 'men': 3356, 'black': 3139, 'even': 1825, 'perplex': 617, 'much': 3399, 'wri': 619, 'retic': 620, 'partner': 745, 'ks': 623, 'stake': 2305, 'travel': 3476, 'eye': 3554, 'univers': 2218, 'never': 3324, 'told': 644, 'most': 1915, 'groin': 652, 'futur': 2213, 'immedi': 858, 'event': 3082, 'desol': 661, 'mug': 3572, 'ilio': 3555, 'wave': 3567, 'defend': 1837, 'tremor': 685, 'treasur': 669, 'claim': 671, 'ruin': 674, 'laketown': 675, 'eav': 692, 'firewood': 677, 'meanwhil': 2175, 'armi': 2903, 'arm': 2798, 'dog': 682, 'defil': 683, 'march': 684, 'field': 1093, 'rise': 2908, 'lord': 2009, 'baron': 690, 'unit': 2571, 'middleearth': 697, 'fall': 3594, 'outcast': 3053, 'high': 1334, 'schooner': 705, 'parent': 733, 'leav': 2076, 'rais': 2304, 'uncl': 2440, 'aunt': 713, 'may': 3412, 'like': 3443, 'teenag': 716, 'figur': 719, 'got': 720, 'today': 722, 'briefcas': 727, 'belong': 728, 'father': 3402, 'understand': 732, 'disappear': 1382, 'lead': 3043, 'directli': 737, 'score': 1636, 'lab': 739, 'hurt': 741, 'honor': 3441, 'collis': 749, 'cours': 750, 'wizard': 1311, 'lifealt': 758, 'choic': 1839, 'shape': 762, 'destini': 3191, 'soldier': 3153, 'robin': 768, 'happen': 769, 'upon': 3071, 'robert': 782, 'volley': 773, 'promis': 3444, 'sword': 777, 'famili': 2174, 'nottingham': 779, 'there': 3288, 'ident': 1111, 'romanc': 2975, 'widow': 3140, 'marion': 786, 'draw': 787, 'ire': 788, 'town': 789, 'sheriff': 790, 'frenchman': 793, 'godfrey': 794, 'gandalf': 3564, 'success': 799, 'escap': 3261, 'misti': 801, 'gain': 804, 'they': 2985, 'gold': 811, 'dragon': 3573, 'after': 3080, 'overhear': 816, 'shock': 817, 'preciou': 2222, 'orphan': 2426, 'vera': 821, 'belacqua': 822, 'trade': 823, 'carefre': 824, 'exist': 3214, 'roam': 826, 'hall': 827, 'jordan': 828, 'colleg': 1478, 'otherworldli': 830, 'north': 3316, 'unawar': 834, 'part': 3279, '1933': 838, 'overlay': 841, 'ambiti': 842, 'movi': 3028, 'produc': 844, 'coerc': 1923, 'hire': 847, 'crew': 3593, 'skull': 1939, 'island': 2648, 'giant': 1805, 'ape': 2971, 'smitten': 859, 'ladi': 2272, '84': 862, '101yearold': 865, 'rose': 894, 'dewitt': 902, 'bukat': 903, 'tell': 2588, 'stori': 2984, 'granddaught': 873, 'dizzi': 874, 'alert': 875, 'covert': 2398, 'lewi': 878, 'iodin': 879, 'hobbi': 1559, 'quell': 881, 'anatol': 882, 'mikailavich': 883, 'keldysh': 884, 'april': 933, 'with': 3019, '1912': 935, 'call': 2241, 'titan': 929, 'board': 895, 'upperclass': 898, 'passeng': 899, 'mother': 900, 'ruth': 901, 'fianc': 904, 'caledon': 905, 'jockey': 906, 'drift': 908, 'dawson': 912, 'best': 2765, 'friend': 3231, 'fabrizio': 915, 'loss': 917, 'win': 918, 'thirdclass': 919, 'game': 3295, 'explain': 924, 'whole': 1554, 'departur': 927, 'first': 2994, 'last': 2038, 'voyag': 3482, '220': 936, 'morn': 937, 'age': 2606, 'collect': 3215, 'govern': 3524, 'pass': 2359, 'act': 2917, 'design': 947, 'regul': 948, 'superhuman': 949, 'activ': 2247, 'hi': 2544, 'polar': 2677, 'opinion': 953, 'amongst': 1218, 'caus': 1067, 'two': 2998, 'faction': 958, 'side': 3599, 'iron': 2882, 'america': 3138, 'alli': 3144, 'beam': 971, 'radio': 972, 'signal': 973, 'space': 3475, 'repli': 975, '‘': 977, 'g': 979, 'form': 3232, 'sever': 982, 'craft': 984, 'splash': 985, 'water': 986, 'hawaii': 987, 'lieuten': 988, 'flex': 989, 'copper': 1016, 'weapon': 2420, 'offic': 3009, 'assign': 1051, 'uss': 2020, 'paul': 996, 'naval': 1000, 'coalit': 1001, 'engag': 1167, 'hostil': 1008, 'unimagin': 1011, 'strength': 2180, 'invad': 3273, 'live': 3414, 'potenti': 1021, 'brother': 1537, 'fiance': 1023, 'admir': 1025, 'expect': 1027, 'him': 2614, 'twentytwo': 1029, 'jurass': 1042, 'sea': 1791, 'tubular': 3249, 'featur': 1036, 'fulli': 1037, 'sanction': 1038, 'dinosaur': 1945, 'theme': 1040, 'park': 1041, 'origin': 3026, 'envis': 1045, 'hammond': 1047, 'grave': 1953, 'wrong': 1054, 'around': 3004, 'expos': 3121, 'mi6': 1079, 'attack': 3104, 'delic': 1063, 'these': 1065, 'posit': 2762, 'challeng': 3073, 'pallor': 1072, 'chairman': 1074, 'intellig': 2970, 'committe': 1077, 'compromis': 1080, 'insid': 2734, 'out': 1082, 'trust': 1087, 'shadow': 1091, 've': 2190, 'ilya': 1099, 'lethal': 1101, 'hidden': 1890, 'motiv': 1103, 'yet': 1104, 'themselv': 1106, 'major': 2594, 'crisi': 1633, 'turn': 3130, 'decid': 2212, 'shelv': 1116, 'superhero': 2799, 'suffer': 2913, 'wake': 1123, 'carnag': 1124, 'of': 3036, 'meantim': 1130, 'still': 2854, 'cant': 1133, 'mari': 1136, 'watson': 1138, 'girl': 1139, 'sinc': 3406, 'childhood': 1143, 'apart': 1662, 'mandarin': 1153, 'start': 3431, 'odyssey': 1155, 'rebuild': 1156, 'retribut': 1157, 'alic': 1200, 'unpretenti': 1159, 'individu': 1160, '19yearold': 1161, 'betroth': 1162, 'danc': 1163, 'english': 1164, 'nobleman': 1165, 'parti': 1168, 'crowd': 1170, 'consid': 3499, 'whether': 1525, 'marriag': 1174, 'hole': 1176, 'garden': 1177, 'sport': 1178, 'unusu': 1179, 'rabbit': 1180, 'arriv': 2062, 'strang': 1182, 'surrey': 1183, 'place': 3209, 'underland': 1186, 'resembl': 1591, 'nightmar': 1190, 'child': 2940, 'fill': 1251, 'talk': 1193, 'anim': 1194, 'knight': 1197, 'furiou': 1198, 'bandersnatch': 1199, 'reason': 1202, 'conquer': 3477, 'horrifi': 1579, 'jabberwocki': 1206, 'restor': 3184, 'throne': 1210, 'cure': 1212, 'treat': 1214, 'mutat': 1215, 'line': 1216, 'drawn': 1217, 'xmen': 2296, 'brotherhood': 1221, 'band': 3233, 'mutant': 1224, 'easier': 1226, 'magnet': 1229, 'relationship': 1232, 'pulley': 1234, 'day': 2901, 'monster': 3537, '—': 3007, 'necessarili': 1239, 'am': 1867, 'witwicki': 1868, 'autobot': 1269, 'normal': 1247, 'mind': 3509, 'recept': 1270, 'target': 3506, 'drag': 1256, 'transform': 1891, 'pick': 1262, 'piec': 1263, 'conclus': 1265, 'vanish': 1271, 'group': 3465, 'ingeni': 1277, 'businessman': 1278, 'scientist': 2955, 'incurs': 1284, 'push': 1285, 'boundari': 1286, 'technolog': 3335, 'beyond': 1288, 'control': 2732, 'ancient': 3030, 'menac': 2664, 'crosshair': 1296, 'scar': 1297, 'sign': 1298, 'smalltim': 1299, 'circu': 1300, 'illusionist': 1301, 'conartist': 1302, 'whiskey': 1303, 'kansa': 1304, 'z': 1314, 'inhabit': 1307, 'great': 2592, 'propheci': 1312, 'clutch': 2855, 'for': 2048, 'busi': 1321, 'between': 1322, 'bad': 1324, 'gun': 2384, 'spend': 1327, 'wen': 1346, 'stay': 2959, 'school': 2770, 'granul': 1336, 'can': 1353, 'not': 1354, 'enough': 1740, 'forgotten': 1343, 'made': 3284, 'elector': 1361, 'born': 3040, 'clue': 1371, 'teachnavvi': 1375, 'son': 3364, 'investig': 2246, 'rid': 1385, 'hourra': 1391, 'dictat': 1396, 'you': 1397, 'real': 3165, 'star': 1401, 'race': 3579, 'car': 1403, 'lightn': 1404, 'mcqueen': 1405, 'pal': 1406, 'oversea': 1409, 'compet': 1410, 'grand': 1412, 'six': 1413, 'road': 2706, 'championship': 1417, 'rocki': 1419, 'intrigu': 3109, 'own': 3384, 'espionag': 3488, 'small': 1430, 'warrior': 3401, 'green': 1443, 'lantern': 1444, 'corp': 1437, 'sworn': 1438, 'intergalact': 1440, 'each': 1442, 'wear': 1445, 'ring': 1446, 'grant': 2507, 'parallax': 1453, 'destroy': 3390, 'lie': 1462, 'moodi': 1468, 'buzz': 1469, 'andi': 1932, 'toy': 1488, 'play': 1473, 'accident': 1481, 'nefari': 1483, 'care': 1485, 'center': 2733, 'togeth': 3055, 'home': 3571, 'grown': 2851, 'postapocalypt': 1498, '2018': 1499, 'resist': 1504, 'increasingli': 1506, 'domin': 2968, 'militarist': 1508, 'root': 3224, 'marcu': 1511, 'appear': 1513, 'confus': 1515, 'foe': 1528, 'deckard': 1529, 'thaw': 1530, 'seek': 3568, 'toretto': 3595, 'compos': 1536, 'nation': 3336, 'merri': 1543, 'content': 1547, 'suddenli': 1548, 'plagu': 2962, 'infect': 1552, 'popul': 2150, 'damag': 1557, 'endless': 1558, 'bare': 1561, 'chao': 2703, 'persuad': 1565, 'diseas': 1569, 'that': 3422, 'peril': 1572, 'tree': 1573, 'brave': 3355, 'odd': 1582, 'answer': 1584, 'speci': 1595, 'across': 2997, 'period': 3001, 'join': 3114, 'younger': 1603, 'serv': 2002, 'enterpris': 2021, 'unstopp': 1712, 'terror': 1622, 'within': 2608, 'deton': 1625, 'fleet': 1626, 'everyth': 2033, 'stand': 2035, 'state': 2572, 'settl': 1637, 'kirk': 1667, 'manhunt': 3456, 'warzon': 1642, 'captur': 2394, 'mass': 1648, 'destruct': 1649, 'repel': 1652, 'chess': 1654, 'friendship': 1660, 'sacrific': 1663, 'reign': 2332, 'farrand': 1676, 'unwittingli': 2378, 'open': 1678, 'gateway': 1679, 'wearisom': 1681, 'unleash': 2334, 'strive': 1691, 'reclaim': 3569, 'land': 3263, 'lost': 1694, 'them': 1921, 'princess': 1959, 'thought': 1714, 'legend–and': 1716, 'chanc': 3493, 'legend': 1720, 'himself': 1721, 'adapt': 1723, 'f': 1724, 'scott': 1725, 'fitzgerald': 1726, 'islandset': 1728, 'novel': 1729, 'midwestern': 1730, 'faraway': 1742, 'lure': 1733, 'lavish': 1734, 'neighbor': 1736, 'gatsbi': 1745, 'crack': 1744, 'nouveau': 1746, 'rich': 1747, 'possess': 1749, 'mad': 1750, 'tragedi': 1751, 'await': 2202, 'rogu': 1754, 'safeguard': 1765, 'dagger': 1767, 'capabl': 1768, 'releas': 1769, 'gift': 1774, 'god': 2583, 'revers': 1776, 'possessor': 1780, 'rule': 1961, 'lesion': 1784, 'monstrou': 1785, 'creatur': 1786, 'kaiju': 1832, 'began': 1793, 'would': 3076, 'consum': 1798, 'resourc': 1800, 'end': 1802, 'to': 3065, 'combat': 2605, 'special': 3219, 'type': 2065, 'devis': 1810, 'massiv': 3517, 'simultan': 1816, 'pilot': 1846, 'neutral': 1822, 'bridg': 1823, 'prove': 3380, 'nearli': 1828, 'defenseless': 1829, 'relentless': 1831, 'verg': 1834, 'defeat': 2299, 'heroes—a': 1843, 'washedup': 1844, 'charli': 1847, 'unna': 1848, 'invest': 1849, 'traine': 1850, 'into': 1851, 'kikuchi—who': 1852, 'term': 1853, 'drive': 1854, 'legendari': 1855, 'obsolet': 1857, 'mount': 1865, 'apocalyps': 2295, 'tendon': 1871, 'step': 2255, 'adulthood': 1873, 'remain': 2320, 'reluct': 1875, 'autobotlead': 1878, 'optimu': 1879, 'film': 2987, 'ussr': 1887, 'usa': 1888, 'suggest': 1889, 'role': 1892, 'met': 1898, 'soviet': 1901, 'swordwield': 1904, 'irina': 1905, 'spalko': 1906, 'search': 1908, 'crystal': 1909, 'supernatur': 2556, 'relat': 1913, 'mystic': 1955, 'peru': 1925, 'colleagu': 3102, 'professor': 1935, 'alley': 1936, 'knowledg': 2093, 'whereabout': 1940, 'apatosauru': 1946, 'orlov': 1948, 'scottish': 1956, 'highland': 1957, 'mérida': 1998, 'serou': 1963, 'minor': 1965, 'unduli': 1967, 'daughter': 2843, 'accomplish': 1969, 'arch': 1970, 'defin': 1974, 'sacr': 1975, 'custom': 1976, 'inadvert': 3306, 'turmoil': 2750, 'eccentr': 1989, 'illfat': 1994, 'wish': 3048, 'fire': 3227, 'comic': 2003, 'relief': 2004, 'three': 3157, 'enorm': 2010, 'macguffin': 2012, 'surli': 2013, 'farintosh': 2015, 'disagre': 2016, 'dingwal': 2018, 'explor': 3466, 'furthest': 2024, 'reach': 2025, 'unchang': 2026, 'feder': 2034, 'wall·': 2067, 'overrun': 2042, 'garag': 2043, 'fled': 2045, 'outer': 2382, '700': 2049, 'clean': 2053, 'mess': 2054, 'develop': 3221, 'rather': 2056, 'interest': 2057, 'humanlik': 2058, 'qualiti': 2059, 'sleek': 2063, 'think': 2068, 'final': 2070, 'show': 3321, 'assassin': 3427, 'ambassador': 2080, 'inspector': 2082, 'detect': 2084, 'pari': 2433, 'french': 2091, 'hold': 2945, 'meet': 3290, 'struggl': 3120, 'chines': 2107, 'crimin': 2336, 'master': 3062, 'henri': 2111, 'longlostbroth': 2114, 'adrian': 2116, 'helmsley': 2117, 'worldwid': 2119, 'geophys': 2120, 'effect': 2328, 'radiat': 2125, 'unpreced': 3351, 'solar': 2127, 'storm': 2128, 'core': 2131, 'heat': 2132, 'up': 2133, 'warn': 2135, 'us': 3347, 'presid': 2505, 'thoma': 2138, 'wilson': 2139, 'crust': 2140, 'unstabl': 2143, 'without': 2458, 'proper': 2145, 'prepar': 3346, 'fraction': 2148, 'entir': 3301, 'doom': 2153, 'writer': 2155, 'jackson': 2156, 'curti': 2169, 'stumbl': 2158, 'inform': 2159, 'build': 3252, 'impend': 2167, 'cataclysm': 3081, 'volcan': 2176, 'erupt': 2177, 'earthquak': 2178, 'break': 2181, 'havoc': 2182, 'wiser': 2185, 'ebenez': 2186, 'scroog': 2205, 'awaken': 2616, 'christma': 2189, 'spirit': 2790, 'miser': 2193, 'opportun': 2195, 'wast': 2196, 'youth': 2197, 'current': 2198, 'cruelti': 2199, 'dire': 3297, 'grow': 2941, 'bitter': 2209, 'mean': 3041, 'redempt': 2216, 'genet': 2220, 'materi': 2221, 'commod': 2223, 'impoverish': 2224, 'key': 2946, 'strateg': 2230, 'maneuv': 2231, 'strife': 2233, 'dynasty…': 2236, 'kazan': 2237, 'acclim': 2238, 'london': 2240, 'jungl': 2778, 'mine': 2248, 'encamp': 2249, 'charm': 2263, 'peac': 2947, 'plung': 2701, 'winter': 3152, 'wise': 2274, 'magnific': 2275, 'children': 2278, 'spectacular': 2281, 'climact': 2282, 'facial': 2286, 'reemerg': 2290, 'meant': 2645, 'worlddestroy': 2294, 'extinct': 3362, 'level': 2301, 'gordon': 2519, 'dismantl': 2319, 'street': 3578, 'partnership': 2326, 'prey': 2331, 'terrifi': 2339, 'citizen': 3527, 'poker': 2342, 'karl': 2343, 'fredricksen': 2344, 'spent': 2345, 'dream': 2348, 'experienc': 2351, 'fullest': 2353, '78': 2356, 'by': 2360, 'twist': 3171, 'persist': 2364, '8year': 2365, 'wilder': 2367, 'russel': 2370, 'give': 2371, 'leas': 2373, 'murphi': 2377, 'clamber': 2379, 'method': 2380, 'full': 3132, 'wed': 2385, '49feet11inch': 2389, 'jump': 2392, 'compound': 2400, 'renam': 2402, 'ginormica': 2403, 'confin': 2405, 'rage': 2406, 'held': 2410, 'captiv': 2847, 'afghan': 2412, 'cave': 2413, 'millionair': 2802, 'engin': 2415, 'creat': 2418, 'suit': 2421, 'armor': 2422, 'hugo': 2479, 'wall': 2429, 'train': 3314, 'station': 2476, '1930': 2432, 'fix': 3251, 'clock': 2464, 'run': 2447, 'connect': 2482, 'automat': 2484, 'mechan': 2455, 'contain': 2467, 'shopkeep': 2471, 'georg': 2472, 'seri': 3582, 'adventureseek': 2477, 'goddaught': 2478, 'surpris': 2481, 'unlock': 2486, 'memori': 3216, 'buri': 2490, 'regard': 2492, 'wigless': 2494, 'southern': 2495, 'inventor': 3200, 'bliss': 2498, 'hopeless': 2525, 'kindl': 2501, 'onli': 3353, 'gunfight': 2513, 'west': 2515, 'masterofdisguis': 2516, 'artemu': 2518, 'thwart': 2524, 'archaeologist': 2527, 'ocornel': 2546, 'china': 2531, 'pit': 2532, 'emperor': 2554, '2000yearold': 2534, 'dynasti': 2536, 'enlist': 3141, 'wife': 3024, 'quasi': 2551, 'socal': 2552, 'abus': 2555, 'from': 3508, 'topic': 2560, 'suicid': 2562, 'squad': 2563, 'antihero': 2564, 'incarcer': 2566, 'supervillain': 2567, 'enabl': 2569, 'asset': 2570, 'undertak': 2574, 'highrisk': 2575, 'op': 2577, 'exchang': 2579, 'commut': 2580, 'prison': 2649, 'sentenc': 2582, 'contact': 2625, 'congressmen': 2585, 'van': 2586, 'baxter': 2587, 'ark': 2590, 'flood': 2593, 'ceremoni': 2602, 'devot': 2603, 'drop': 2604, 'minut': 2609, 'manag': 2610, 'alpha': 2612, 'again': 3167, 'physic': 2624, 'thrown': 2627, 'loop': 2630, 'futurist': 2632, 'ice': 2678, 'cap': 2679, 'melt': 2637, 'liquid': 2640, 'barmaid': 2643, 'rescu': 2644, 'seafar': 2646, 'float': 2647, 'along': 2652, 'charg': 2654, 'knoll': 2671, 'sail': 2656, 'trip': 2660, 'cover': 2973, 'map': 2667, 'maryland': 2668, 'tattoo': 2670, 'egyptian': 2674, 'desert': 2675, 'deep': 3521, 'elit': 2680, 'gi': 2681, 'joe': 2682, 'nextgener': 2686, 'spi': 2687, 'equip': 2689, 'corrupt': 2691, 'dealer': 2693, 'dora': 2698, 'prevent': 2700, 'bump': 2705, 'except': 2707, 'mile': 2742, 'promot': 2709, 'widest': 2710, 'job': 2715, 'francisco': 2957, 'guid': 2721, 'emot': 2763, 'dear': 2724, 'anger': 2725, 'disgust': 2726, 'sad': 2727, 'headquart': 2752, 'miless': 2755, 'advis': 2738, 'everyday': 2739, 'adjust': 3097, 'ensu': 2751, 'although': 2753, 'main': 2756, 'import': 2757, 'navig': 2766, 'hous': 2769, 'tiger': 2773, 'than': 2775, 'flee': 2777, 'mancub': 2779, 'mowgli': 2781, 'self': 2784, 'discoveri': 2785, 'bagheera': 2788, 'bear': 2791, 'awar': 2795, 'dual': 2796, 'pressur': 2807, 'press': 2809, 'public': 2810, 'share': 3190, 'unwil': 2814, 'let': 2815, 'invent': 2817, 'pepper': 2819, 'boot': 2820, 'rhode': 2823, 'forg': 2826, 'confront': 2830, 'marri': 2836, 'perform': 2838, 'violent': 2839, 'coup': 2840, 'murder': 2842, 'almost': 2848, 'decad': 2849, 'obtain': 2859, 'immort': 2860, 'heart': 2920, 'castl': 2871, 'huntsman': 2874, 'forest': 2898, 'untold': 2879, 'kidney': 2881, '1959': 2884, 'classic': 2885, 'sleep': 2886, 'pureheart': 2890, 'malefic': 2949, 'idyl': 2894, 'peaceabl': 2897, 'harmoni': 2905, 'fierc': 2910, 'protector': 2911, 'stone': 2921, 'successor': 2930, 'result': 2932, 'curs': 2934, 'newton': 2936, 'infant': 2937, 'aurora': 2944, 'true': 3187, 'happi': 2951, 'aftermath': 2961, 'wipe': 2963, 'caesar': 2965, 'maintain': 2967, 'commun': 2969, 'poland': 2982, 'off': 2983, 'jhankar': 2986, 'sweep': 2988, 'tale': 3034, 'imposs': 3500, 'backdrop': 2993, 'anglomartha': 2995, 'contin': 3002, 'centr': 3003, 'four': 3005, 'british': 3008, 'coloni': 3286, 'india': 3013, 'deepli': 3017, 'presentday': 3021, 'biologist': 3023, 'base': 3025, '1941': 3027, 'japan': 3031, 'endur': 3033, 'fantasyadventur': 3037, '47': 3052, 'nerv': 3042, 'ai': 3045, 'hiroyuki': 3049, 'canada': 3228, 'samurai': 3054, 'vengeanc': 3057, 'treacher': 3059, 'overland': 3060, 'banish': 3063, 'kind': 3064, 'holland': 3068, 'trial': 3075, 'ordinari': 3078, 'steve': 3105, 'roger': 3088, 'ak': 3089, 'quietli': 3093, 'washington': 3094, 'dc': 3095, 'modern': 3098, 'web': 3533, 'risk': 3113, 'everwiden': 3122, 'conspiraci': 3123, 'profession': 3125, 'silenc': 3128, 'everi': 3129, 'scope': 3133, 'falcon': 3145, 'enemy—th': 3151, 'bore': 3155, 'domest': 3156, 'dealmak': 3159, 'rumpelstiltskin': 3176, 'ore': 3178, 'dump': 3169, 'version': 3172, 'way—wher': 3175, 'vilna': 3180, 'met—h': 3182, 'round': 3189, 'bright': 3192, 'optimist': 3193, 'burst': 3195, 'scientif': 3196, 'curios': 3197, 'boygeniu': 3199, 'jade': 3201, 'disillusion': 3202, 'dangerfil': 3204, 'enigmat': 3208, 'somewher': 3210, 'tomorrowland': 3217, 'bond': 3220, 'plussiz': 3222, 'inflamm': 3223, 'layman': 3225, 'prodigi': 3226, 'highteach': 3234, 'wreckit': 3236, 'ralph': 3304, '9foottal': 3238, '643pound': 3239, 'arcad': 3302, 'video': 3242, 'sixit': 3245, 'felix': 3246, 'pant': 3255, 'good': 3432, 'guy': 3258, 'duti': 3265, 'firstperson': 3266, 'shorter': 3267, 'enter': 3276, 'sugar': 3277, 'rush': 3278, 'track': 3283, 'candl': 3285, 'sweet': 3287, 'vanellop': 3291, 'von': 3292, 'schweetz': 3293, 'affect': 3300, 'doubt': 3309, 'sole': 3317, 'selfdiscoveri': 3320, 'wonder': 3322, 'fade': 3325, 'alway': 3328, 'knew': 3329, 'recov': 3333, 'collabor': 3338, 'immens': 3339, 'defens': 3340, 'aliens': 3348, 'advanc': 3350, 'ingenu': 3354, 'women': 3357, 'cusp': 3367, 'manhood': 3368, 'shi': 3369, 'hiccup': 3370, 'horrend': 3371, 'braddock': 3372, 'iii': 3373, 'rite': 3375, 'passag': 3376, 'mettl': 3382, 'longer': 3388, 'instead': 3392, 'befriend': 3393, 'beast': 3394, 'toothless': 3397, 'chagrin': 3400, '10': 3404, 'judgment': 3411, 'rear': 3415, 'sneer': 3416, 'clear': 3417, 'anyth': 3419, 'skynet': 3420, 'trace': 3421, 'tx': 3425, 'robot': 3426, 'finish': 3429, 't1000': 3430, 'termin': 3437, 'nowadult': 3440, '…': 3442, '26': 3448, 'abduct': 3450, 'quill': 3452, 'prime': 3454, 'orb': 3458, 'conan': 3460, 'accus': 3461, 'interstellar': 3481, 'chronicl': 3463, 'newli': 3469, 'wormhol': 3471, 'surplu': 3472, 'limit': 3473, 'vast': 3478, 'distanc': 3479, 'involv': 3480, 'cobb': 3483, 'skill': 3484, 'commit': 3486, 'corpor': 3487, 'infiltr': 3590, 'unconsci': 3507, 'offer': 3492, 'regain': 3494, 'payment': 3497, 'task': 3498, 'incept': 3501, 'implant': 3502, 'idea': 3505, 'evangelion': 3511, 'hit': 3513, 'larger': 3514, 'scrambl': 3525, 'ragtag': 3529, 'volunt': 3531, 'cut': 3532, 'red': 3534, 'tape': 3535, 'weak': 3538, 'tie': 3540, 'foreign': 3541, 'greatest': 3547, 'catastroph': 3548, 'befal': 3550, 'evolv': 3552, 'margin': 3556, 'habit': 3557, 'enjoy': 3558, 'quiet': 3559, 'swept': 3561, 'grey': 3565, 'thirteen': 3566, 'domen': 3574, 'os': 3576, 'angel': 3577, 'suspect': 3580, 'mastermind': 3581, 'bigfig': 3583, 'hijack': 3584, 'undercov': 3586, 'cop': 3587, 'brian': 3588, 'olong': 3589, 'iconoclast': 3592, 'sister': 3596, 'choos': 3598, 'lapd': 3601}\n"
     ]
    }
   ],
   "source": [
    "token_to_index = {token: i for i, token in enumerate(vocabolary)}\n",
    "print(\"Token to Index Mapping:\", token_to_index)"
   ]
  },
  {
   "cell_type": "code",
   "execution_count": 52,
   "metadata": {
    "colab": {
     "base_uri": "https://localhost:8080/"
    },
    "id": "zc0YbKtQp_Iz",
    "outputId": "367ed7bf-588a-4c18-df97-1c1e5d98d8b9"
   },
   "outputs": [
    {
     "name": "stderr",
     "output_type": "stream",
     "text": [
      "/usr/local/lib/python3.10/dist-packages/sklearn/preprocessing/_encoders.py:868: FutureWarning: `sparse` was renamed to `sparse_output` in version 1.2 and will be removed in 1.4. `sparse_output` is ignored unless you leave `sparse` to its default value.\n",
      "  warnings.warn(\n",
      "/usr/local/lib/python3.10/dist-packages/sklearn/preprocessing/_encoders.py:868: FutureWarning: `sparse` was renamed to `sparse_output` in version 1.2 and will be removed in 1.4. `sparse_output` is ignored unless you leave `sparse` to its default value.\n",
      "  warnings.warn(\n",
      "/usr/local/lib/python3.10/dist-packages/sklearn/preprocessing/_encoders.py:868: FutureWarning: `sparse` was renamed to `sparse_output` in version 1.2 and will be removed in 1.4. `sparse_output` is ignored unless you leave `sparse` to its default value.\n",
      "  warnings.warn(\n",
      "/usr/local/lib/python3.10/dist-packages/sklearn/preprocessing/_encoders.py:868: FutureWarning: `sparse` was renamed to `sparse_output` in version 1.2 and will be removed in 1.4. `sparse_output` is ignored unless you leave `sparse` to its default value.\n",
      "  warnings.warn(\n",
      "/usr/local/lib/python3.10/dist-packages/sklearn/preprocessing/_encoders.py:868: FutureWarning: `sparse` was renamed to `sparse_output` in version 1.2 and will be removed in 1.4. `sparse_output` is ignored unless you leave `sparse` to its default value.\n",
      "  warnings.warn(\n",
      "/usr/local/lib/python3.10/dist-packages/sklearn/preprocessing/_encoders.py:868: FutureWarning: `sparse` was renamed to `sparse_output` in version 1.2 and will be removed in 1.4. `sparse_output` is ignored unless you leave `sparse` to its default value.\n",
      "  warnings.warn(\n",
      "/usr/local/lib/python3.10/dist-packages/sklearn/preprocessing/_encoders.py:868: FutureWarning: `sparse` was renamed to `sparse_output` in version 1.2 and will be removed in 1.4. `sparse_output` is ignored unless you leave `sparse` to its default value.\n",
      "  warnings.warn(\n",
      "/usr/local/lib/python3.10/dist-packages/sklearn/preprocessing/_encoders.py:868: FutureWarning: `sparse` was renamed to `sparse_output` in version 1.2 and will be removed in 1.4. `sparse_output` is ignored unless you leave `sparse` to its default value.\n",
      "  warnings.warn(\n",
      "/usr/local/lib/python3.10/dist-packages/sklearn/preprocessing/_encoders.py:868: FutureWarning: `sparse` was renamed to `sparse_output` in version 1.2 and will be removed in 1.4. `sparse_output` is ignored unless you leave `sparse` to its default value.\n",
      "  warnings.warn(\n",
      "/usr/local/lib/python3.10/dist-packages/sklearn/preprocessing/_encoders.py:868: FutureWarning: `sparse` was renamed to `sparse_output` in version 1.2 and will be removed in 1.4. `sparse_output` is ignored unless you leave `sparse` to its default value.\n",
      "  warnings.warn(\n",
      "/usr/local/lib/python3.10/dist-packages/sklearn/preprocessing/_encoders.py:868: FutureWarning: `sparse` was renamed to `sparse_output` in version 1.2 and will be removed in 1.4. `sparse_output` is ignored unless you leave `sparse` to its default value.\n",
      "  warnings.warn(\n",
      "/usr/local/lib/python3.10/dist-packages/sklearn/preprocessing/_encoders.py:868: FutureWarning: `sparse` was renamed to `sparse_output` in version 1.2 and will be removed in 1.4. `sparse_output` is ignored unless you leave `sparse` to its default value.\n",
      "  warnings.warn(\n",
      "/usr/local/lib/python3.10/dist-packages/sklearn/preprocessing/_encoders.py:868: FutureWarning: `sparse` was renamed to `sparse_output` in version 1.2 and will be removed in 1.4. `sparse_output` is ignored unless you leave `sparse` to its default value.\n",
      "  warnings.warn(\n",
      "/usr/local/lib/python3.10/dist-packages/sklearn/preprocessing/_encoders.py:868: FutureWarning: `sparse` was renamed to `sparse_output` in version 1.2 and will be removed in 1.4. `sparse_output` is ignored unless you leave `sparse` to its default value.\n",
      "  warnings.warn(\n",
      "/usr/local/lib/python3.10/dist-packages/sklearn/preprocessing/_encoders.py:868: FutureWarning: `sparse` was renamed to `sparse_output` in version 1.2 and will be removed in 1.4. `sparse_output` is ignored unless you leave `sparse` to its default value.\n",
      "  warnings.warn(\n",
      "/usr/local/lib/python3.10/dist-packages/sklearn/preprocessing/_encoders.py:868: FutureWarning: `sparse` was renamed to `sparse_output` in version 1.2 and will be removed in 1.4. `sparse_output` is ignored unless you leave `sparse` to its default value.\n",
      "  warnings.warn(\n",
      "/usr/local/lib/python3.10/dist-packages/sklearn/preprocessing/_encoders.py:868: FutureWarning: `sparse` was renamed to `sparse_output` in version 1.2 and will be removed in 1.4. `sparse_output` is ignored unless you leave `sparse` to its default value.\n",
      "  warnings.warn(\n",
      "/usr/local/lib/python3.10/dist-packages/sklearn/preprocessing/_encoders.py:868: FutureWarning: `sparse` was renamed to `sparse_output` in version 1.2 and will be removed in 1.4. `sparse_output` is ignored unless you leave `sparse` to its default value.\n",
      "  warnings.warn(\n",
      "/usr/local/lib/python3.10/dist-packages/sklearn/preprocessing/_encoders.py:868: FutureWarning: `sparse` was renamed to `sparse_output` in version 1.2 and will be removed in 1.4. `sparse_output` is ignored unless you leave `sparse` to its default value.\n",
      "  warnings.warn(\n",
      "/usr/local/lib/python3.10/dist-packages/sklearn/preprocessing/_encoders.py:868: FutureWarning: `sparse` was renamed to `sparse_output` in version 1.2 and will be removed in 1.4. `sparse_output` is ignored unless you leave `sparse` to its default value.\n",
      "  warnings.warn(\n",
      "/usr/local/lib/python3.10/dist-packages/sklearn/preprocessing/_encoders.py:868: FutureWarning: `sparse` was renamed to `sparse_output` in version 1.2 and will be removed in 1.4. `sparse_output` is ignored unless you leave `sparse` to its default value.\n",
      "  warnings.warn(\n",
      "/usr/local/lib/python3.10/dist-packages/sklearn/preprocessing/_encoders.py:868: FutureWarning: `sparse` was renamed to `sparse_output` in version 1.2 and will be removed in 1.4. `sparse_output` is ignored unless you leave `sparse` to its default value.\n",
      "  warnings.warn(\n",
      "/usr/local/lib/python3.10/dist-packages/sklearn/preprocessing/_encoders.py:868: FutureWarning: `sparse` was renamed to `sparse_output` in version 1.2 and will be removed in 1.4. `sparse_output` is ignored unless you leave `sparse` to its default value.\n",
      "  warnings.warn(\n",
      "/usr/local/lib/python3.10/dist-packages/sklearn/preprocessing/_encoders.py:868: FutureWarning: `sparse` was renamed to `sparse_output` in version 1.2 and will be removed in 1.4. `sparse_output` is ignored unless you leave `sparse` to its default value.\n",
      "  warnings.warn(\n",
      "/usr/local/lib/python3.10/dist-packages/sklearn/preprocessing/_encoders.py:868: FutureWarning: `sparse` was renamed to `sparse_output` in version 1.2 and will be removed in 1.4. `sparse_output` is ignored unless you leave `sparse` to its default value.\n",
      "  warnings.warn(\n",
      "/usr/local/lib/python3.10/dist-packages/sklearn/preprocessing/_encoders.py:868: FutureWarning: `sparse` was renamed to `sparse_output` in version 1.2 and will be removed in 1.4. `sparse_output` is ignored unless you leave `sparse` to its default value.\n",
      "  warnings.warn(\n",
      "/usr/local/lib/python3.10/dist-packages/sklearn/preprocessing/_encoders.py:868: FutureWarning: `sparse` was renamed to `sparse_output` in version 1.2 and will be removed in 1.4. `sparse_output` is ignored unless you leave `sparse` to its default value.\n",
      "  warnings.warn(\n",
      "/usr/local/lib/python3.10/dist-packages/sklearn/preprocessing/_encoders.py:868: FutureWarning: `sparse` was renamed to `sparse_output` in version 1.2 and will be removed in 1.4. `sparse_output` is ignored unless you leave `sparse` to its default value.\n",
      "  warnings.warn(\n",
      "/usr/local/lib/python3.10/dist-packages/sklearn/preprocessing/_encoders.py:868: FutureWarning: `sparse` was renamed to `sparse_output` in version 1.2 and will be removed in 1.4. `sparse_output` is ignored unless you leave `sparse` to its default value.\n",
      "  warnings.warn(\n",
      "/usr/local/lib/python3.10/dist-packages/sklearn/preprocessing/_encoders.py:868: FutureWarning: `sparse` was renamed to `sparse_output` in version 1.2 and will be removed in 1.4. `sparse_output` is ignored unless you leave `sparse` to its default value.\n",
      "  warnings.warn(\n",
      "/usr/local/lib/python3.10/dist-packages/sklearn/preprocessing/_encoders.py:868: FutureWarning: `sparse` was renamed to `sparse_output` in version 1.2 and will be removed in 1.4. `sparse_output` is ignored unless you leave `sparse` to its default value.\n",
      "  warnings.warn(\n",
      "/usr/local/lib/python3.10/dist-packages/sklearn/preprocessing/_encoders.py:868: FutureWarning: `sparse` was renamed to `sparse_output` in version 1.2 and will be removed in 1.4. `sparse_output` is ignored unless you leave `sparse` to its default value.\n",
      "  warnings.warn(\n",
      "/usr/local/lib/python3.10/dist-packages/sklearn/preprocessing/_encoders.py:868: FutureWarning: `sparse` was renamed to `sparse_output` in version 1.2 and will be removed in 1.4. `sparse_output` is ignored unless you leave `sparse` to its default value.\n",
      "  warnings.warn(\n",
      "/usr/local/lib/python3.10/dist-packages/sklearn/preprocessing/_encoders.py:868: FutureWarning: `sparse` was renamed to `sparse_output` in version 1.2 and will be removed in 1.4. `sparse_output` is ignored unless you leave `sparse` to its default value.\n",
      "  warnings.warn(\n",
      "/usr/local/lib/python3.10/dist-packages/sklearn/preprocessing/_encoders.py:868: FutureWarning: `sparse` was renamed to `sparse_output` in version 1.2 and will be removed in 1.4. `sparse_output` is ignored unless you leave `sparse` to its default value.\n",
      "  warnings.warn(\n",
      "/usr/local/lib/python3.10/dist-packages/sklearn/preprocessing/_encoders.py:868: FutureWarning: `sparse` was renamed to `sparse_output` in version 1.2 and will be removed in 1.4. `sparse_output` is ignored unless you leave `sparse` to its default value.\n",
      "  warnings.warn(\n",
      "/usr/local/lib/python3.10/dist-packages/sklearn/preprocessing/_encoders.py:868: FutureWarning: `sparse` was renamed to `sparse_output` in version 1.2 and will be removed in 1.4. `sparse_output` is ignored unless you leave `sparse` to its default value.\n",
      "  warnings.warn(\n",
      "/usr/local/lib/python3.10/dist-packages/sklearn/preprocessing/_encoders.py:868: FutureWarning: `sparse` was renamed to `sparse_output` in version 1.2 and will be removed in 1.4. `sparse_output` is ignored unless you leave `sparse` to its default value.\n",
      "  warnings.warn(\n",
      "/usr/local/lib/python3.10/dist-packages/sklearn/preprocessing/_encoders.py:868: FutureWarning: `sparse` was renamed to `sparse_output` in version 1.2 and will be removed in 1.4. `sparse_output` is ignored unless you leave `sparse` to its default value.\n",
      "  warnings.warn(\n",
      "/usr/local/lib/python3.10/dist-packages/sklearn/preprocessing/_encoders.py:868: FutureWarning: `sparse` was renamed to `sparse_output` in version 1.2 and will be removed in 1.4. `sparse_output` is ignored unless you leave `sparse` to its default value.\n",
      "  warnings.warn(\n",
      "/usr/local/lib/python3.10/dist-packages/sklearn/preprocessing/_encoders.py:868: FutureWarning: `sparse` was renamed to `sparse_output` in version 1.2 and will be removed in 1.4. `sparse_output` is ignored unless you leave `sparse` to its default value.\n",
      "  warnings.warn(\n",
      "/usr/local/lib/python3.10/dist-packages/sklearn/preprocessing/_encoders.py:868: FutureWarning: `sparse` was renamed to `sparse_output` in version 1.2 and will be removed in 1.4. `sparse_output` is ignored unless you leave `sparse` to its default value.\n",
      "  warnings.warn(\n",
      "/usr/local/lib/python3.10/dist-packages/sklearn/preprocessing/_encoders.py:868: FutureWarning: `sparse` was renamed to `sparse_output` in version 1.2 and will be removed in 1.4. `sparse_output` is ignored unless you leave `sparse` to its default value.\n",
      "  warnings.warn(\n",
      "/usr/local/lib/python3.10/dist-packages/sklearn/preprocessing/_encoders.py:868: FutureWarning: `sparse` was renamed to `sparse_output` in version 1.2 and will be removed in 1.4. `sparse_output` is ignored unless you leave `sparse` to its default value.\n",
      "  warnings.warn(\n",
      "/usr/local/lib/python3.10/dist-packages/sklearn/preprocessing/_encoders.py:868: FutureWarning: `sparse` was renamed to `sparse_output` in version 1.2 and will be removed in 1.4. `sparse_output` is ignored unless you leave `sparse` to its default value.\n",
      "  warnings.warn(\n",
      "/usr/local/lib/python3.10/dist-packages/sklearn/preprocessing/_encoders.py:868: FutureWarning: `sparse` was renamed to `sparse_output` in version 1.2 and will be removed in 1.4. `sparse_output` is ignored unless you leave `sparse` to its default value.\n",
      "  warnings.warn(\n",
      "/usr/local/lib/python3.10/dist-packages/sklearn/preprocessing/_encoders.py:868: FutureWarning: `sparse` was renamed to `sparse_output` in version 1.2 and will be removed in 1.4. `sparse_output` is ignored unless you leave `sparse` to its default value.\n",
      "  warnings.warn(\n",
      "/usr/local/lib/python3.10/dist-packages/sklearn/preprocessing/_encoders.py:868: FutureWarning: `sparse` was renamed to `sparse_output` in version 1.2 and will be removed in 1.4. `sparse_output` is ignored unless you leave `sparse` to its default value.\n",
      "  warnings.warn(\n",
      "/usr/local/lib/python3.10/dist-packages/sklearn/preprocessing/_encoders.py:868: FutureWarning: `sparse` was renamed to `sparse_output` in version 1.2 and will be removed in 1.4. `sparse_output` is ignored unless you leave `sparse` to its default value.\n",
      "  warnings.warn(\n",
      "/usr/local/lib/python3.10/dist-packages/sklearn/preprocessing/_encoders.py:868: FutureWarning: `sparse` was renamed to `sparse_output` in version 1.2 and will be removed in 1.4. `sparse_output` is ignored unless you leave `sparse` to its default value.\n",
      "  warnings.warn(\n",
      "/usr/local/lib/python3.10/dist-packages/sklearn/preprocessing/_encoders.py:868: FutureWarning: `sparse` was renamed to `sparse_output` in version 1.2 and will be removed in 1.4. `sparse_output` is ignored unless you leave `sparse` to its default value.\n",
      "  warnings.warn(\n",
      "/usr/local/lib/python3.10/dist-packages/sklearn/preprocessing/_encoders.py:868: FutureWarning: `sparse` was renamed to `sparse_output` in version 1.2 and will be removed in 1.4. `sparse_output` is ignored unless you leave `sparse` to its default value.\n",
      "  warnings.warn(\n",
      "/usr/local/lib/python3.10/dist-packages/sklearn/preprocessing/_encoders.py:868: FutureWarning: `sparse` was renamed to `sparse_output` in version 1.2 and will be removed in 1.4. `sparse_output` is ignored unless you leave `sparse` to its default value.\n",
      "  warnings.warn(\n",
      "/usr/local/lib/python3.10/dist-packages/sklearn/preprocessing/_encoders.py:868: FutureWarning: `sparse` was renamed to `sparse_output` in version 1.2 and will be removed in 1.4. `sparse_output` is ignored unless you leave `sparse` to its default value.\n",
      "  warnings.warn(\n",
      "/usr/local/lib/python3.10/dist-packages/sklearn/preprocessing/_encoders.py:868: FutureWarning: `sparse` was renamed to `sparse_output` in version 1.2 and will be removed in 1.4. `sparse_output` is ignored unless you leave `sparse` to its default value.\n",
      "  warnings.warn(\n",
      "/usr/local/lib/python3.10/dist-packages/sklearn/preprocessing/_encoders.py:868: FutureWarning: `sparse` was renamed to `sparse_output` in version 1.2 and will be removed in 1.4. `sparse_output` is ignored unless you leave `sparse` to its default value.\n",
      "  warnings.warn(\n",
      "/usr/local/lib/python3.10/dist-packages/sklearn/preprocessing/_encoders.py:868: FutureWarning: `sparse` was renamed to `sparse_output` in version 1.2 and will be removed in 1.4. `sparse_output` is ignored unless you leave `sparse` to its default value.\n",
      "  warnings.warn(\n",
      "/usr/local/lib/python3.10/dist-packages/sklearn/preprocessing/_encoders.py:868: FutureWarning: `sparse` was renamed to `sparse_output` in version 1.2 and will be removed in 1.4. `sparse_output` is ignored unless you leave `sparse` to its default value.\n",
      "  warnings.warn(\n",
      "/usr/local/lib/python3.10/dist-packages/sklearn/preprocessing/_encoders.py:868: FutureWarning: `sparse` was renamed to `sparse_output` in version 1.2 and will be removed in 1.4. `sparse_output` is ignored unless you leave `sparse` to its default value.\n",
      "  warnings.warn(\n",
      "/usr/local/lib/python3.10/dist-packages/sklearn/preprocessing/_encoders.py:868: FutureWarning: `sparse` was renamed to `sparse_output` in version 1.2 and will be removed in 1.4. `sparse_output` is ignored unless you leave `sparse` to its default value.\n",
      "  warnings.warn(\n",
      "/usr/local/lib/python3.10/dist-packages/sklearn/preprocessing/_encoders.py:868: FutureWarning: `sparse` was renamed to `sparse_output` in version 1.2 and will be removed in 1.4. `sparse_output` is ignored unless you leave `sparse` to its default value.\n",
      "  warnings.warn(\n"
     ]
    },
    {
     "name": "stdout",
     "output_type": "stream",
     "text": [
      "One-Hot Encoded Data:\n",
      "[0 0 0 ... 0 0 0]\n",
      "[0 0 0 ... 0 0 0]\n",
      "[0 0 0 ... 0 0 0]\n",
      "[0 0 0 ... 0 0 0]\n",
      "[0 0 0 ... 0 0 0]\n",
      "[0 0 0 ... 0 0 0]\n",
      "[0 0 0 ... 0 0 0]\n",
      "[0 0 0 ... 0 0 0]\n",
      "[0 0 0 ... 0 0 0]\n",
      "[0 0 0 ... 0 0 0]\n",
      "[0 0 0 ... 0 0 0]\n",
      "[0 0 0 ... 0 0 0]\n",
      "[0 0 0 ... 0 0 0]\n",
      "[0 0 0 ... 0 0 0]\n",
      "[0 0 0 ... 0 0 0]\n",
      "[0 0 0 ... 0 0 0]\n",
      "[0 0 0 ... 0 0 0]\n",
      "[0 0 0 ... 0 0 0]\n",
      "[0 0 0 ... 0 0 0]\n",
      "[0 0 0 ... 0 0 0]\n",
      "[0 0 0 ... 0 0 0]\n",
      "[0 0 0 ... 0 0 0]\n",
      "[0 0 0 ... 0 0 0]\n",
      "[0 0 0 ... 0 0 0]\n",
      "[0 0 0 ... 0 0 0]\n",
      "[0 0 0 ... 0 0 0]\n",
      "[0 0 0 ... 0 0 0]\n",
      "[0 0 0 ... 0 0 0]\n",
      "[0 0 0 ... 0 0 0]\n",
      "[0 0 0 ... 0 0 0]\n",
      "[0 0 0 ... 0 0 0]\n",
      "[0 0 0 ... 0 0 0]\n",
      "[0 0 0 ... 0 0 0]\n",
      "[0 0 0 ... 0 0 0]\n",
      "[0 0 0 ... 0 0 0]\n",
      "[0 0 0 ... 0 0 0]\n",
      "[0 0 0 ... 0 0 0]\n",
      "[0 0 0 ... 0 0 0]\n",
      "[0 0 0 ... 0 0 0]\n",
      "[0 0 0 ... 0 0 0]\n",
      "[0 0 0 ... 0 0 0]\n",
      "[0 0 0 ... 0 0 0]\n",
      "[0 0 0 ... 0 0 0]\n",
      "[0 0 0 ... 0 0 0]\n",
      "[0 0 0 ... 0 0 0]\n",
      "[0 0 0 ... 0 0 0]\n",
      "[0 0 0 ... 0 0 0]\n",
      "[0 0 0 ... 0 0 0]\n",
      "[0 0 0 ... 0 0 0]\n",
      "[0 0 0 ... 0 0 0]\n",
      "[0 0 0 ... 0 0 0]\n",
      "[0 0 0 ... 0 0 0]\n",
      "[0 0 0 ... 0 0 0]\n",
      "[0 0 0 ... 0 0 0]\n",
      "[0 0 0 ... 0 0 0]\n",
      "[0 0 0 ... 0 0 0]\n",
      "[0 0 0 ... 0 0 0]\n",
      "[0 0 0 ... 0 0 0]\n",
      "[0 0 0 ... 0 0 0]\n",
      "[0 0 0 ... 0 0 0]\n",
      "[0 0 0 ... 0 0 0]\n",
      "[0 0 0 ... 0 0 0]\n",
      "[0 0 0 ... 0 0 0]\n",
      "[0 0 0 ... 0 0 0]\n",
      "[0 0 0 ... 0 0 0]\n",
      "[0 0 0 ... 0 0 0]\n",
      "[0 0 0 ... 0 0 0]\n",
      "[0 0 0 ... 0 0 0]\n",
      "[0 0 0 ... 0 0 0]\n",
      "[0 0 0 ... 0 0 0]\n",
      "[0 0 0 ... 0 0 0]\n",
      "[0 0 0 ... 0 0 0]\n",
      "[0 0 0 ... 0 0 0]\n",
      "[0 0 0 ... 0 0 0]\n",
      "[0 0 0 ... 0 0 0]\n",
      "[0 0 0 ... 0 0 0]\n",
      "[0 0 0 ... 0 0 0]\n",
      "[0 0 0 ... 0 0 0]\n",
      "[0 0 0 ... 0 0 0]\n",
      "[0 0 0 ... 0 0 0]\n",
      "[0 0 0 ... 0 0 0]\n",
      "[0 0 0 ... 0 0 0]\n",
      "[0 0 0 ... 0 0 0]\n",
      "[0 0 0 ... 0 0 0]\n",
      "[0 0 0 ... 0 0 0]\n",
      "[0 0 0 ... 0 0 0]\n",
      "[0 0 0 ... 0 0 0]\n",
      "[0 0 0 ... 0 0 0]\n",
      "[0 0 0 ... 0 0 0]\n",
      "[0 0 0 ... 0 0 0]\n",
      "[0 0 0 ... 0 0 0]\n",
      "[0 0 0 ... 0 0 0]\n",
      "[0 0 0 ... 0 0 0]\n",
      "[0 0 0 ... 0 0 0]\n",
      "[0 0 0 ... 0 0 0]\n",
      "[0 0 0 ... 0 0 0]\n",
      "[0 0 0 ... 0 0 0]\n",
      "[0 0 0 ... 0 0 0]\n",
      "[0 0 0 ... 0 0 0]\n",
      "[0 0 0 ... 0 0 1]\n"
     ]
    },
    {
     "name": "stderr",
     "output_type": "stream",
     "text": [
      "/usr/local/lib/python3.10/dist-packages/sklearn/preprocessing/_encoders.py:868: FutureWarning: `sparse` was renamed to `sparse_output` in version 1.2 and will be removed in 1.4. `sparse_output` is ignored unless you leave `sparse` to its default value.\n",
      "  warnings.warn(\n",
      "/usr/local/lib/python3.10/dist-packages/sklearn/preprocessing/_encoders.py:868: FutureWarning: `sparse` was renamed to `sparse_output` in version 1.2 and will be removed in 1.4. `sparse_output` is ignored unless you leave `sparse` to its default value.\n",
      "  warnings.warn(\n",
      "/usr/local/lib/python3.10/dist-packages/sklearn/preprocessing/_encoders.py:868: FutureWarning: `sparse` was renamed to `sparse_output` in version 1.2 and will be removed in 1.4. `sparse_output` is ignored unless you leave `sparse` to its default value.\n",
      "  warnings.warn(\n",
      "/usr/local/lib/python3.10/dist-packages/sklearn/preprocessing/_encoders.py:868: FutureWarning: `sparse` was renamed to `sparse_output` in version 1.2 and will be removed in 1.4. `sparse_output` is ignored unless you leave `sparse` to its default value.\n",
      "  warnings.warn(\n",
      "/usr/local/lib/python3.10/dist-packages/sklearn/preprocessing/_encoders.py:868: FutureWarning: `sparse` was renamed to `sparse_output` in version 1.2 and will be removed in 1.4. `sparse_output` is ignored unless you leave `sparse` to its default value.\n",
      "  warnings.warn(\n",
      "/usr/local/lib/python3.10/dist-packages/sklearn/preprocessing/_encoders.py:868: FutureWarning: `sparse` was renamed to `sparse_output` in version 1.2 and will be removed in 1.4. `sparse_output` is ignored unless you leave `sparse` to its default value.\n",
      "  warnings.warn(\n",
      "/usr/local/lib/python3.10/dist-packages/sklearn/preprocessing/_encoders.py:868: FutureWarning: `sparse` was renamed to `sparse_output` in version 1.2 and will be removed in 1.4. `sparse_output` is ignored unless you leave `sparse` to its default value.\n",
      "  warnings.warn(\n",
      "/usr/local/lib/python3.10/dist-packages/sklearn/preprocessing/_encoders.py:868: FutureWarning: `sparse` was renamed to `sparse_output` in version 1.2 and will be removed in 1.4. `sparse_output` is ignored unless you leave `sparse` to its default value.\n",
      "  warnings.warn(\n",
      "/usr/local/lib/python3.10/dist-packages/sklearn/preprocessing/_encoders.py:868: FutureWarning: `sparse` was renamed to `sparse_output` in version 1.2 and will be removed in 1.4. `sparse_output` is ignored unless you leave `sparse` to its default value.\n",
      "  warnings.warn(\n",
      "/usr/local/lib/python3.10/dist-packages/sklearn/preprocessing/_encoders.py:868: FutureWarning: `sparse` was renamed to `sparse_output` in version 1.2 and will be removed in 1.4. `sparse_output` is ignored unless you leave `sparse` to its default value.\n",
      "  warnings.warn(\n",
      "/usr/local/lib/python3.10/dist-packages/sklearn/preprocessing/_encoders.py:868: FutureWarning: `sparse` was renamed to `sparse_output` in version 1.2 and will be removed in 1.4. `sparse_output` is ignored unless you leave `sparse` to its default value.\n",
      "  warnings.warn(\n",
      "/usr/local/lib/python3.10/dist-packages/sklearn/preprocessing/_encoders.py:868: FutureWarning: `sparse` was renamed to `sparse_output` in version 1.2 and will be removed in 1.4. `sparse_output` is ignored unless you leave `sparse` to its default value.\n",
      "  warnings.warn(\n",
      "/usr/local/lib/python3.10/dist-packages/sklearn/preprocessing/_encoders.py:868: FutureWarning: `sparse` was renamed to `sparse_output` in version 1.2 and will be removed in 1.4. `sparse_output` is ignored unless you leave `sparse` to its default value.\n",
      "  warnings.warn(\n",
      "/usr/local/lib/python3.10/dist-packages/sklearn/preprocessing/_encoders.py:868: FutureWarning: `sparse` was renamed to `sparse_output` in version 1.2 and will be removed in 1.4. `sparse_output` is ignored unless you leave `sparse` to its default value.\n",
      "  warnings.warn(\n",
      "/usr/local/lib/python3.10/dist-packages/sklearn/preprocessing/_encoders.py:868: FutureWarning: `sparse` was renamed to `sparse_output` in version 1.2 and will be removed in 1.4. `sparse_output` is ignored unless you leave `sparse` to its default value.\n",
      "  warnings.warn(\n",
      "/usr/local/lib/python3.10/dist-packages/sklearn/preprocessing/_encoders.py:868: FutureWarning: `sparse` was renamed to `sparse_output` in version 1.2 and will be removed in 1.4. `sparse_output` is ignored unless you leave `sparse` to its default value.\n",
      "  warnings.warn(\n",
      "/usr/local/lib/python3.10/dist-packages/sklearn/preprocessing/_encoders.py:868: FutureWarning: `sparse` was renamed to `sparse_output` in version 1.2 and will be removed in 1.4. `sparse_output` is ignored unless you leave `sparse` to its default value.\n",
      "  warnings.warn(\n",
      "/usr/local/lib/python3.10/dist-packages/sklearn/preprocessing/_encoders.py:868: FutureWarning: `sparse` was renamed to `sparse_output` in version 1.2 and will be removed in 1.4. `sparse_output` is ignored unless you leave `sparse` to its default value.\n",
      "  warnings.warn(\n",
      "/usr/local/lib/python3.10/dist-packages/sklearn/preprocessing/_encoders.py:868: FutureWarning: `sparse` was renamed to `sparse_output` in version 1.2 and will be removed in 1.4. `sparse_output` is ignored unless you leave `sparse` to its default value.\n",
      "  warnings.warn(\n",
      "/usr/local/lib/python3.10/dist-packages/sklearn/preprocessing/_encoders.py:868: FutureWarning: `sparse` was renamed to `sparse_output` in version 1.2 and will be removed in 1.4. `sparse_output` is ignored unless you leave `sparse` to its default value.\n",
      "  warnings.warn(\n",
      "/usr/local/lib/python3.10/dist-packages/sklearn/preprocessing/_encoders.py:868: FutureWarning: `sparse` was renamed to `sparse_output` in version 1.2 and will be removed in 1.4. `sparse_output` is ignored unless you leave `sparse` to its default value.\n",
      "  warnings.warn(\n",
      "/usr/local/lib/python3.10/dist-packages/sklearn/preprocessing/_encoders.py:868: FutureWarning: `sparse` was renamed to `sparse_output` in version 1.2 and will be removed in 1.4. `sparse_output` is ignored unless you leave `sparse` to its default value.\n",
      "  warnings.warn(\n",
      "/usr/local/lib/python3.10/dist-packages/sklearn/preprocessing/_encoders.py:868: FutureWarning: `sparse` was renamed to `sparse_output` in version 1.2 and will be removed in 1.4. `sparse_output` is ignored unless you leave `sparse` to its default value.\n",
      "  warnings.warn(\n",
      "/usr/local/lib/python3.10/dist-packages/sklearn/preprocessing/_encoders.py:868: FutureWarning: `sparse` was renamed to `sparse_output` in version 1.2 and will be removed in 1.4. `sparse_output` is ignored unless you leave `sparse` to its default value.\n",
      "  warnings.warn(\n",
      "/usr/local/lib/python3.10/dist-packages/sklearn/preprocessing/_encoders.py:868: FutureWarning: `sparse` was renamed to `sparse_output` in version 1.2 and will be removed in 1.4. `sparse_output` is ignored unless you leave `sparse` to its default value.\n",
      "  warnings.warn(\n",
      "/usr/local/lib/python3.10/dist-packages/sklearn/preprocessing/_encoders.py:868: FutureWarning: `sparse` was renamed to `sparse_output` in version 1.2 and will be removed in 1.4. `sparse_output` is ignored unless you leave `sparse` to its default value.\n",
      "  warnings.warn(\n",
      "/usr/local/lib/python3.10/dist-packages/sklearn/preprocessing/_encoders.py:868: FutureWarning: `sparse` was renamed to `sparse_output` in version 1.2 and will be removed in 1.4. `sparse_output` is ignored unless you leave `sparse` to its default value.\n",
      "  warnings.warn(\n",
      "/usr/local/lib/python3.10/dist-packages/sklearn/preprocessing/_encoders.py:868: FutureWarning: `sparse` was renamed to `sparse_output` in version 1.2 and will be removed in 1.4. `sparse_output` is ignored unless you leave `sparse` to its default value.\n",
      "  warnings.warn(\n",
      "/usr/local/lib/python3.10/dist-packages/sklearn/preprocessing/_encoders.py:868: FutureWarning: `sparse` was renamed to `sparse_output` in version 1.2 and will be removed in 1.4. `sparse_output` is ignored unless you leave `sparse` to its default value.\n",
      "  warnings.warn(\n",
      "/usr/local/lib/python3.10/dist-packages/sklearn/preprocessing/_encoders.py:868: FutureWarning: `sparse` was renamed to `sparse_output` in version 1.2 and will be removed in 1.4. `sparse_output` is ignored unless you leave `sparse` to its default value.\n",
      "  warnings.warn(\n",
      "/usr/local/lib/python3.10/dist-packages/sklearn/preprocessing/_encoders.py:868: FutureWarning: `sparse` was renamed to `sparse_output` in version 1.2 and will be removed in 1.4. `sparse_output` is ignored unless you leave `sparse` to its default value.\n",
      "  warnings.warn(\n",
      "/usr/local/lib/python3.10/dist-packages/sklearn/preprocessing/_encoders.py:868: FutureWarning: `sparse` was renamed to `sparse_output` in version 1.2 and will be removed in 1.4. `sparse_output` is ignored unless you leave `sparse` to its default value.\n",
      "  warnings.warn(\n",
      "/usr/local/lib/python3.10/dist-packages/sklearn/preprocessing/_encoders.py:868: FutureWarning: `sparse` was renamed to `sparse_output` in version 1.2 and will be removed in 1.4. `sparse_output` is ignored unless you leave `sparse` to its default value.\n",
      "  warnings.warn(\n",
      "/usr/local/lib/python3.10/dist-packages/sklearn/preprocessing/_encoders.py:868: FutureWarning: `sparse` was renamed to `sparse_output` in version 1.2 and will be removed in 1.4. `sparse_output` is ignored unless you leave `sparse` to its default value.\n",
      "  warnings.warn(\n",
      "/usr/local/lib/python3.10/dist-packages/sklearn/preprocessing/_encoders.py:868: FutureWarning: `sparse` was renamed to `sparse_output` in version 1.2 and will be removed in 1.4. `sparse_output` is ignored unless you leave `sparse` to its default value.\n",
      "  warnings.warn(\n",
      "/usr/local/lib/python3.10/dist-packages/sklearn/preprocessing/_encoders.py:868: FutureWarning: `sparse` was renamed to `sparse_output` in version 1.2 and will be removed in 1.4. `sparse_output` is ignored unless you leave `sparse` to its default value.\n",
      "  warnings.warn(\n",
      "/usr/local/lib/python3.10/dist-packages/sklearn/preprocessing/_encoders.py:868: FutureWarning: `sparse` was renamed to `sparse_output` in version 1.2 and will be removed in 1.4. `sparse_output` is ignored unless you leave `sparse` to its default value.\n",
      "  warnings.warn(\n",
      "/usr/local/lib/python3.10/dist-packages/sklearn/preprocessing/_encoders.py:868: FutureWarning: `sparse` was renamed to `sparse_output` in version 1.2 and will be removed in 1.4. `sparse_output` is ignored unless you leave `sparse` to its default value.\n",
      "  warnings.warn(\n",
      "/usr/local/lib/python3.10/dist-packages/sklearn/preprocessing/_encoders.py:868: FutureWarning: `sparse` was renamed to `sparse_output` in version 1.2 and will be removed in 1.4. `sparse_output` is ignored unless you leave `sparse` to its default value.\n",
      "  warnings.warn(\n"
     ]
    }
   ],
   "source": [
    "from sklearn.preprocessing import OneHotEncoder\n",
    "onehot_encoder = OneHotEncoder(categories=[range(len(vocabolary))], sparse=False,dtype=int)\n",
    "onehot_encoded_data = []\n",
    "\n",
    "for sample in df['overview']:\n",
    "    encoded_sample = [token_to_index[token] for token in sample]\n",
    "    onehot_encoded_sample = onehot_encoder.fit_transform(np.array(encoded_sample).reshape(-1, 1))\n",
    "    onehot_encoded_data.append(onehot_encoded_sample.flatten())\n",
    "\n",
    "print(\"One-Hot Encoded Data:\")\n",
    "for sample in onehot_encoded_data:\n",
    "    print(sample)"
   ]
  },
  {
   "cell_type": "code",
   "execution_count": 53,
   "metadata": {
    "colab": {
     "base_uri": "https://localhost:8080/"
    },
    "id": "5WZuahupp_Gf",
    "outputId": "d9f206d2-b2cb-45c7-9183-e8ec380ec9c3"
   },
   "outputs": [
    {
     "data": {
      "text/plain": [
       "(100856,)"
      ]
     },
     "execution_count": 53,
     "metadata": {},
     "output_type": "execute_result"
    }
   ],
   "source": [
    "sample.shape"
   ]
  },
  {
   "cell_type": "markdown",
   "metadata": {
    "id": "RRqrtvYHE5Tr"
   },
   "source": [
    "### 2. Bag Of Words"
   ]
  },
  {
   "cell_type": "code",
   "execution_count": 97,
   "metadata": {
    "id": "iFQ45hfBA76A"
   },
   "outputs": [],
   "source": [
    "from sklearn.feature_extraction.text import  CountVectorizer\n",
    "cv=CountVectorizer()"
   ]
  },
  {
   "cell_type": "code",
   "execution_count": 99,
   "metadata": {
    "id": "_OlG53qoDXuq"
   },
   "outputs": [],
   "source": [
    "bow=cv.fit_transform(df['overview'])"
   ]
  },
  {
   "cell_type": "code",
   "execution_count": 101,
   "metadata": {
    "colab": {
     "base_uri": "https://localhost:8080/"
    },
    "id": "_NuTghu8nVe2",
    "outputId": "8246bd66-e298-4be7-fb90-f17c08e2198d"
   },
   "outputs": [
    {
     "data": {
      "text/plain": [
       "(100, 1682)"
      ]
     },
     "execution_count": 101,
     "metadata": {},
     "output_type": "execute_result"
    }
   ],
   "source": [
    "bow.shape"
   ]
  },
  {
   "cell_type": "code",
   "execution_count": 102,
   "metadata": {
    "colab": {
     "base_uri": "https://localhost:8080/"
    },
    "id": "KTgX1IieDgGQ",
    "outputId": "3ba6f38e-eddf-4eef-c168-ff567d0aeacd"
   },
   "outputs": [
    {
     "name": "stdout",
     "output_type": "stream",
     "text": [
      "{'in': 765, 'and': 86, 'centuri': 250, 'paraplegia': 1086, 'marin': 933, 'dispatch': 438, 'moon': 987, 'candor': 226, 'uniqu': 1558, 'mission': 980, 'becom': 161, 'torn': 1507, 'follow': 591, 'order': 1060, 'protect': 1167, 'alien': 61, 'civil': 281, 'captain': 231, 'barbossa': 147, 'long': 896, 'believ': 170, 'dead': 385, 'come': 305, 'back': 137, 'life': 884, 'head': 693, 'edg': 475, 'earth': 469, 'will': 1647, 'turner': 1538, 'elizabeth': 483, 'want': 1606, 'but': 217, 'noth': 1030, 'quit': 1188, 'seem': 1305, 'cystic': 373, 'messag': 960, 'fond': 592, 'past': 1098, 'send': 1310, 'trail': 1516, 'uncov': 1549, 'sinist': 1341, 'organ': 1063, 'while': 1635, 'battl': 155, 'polit': 1137, 'forc': 594, 'keep': 835, 'secret': 1301, 'servic': 1316, 'aliv': 63, 'feel': 561, 'layer': 866, 'deceit': 393, 'reveal': 1241, 'terribl': 1462, 'truth': 1534, 'behind': 168, 'spectr': 1375, 'death': 390, 'district': 440, 'attorney': 123, 'harvey': 688, 'went': 1629, 'batman': 154, 'assum': 120, 'respons': 1234, 'crime': 354, 'late': 862, 'reput': 1229, 'subsequ': 1410, 'hunt': 742, 'gotham': 656, 'citi': 278, 'polic': 1136, 'depart': 406, 'right': 1249, 'year': 1676, 'later': 863, 'encount': 492, 'mysteri': 1005, 'helena': 701, 'abl': 26, 'villain': 1594, 'lane': 857, 'new': 1020, 'terrorist': 1465, 'leader': 869, 'overwhelm': 1080, 'finest': 576, 'the': 1472, 'dark': 380, 'night': 1024, 'surfac': 1428, 'brand': 197, 'enemi': 496, 'john': 820, 'garter': 628, 'warweari': 1612, 'former': 601, 'militari': 971, 'who': 1638, 'inexplic': 776, 'transport': 1520, 'exot': 533, 'planet': 1128, 'barsoom': 151, 'war': 1608, 'reluctantli': 1224, 'embroil': 485, 'epic': 512, 'conflict': 323, 'it': 810, 'world': 1665, 'brink': 205, 'collaps': 297, 'rediscov': 1212, 'human': 740, 'realiz': 1201, 'surviv': 1433, 'peopl': 1106, 'rest': 1235, 'hand': 682, 'seemingli': 1306, 'invinc': 801, 'spideran': 1379, 'goe': 650, 'allnew': 68, 'crop': 357, 'includ': 769, 'shapeshift': 1322, 'madman': 911, 'superpow': 1425, 'alter': 74, 'ego': 479, 'peter': 1116, 'parker': 1090, 'deal': 386, 'genesi': 631, 'die': 423, 'frock': 613, 'also': 73, 'get': 635, 'caught': 244, 'love': 904, 'triangl': 1529, 'when': 1631, 'kingdom': 844, 'wantedand': 1607, 'charmingbandit': 264, 'lynn': 907, 'wider': 1641, 'hide': 711, 'tower': 1508, 'he': 692, 'taken': 1446, 'hostag': 734, 'rapunzel': 1197, 'beauti': 160, 'fifti': 569, 'towerbound': 1509, 'been': 162, '70': 18, 'feet': 562, 'magic': 912, 'golden': 652, 'hair': 678, 'curiou': 366, 'castor': 241, 'look': 899, 'ticket': 1493, 'lock': 894, 'away': 135, 'strike': 1406, 'handsom': 683, 'thief': 1479, 'unlik': 1562, 'do': 442, 'set': 1317, 'actionpack': 37, 'escapad': 516, 'complet': 313, 'supercop': 1420, 'hors': 733, 'overprotect': 1077, 'chameleon': 255, 'gruff': 672, 'gang': 625, 'pub': 1170, 'thu': 1491, 'boni': 188, 'stark': 1388, 'tri': 1527, 'jumpstart': 826, 'dormant': 451, 'peacekeep': 1105, 'program': 1161, 'thing': 1480, 'go': 645, 'awri': 136, 'lightest': 886, 'hero': 706, 'put': 1177, 'ultim': 1544, 'test': 1466, 'fate': 556, 'hang': 684, 'balanc': 143, 'is': 807, 'patron': 1100, 'emerg': 486, 'aveng': 130, 'stop': 1398, 'enact': 490, 'plan': 1127, 'soon': 1363, 'uneasi': 1555, 'allianc': 67, 'unexpect': 1556, 'action': 36, 'have': 689, 'way': 1620, 'global': 643, 'adventur': 45, 'carri': 238, 'begin': 167, 'sixth': 1345, 'hogwart': 723, 'discov': 432, 'old': 1046, 'book': 189, 'mark': 935, 'properti': 1165, 'halfblood': 679, 'princ': 1154, 'learn': 870, 'word': 1663, 'voldemort': 1598, 'hear': 696, 'godlik': 649, 'super': 1419, 'left': 874, 'check': 266, 'city': 280, 'formid': 602, 'vigil': 1593, 'take': 1445, 'metropolis': 963, 'rever': 1243, 'modernday': 983, 'savior': 1285, 'wrestl': 1671, 'sort': 1364, 'realli': 1202, 'need': 1014, 'superman': 1423, 'one': 1049, 'anoth': 94, 'threat': 1486, 'quickli': 1184, 'aris': 108, 'mankind': 927, 'greater': 664, 'danger': 377, 'ever': 522, 'known': 851, 'befor': 164, 'return': 1240, '5year': 16, 'absenc': 28, 'allow': 69, 'ex': 529, 'author': 126, 'walk': 1604, 'free': 608, 'closest': 290, 'felt': 564, 'abandon': 24, 'move': 995, 'on': 1048, 'plot': 1130, 'reveng': 1242, 'could': 344, 'see': 1303, 'million': 973, 'kill': 840, 'chang': 258, 'face': 543, 'forev': 597, 'well': 1627, 'ride': 1248, 'an': 83, 'steel': 1393, 'quantum': 1179, 'solac': 1357, 'continu': 336, 'jame': 814, 'basin': 153, 'royal': 1267, 'betray': 173, 'deeper': 397, 'woman': 1660, '007': 0, 'fight': 570, 'urg': 1577, 'make': 918, 'latest': 864, 'person': 1113, 'pursu': 1175, 'determin': 415, 'interrog': 792, 'or': 1058, 'white': 1637, 'blackmail': 182, 'far': 552, 'complex': 314, 'anyon': 97, 'imagin': 756, 'sparrow': 1371, 'work': 1664, 'blood': 184, 'debt': 391, 'ghostli': 636, 'bone': 187, 'attempt': 122, 'avoid': 131, 'etern': 518, 'donat': 448, 'texa': 1467, 'chase': 265, 'outlaw': 1073, 'led': 873, 'dutch': 463, 'cavendish': 247, 'bush': 214, 'all': 64, 'survivor': 1434, 'found': 603, 'howev': 738, 'american': 81, 'indian': 774, 'name': 1008, 'onto': 1051, 'nurs': 1036, 'health': 695, 'don': 447, 'mask': 939, 'stallion': 1385, 'silver': 1338, 'tear': 1455, 'bring': 204, 'unscrupul': 1567, 'other': 1068, 'ill': 752, 'justic': 830, 'young': 1679, 'boy': 194, 'extraordinari': 540, 'power': 1144, 'man': 920, 'journey': 823, 'came': 223, 'sent': 1311, 'must': 1002, 'save': 1284, 'annihil': 93, 'symbol': 1443, 'hope': 729, 'incred': 771, 'lion': 891, 'pitch': 1124, 'wardrob': 1609, 'edmund': 476, 'luci': 905, 'susan': 1435, 'pevensi': 1117, 'hernia': 705, 'aid': 57, 'whose': 1640, 'threaten': 1487, 'evil': 527, 'king': 843, 'diaz': 421, 'now': 1034, 'help': 703, 'colour': 303, 'cast': 239, 'charact': 260, 'trufflehunt': 1532, 'badg': 141, 'nikabrik': 1026, 'dwarf': 465, 'clan': 284, 'embark': 484, 'quest': 1183, 'ensur': 507, 'heir': 699, 'safeti': 1280, 'secur': 1302, 'sick': 1333, 'juri': 829, 'director': 428, 'intern': 791, 'agenc': 54, 'shield': 1327, 'find': 575, 'team': 1454, 'pull': 1172, 'disast': 431, 'span': 1370, 'globe': 644, 'dare': 379, 'recruit': 1209, 'effort': 478, 'cross': 358, 'path': 1099, 'sure': 1427, 'ruthless': 1275, 'con': 318, 'artist': 116, 'use': 1580, 'fail': 547, 'mountain': 994, 'south': 1365, 'aboard': 27, 'queen': 1181, 'ann': 92, 'ship': 1328, 'pirat': 1122, 'blackbeard': 181, 'know': 849, 'fear': 558, 'more': 988, 'agent': 55, 'smith': 1353, 'tommi': 1502, 'backin': 139, 'time': 1496, 'seen': 1307, '15': 3, 'men': 956, 'black': 180, 'even': 520, 'perplex': 1111, 'much': 998, 'wri': 1672, 'retic': 1238, 'partner': 1093, 'ks': 852, 'stake': 1384, 'travel': 1521, 'eye': 541, 'univers': 1560, 'never': 1019, 'told': 1501, 'most': 990, 'groin': 668, 'futur': 620, 'immedi': 757, 'event': 521, 'desol': 410, 'mug': 999, 'ilio': 751, 'wave': 1619, 'defend': 400, 'tremor': 1526, 'treasur': 1523, 'claim': 282, 'ruin': 1268, 'laketown': 855, 'eav': 472, 'firewood': 579, 'meanwhil': 951, 'armi': 111, 'arm': 110, 'dog': 443, 'defil': 403, 'march': 929, 'field': 567, 'rise': 1251, 'lord': 901, 'baron': 150, 'unit': 1559, 'middleearth': 966, 'fall': 549, 'outcast': 1071, 'high': 712, 'schooner': 1288, 'parent': 1087, 'leav': 872, 'rais': 1195, 'uncl': 1547, 'aunt': 124, 'may': 946, 'like': 888, 'teenag': 1457, 'figur': 571, 'got': 655, 'today': 1499, 'briefcas': 202, 'belong': 171, 'father': 557, 'understand': 1552, 'disappear': 430, 'lead': 868, 'directli': 427, 'score': 1293, 'lab': 853, 'hurt': 744, 'honor': 728, 'collis': 301, 'cours': 346, 'wizard': 1659, 'lifealt': 885, 'choic': 273, 'shape': 1321, 'destini': 411, 'soldier': 1359, 'robin': 1257, 'happen': 685, 'upon': 1575, 'robert': 1256, 'volley': 1599, 'promis': 1162, 'sword': 1440, 'famili': 550, 'nottingham': 1031, 'there': 1476, 'ident': 748, 'romanc': 1263, 'widow': 1643, 'marion': 934, 'draw': 455, 'ire': 804, 'town': 1510, 'sheriff': 1325, 'frenchman': 610, 'godfrey': 648, 'gandalf': 624, 'success': 1411, 'escap': 515, 'misti': 981, 'gain': 622, 'they': 1478, 'gold': 651, 'dragon': 454, 'after': 50, 'overhear': 1074, 'shock': 1329, 'preciou': 1145, 'orphan': 1066, 'vera': 1589, 'belacqua': 169, 'trade': 1514, 'carefre': 236, 'exist': 532, 'roam': 1255, 'hall': 680, 'jordan': 822, 'colleg': 300, 'otherworldli': 1069, 'north': 1029, 'unawar': 1545, 'part': 1091, '1933': 6, 'overlay': 1076, 'ambiti': 79, 'movi': 996, 'produc': 1158, 'coerc': 295, 'hire': 719, 'crew': 353, 'skull': 1347, 'island': 808, 'giant': 638, 'ape': 101, 'smitten': 1354, 'ladi': 854, '84': 21, '101yearold': 2, 'rose': 1265, 'dewitt': 420, 'bukat': 210, 'tell': 1458, 'stori': 1399, 'granddaught': 659, 'dizzi': 441, 'alert': 59, 'covert': 348, 'lewi': 881, 'iodin': 803, 'hobbi': 722, 'quell': 1182, 'anatol': 84, 'mikailavich': 968, 'keldysh': 836, 'april': 104, 'with': 1655, '1912': 4, 'call': 222, 'titan': 1497, 'board': 185, 'upperclass': 1576, 'passeng': 1097, 'mother': 991, 'ruth': 1274, 'fianc': 565, 'caledon': 221, 'jockey': 818, 'drift': 458, 'dawson': 382, 'best': 172, 'friend': 611, 'fabrizio': 542, 'loss': 902, 'win': 1649, 'thirdclass': 1482, 'game': 623, 'explain': 536, 'whole': 1639, 'departur': 407, 'first': 580, 'last': 861, 'voyag': 1602, '220': 12, 'morn': 989, 'age': 53, 'collect': 299, 'govern': 657, 'pass': 1095, 'act': 35, 'design': 409, 'regul': 1216, 'superhuman': 1422, 'activ': 38, 'hi': 708, 'polar': 1135, 'opinion': 1054, 'amongst': 82, 'caus': 245, 'two': 1541, 'faction': 545, 'side': 1334, 'iron': 806, 'america': 80, 'alli': 66, 'beam': 157, 'radio': 1192, 'signal': 1336, 'space': 1368, 'repli': 1228, 'form': 600, 'sever': 1319, 'craft': 350, 'splash': 1381, 'water': 1617, 'hawaii': 691, 'lieuten': 883, 'flex': 587, 'copper': 339, 'weapon': 1622, 'offic': 1045, 'assign': 119, 'uss': 1581, 'paul': 1101, 'naval': 1010, 'coalit': 293, 'engag': 498, 'hostil': 735, 'unimagin': 1557, 'strength': 1404, 'invad': 796, 'live': 893, 'potenti': 1143, 'brother': 207, 'fiance': 566, 'admir': 41, 'expect': 534, 'him': 717, 'twentytwo': 1539, 'jurass': 828, 'sea': 1298, 'tubular': 1535, 'featur': 559, 'fulli': 617, 'sanction': 1283, 'dinosaur': 425, 'theme': 1474, 'park': 1089, 'origin': 1064, 'envis': 511, 'hammond': 681, 'grave': 662, 'wrong': 1674, 'around': 113, 'expos': 538, 'mi6': 965, 'attack': 121, 'delic': 405, 'these': 1477, 'posit': 1139, 'challeng': 254, 'pallor': 1083, 'chairman': 253, 'intellig': 788, 'committe': 308, 'compromis': 317, 'insid': 785, 'out': 1070, 'trust': 1533, 'shadow': 1320, 've': 1587, 'ilya': 755, 'lethal': 879, 'hidden': 710, 'motiv': 992, 'yet': 1677, 'themselv': 1475, 'major': 917, 'crisi': 356, 'turn': 1537, 'decid': 394, 'shelv': 1324, 'superhero': 1421, 'suffer': 1414, 'wake': 1603, 'carnag': 237, 'of': 1042, 'meantim': 950, 'still': 1396, 'cant': 228, 'mari': 932, 'watson': 1618, 'girl': 641, 'sinc': 1340, 'childhood': 269, 'apart': 99, 'mandarin': 923, 'start': 1389, 'odyssey': 1041, 'rebuild': 1205, 'retribut': 1239, 'alic': 60, 'unpretenti': 1566, 'individu': 775, '19yearold': 9, 'betroth': 174, 'danc': 376, 'english': 500, 'nobleman': 1027, 'parti': 1092, 'crowd': 360, 'consid': 329, 'whether': 1634, 'marriag': 937, 'hole': 725, 'garden': 627, 'sport': 1382, 'unusu': 1571, 'rabbit': 1189, 'arriv': 114, 'strang': 1401, 'surrey': 1432, 'place': 1125, 'underland': 1551, 'resembl': 1231, 'nightmar': 1025, 'child': 268, 'fill': 572, 'talk': 1448, 'anim': 91, 'knight': 847, 'furiou': 618, 'bandersnatch': 145, 'reason': 1204, 'conquer': 328, 'horrifi': 732, 'jabberwocki': 811, 'restor': 1236, 'throne': 1489, 'cure': 364, 'treat': 1524, 'mutat': 1004, 'line': 890, 'drawn': 456, 'xmen': 1675, 'brotherhood': 208, 'band': 144, 'mutant': 1003, 'easier': 471, 'magnet': 913, 'relationship': 1219, 'pulley': 1173, 'day': 383, 'monster': 984, 'necessarili': 1013, 'am': 77, 'witwicki': 1658, 'autobot': 127, 'normal': 1028, 'mind': 975, 'recept': 1206, 'target': 1450, 'drag': 453, 'transform': 1519, 'pick': 1119, 'piec': 1120, 'conclus': 321, 'vanish': 1585, 'group': 669, 'ingeni': 782, 'businessman': 216, 'scientist': 1291, 'incurs': 772, 'push': 1176, 'boundari': 193, 'technolog': 1456, 'beyond': 176, 'control': 337, 'ancient': 85, 'menac': 957, 'crosshair': 359, 'scar': 1286, 'sign': 1335, 'smalltim': 1352, 'circu': 277, 'illusionist': 754, 'conartist': 320, 'whiskey': 1636, 'kansa': 832, 'inhabit': 784, 'great': 663, 'propheci': 1166, 'clutch': 292, 'for': 593, 'busi': 215, 'between': 175, 'bad': 140, 'gun': 674, 'spend': 1376, 'wen': 1628, 'stay': 1392, 'school': 1287, 'granul': 661, 'cannot': 227, 'enough': 505, 'forgotten': 599, 'made': 910, 'elector': 481, 'born': 192, 'clue': 291, 'teachnavvi': 1453, 'son': 1362, 'investig': 800, 'rid': 1247, 'hourra': 736, 'dictat': 422, 'you': 1678, 'real': 1200, 'star': 1387, 'race': 1190, 'car': 234, 'lightn': 887, 'mcqueen': 947, 'pal': 1082, 'oversea': 1079, 'compet': 312, 'grand': 658, 'six': 1343, 'road': 1254, 'championship': 256, 'rocki': 1259, 'intrigu': 795, 'own': 1081, 'espionag': 517, 'small': 1351, 'warrior': 1611, 'green': 666, 'lantern': 858, 'corp': 341, 'sworn': 1442, 'intergalact': 790, 'each': 468, 'wear': 1623, 'ring': 1250, 'grant': 660, 'parallax': 1085, 'destroy': 412, 'lie': 882, 'moodi': 986, 'buzz': 218, 'andi': 87, 'toy': 1511, 'play': 1129, 'accident': 30, 'nefari': 1015, 'care': 235, 'center': 248, 'togeth': 1500, 'home': 727, 'grown': 671, 'postapocalypt': 1142, '2018': 11, 'resist': 1232, 'increasingli': 770, 'domin': 446, 'militarist': 972, 'root': 1264, 'marcu': 930, 'appear': 103, 'confus': 325, 'foe': 590, 'deckard': 395, 'thaw': 1471, 'seek': 1304, 'toretto': 1506, 'compos': 315, 'nation': 1009, 'merri': 958, 'content': 334, 'suddenli': 1413, 'plagu': 1126, 'infect': 778, 'popul': 1138, 'damag': 375, 'endless': 494, 'bare': 148, 'chao': 259, 'persuad': 1114, 'diseas': 434, 'that': 1470, 'peril': 1109, 'tree': 1525, 'brave': 198, 'odd': 1040, 'answer': 95, 'speci': 1372, 'across': 34, 'period': 1110, 'join': 821, 'younger': 1680, 'serv': 1315, 'enterpris': 509, 'unstopp': 1569, 'terror': 1464, 'within': 1656, 'deton': 416, 'fleet': 586, 'everyth': 526, 'stand': 1386, 'state': 1390, 'settl': 1318, 'kirk': 845, 'manhunt': 926, 'warzon': 1613, 'captur': 233, 'mass': 940, 'destruct': 413, 'repel': 1227, 'chess': 267, 'friendship': 612, 'sacrific': 1277, 'reign': 1217, 'farrand': 555, 'unwittingli': 1573, 'open': 1053, 'gateway': 629, 'wearisom': 1624, 'unleash': 1561, 'strive': 1407, 'reclaim': 1207, 'land': 856, 'lost': 903, 'them': 1473, 'princess': 1155, 'thought': 1485, 'legend': 875, 'chanc': 257, 'himself': 718, 'adapt': 39, 'scott': 1294, 'fitzgerald': 582, 'islandset': 809, 'novel': 1033, 'midwestern': 967, 'faraway': 553, 'lure': 906, 'lavish': 865, 'neighbor': 1016, 'gatsbi': 630, 'crack': 349, 'nouveau': 1032, 'rich': 1246, 'possess': 1140, 'mad': 909, 'tragedi': 1515, 'await': 132, 'rogu': 1261, 'safeguard': 1279, 'dagger': 374, 'capabl': 230, 'releas': 1220, 'gift': 639, 'god': 646, 'revers': 1244, 'possessor': 1141, 'rule': 1269, 'lesion': 877, 'monstrou': 985, 'creatur': 352, 'kaiju': 831, 'began': 166, 'would': 1669, 'consum': 331, 'resourc': 1233, 'end': 493, 'to': 1498, 'combat': 304, 'special': 1373, 'type': 1543, 'devis': 418, 'massiv': 941, 'simultan': 1339, 'pilot': 1121, 'neutral': 1018, 'bridg': 201, 'prove': 1169, 'nearli': 1012, 'defenseless': 402, 'relentless': 1221, 'verg': 1590, 'defeat': 399, 'heroes': 707, 'washedup': 1614, 'charli': 262, 'unna': 1564, 'invest': 799, 'traine': 1518, 'into': 794, 'kikuchi': 839, 'term': 1460, 'drive': 459, 'legendari': 876, 'obsolet': 1037, 'mount': 993, 'apocalyps': 102, 'tendon': 1459, 'step': 1394, 'adulthood': 43, 'remain': 1225, 'reluct': 1223, 'autobotlead': 128, 'optimu': 1057, 'film': 573, 'ussr': 1582, 'usa': 1579, 'suggest': 1416, 'role': 1262, 'met': 961, 'soviet': 1367, 'swordwield': 1441, 'irina': 805, 'spalko': 1369, 'search': 1300, 'crystal': 363, 'supernatur': 1424, 'relat': 1218, 'mystic': 1006, 'peru': 1115, 'colleagu': 298, 'professor': 1160, 'alley': 65, 'knowledg': 850, 'whereabout': 1633, 'apatosauru': 100, 'orlov': 1065, 'scottish': 1295, 'highland': 713, 'mérida': 1007, 'serou': 1314, 'minor': 977, 'unduli': 1554, 'daughter': 381, 'accomplish': 32, 'arch': 106, 'defin': 404, 'sacr': 1276, 'custom': 371, 'inadvert': 766, 'turmoil': 1536, 'eccentr': 474, 'illfat': 753, 'wish': 1654, 'fire': 578, 'comic': 306, 'relief': 1222, 'three': 1488, 'enorm': 504, 'macguffin': 908, 'surli': 1429, 'farintosh': 554, 'disagre': 429, 'dingwal': 424, 'explor': 537, 'furthest': 619, 'reach': 1199, 'unchang': 1546, 'feder': 560, 'wall': 1605, 'overrun': 1078, 'garag': 626, 'fled': 584, 'outer': 1072, '700': 19, 'clean': 286, 'mess': 959, 'develop': 417, 'rather': 1198, 'interest': 789, 'humanlik': 741, 'qualiti': 1178, 'sleek': 1349, 'think': 1481, 'final': 574, 'show': 1332, 'assassin': 117, 'ambassador': 78, 'inspector': 786, 'detect': 414, 'pari': 1088, 'french': 609, 'hold': 724, 'meet': 953, 'struggl': 1408, 'chines': 272, 'crimin': 355, 'master': 942, 'henri': 704, 'longlostbroth': 898, 'adrian': 42, 'helmsley': 702, 'worldwid': 1667, 'geophys': 633, 'effect': 477, 'radiat': 1191, 'unpreced': 1565, 'solar': 1358, 'storm': 1400, 'core': 340, 'heat': 698, 'up': 1574, 'warn': 1610, 'us': 1578, 'presid': 1148, 'thoma': 1484, 'wilson': 1648, 'crust': 362, 'unstabl': 1568, 'without': 1657, 'proper': 1164, 'prepar': 1146, 'fraction': 605, 'entir': 510, 'doom': 449, 'writer': 1673, 'jackson': 812, 'curti': 369, 'stumbl': 1409, 'inform': 781, 'build': 209, 'impend': 760, 'cataclysm': 242, 'volcan': 1597, 'erupt': 514, 'earthquak': 470, 'break': 199, 'havoc': 690, 'wiser': 1653, 'ebenez': 473, 'scroog': 1297, 'awaken': 133, 'christma': 275, 'spirit': 1380, 'miser': 979, 'opportun': 1055, 'wast': 1616, 'youth': 1681, 'current': 367, 'cruelti': 361, 'dire': 426, 'grow': 670, 'bitter': 179, 'mean': 948, 'redempt': 1211, 'genet': 632, 'materi': 945, 'commod': 309, 'impoverish': 764, 'key': 837, 'strateg': 1402, 'maneuv': 924, 'strife': 1405, 'dynasty': 467, 'kazan': 834, 'acclim': 31, 'london': 895, 'jungl': 827, 'mine': 976, 'encamp': 491, 'charm': 263, 'peac': 1103, 'plung': 1131, 'winter': 1650, 'wise': 1652, 'magnific': 914, 'children': 270, 'spectacular': 1374, 'climact': 288, 'facial': 544, 'reemerg': 1213, 'meant': 949, 'worlddestroy': 1666, 'extinct': 539, 'level': 880, 'gordon': 654, 'dismantl': 437, 'street': 1403, 'partnership': 1094, 'prey': 1152, 'terrifi': 1463, 'citizen': 279, 'poker': 1133, 'karl': 833, 'fredricksen': 607, 'spent': 1377, 'dream': 457, 'experienc': 535, 'fullest': 616, '78': 20, 'by': 219, 'twist': 1540, 'persist': 1112, '8year': 22, 'wilder': 1646, 'russel': 1273, 'give': 642, 'leas': 871, 'murphi': 1001, 'clamber': 283, 'method': 962, 'full': 615, 'wed': 1626, '49feet11inch': 15, 'jump': 825, 'compound': 316, 'renam': 1226, 'ginormica': 640, 'confin': 322, 'rage': 1193, 'held': 700, 'captiv': 232, 'afghan': 49, 'cave': 246, 'millionair': 974, 'engin': 499, 'creat': 351, 'suit': 1418, 'armor': 112, 'hugo': 739, 'train': 1517, 'station': 1391, '1930': 5, 'fix': 583, 'clock': 289, 'run': 1271, 'connect': 327, 'automat': 129, 'mechan': 952, 'contain': 333, 'shopkeep': 1330, 'georg': 634, 'seri': 1313, 'adventureseek': 46, 'goddaught': 647, 'surpris': 1431, 'unlock': 1563, 'memori': 955, 'buri': 212, 'regard': 1215, 'wigless': 1645, 'southern': 1366, 'inventor': 798, 'bliss': 183, 'hopeless': 730, 'kindl': 842, 'onli': 1050, 'gunfight': 675, 'west': 1630, 'masterofdisguis': 944, 'artemu': 115, 'thwart': 1492, 'archaeologist': 107, 'ocornel': 1039, 'china': 271, 'pit': 1123, 'emperor': 488, '2000yearold': 10, 'dynasti': 466, 'enlist': 503, 'wife': 1644, 'quasi': 1180, 'socal': 1356, 'abus': 29, 'from': 614, 'topic': 1505, 'suicid': 1417, 'squad': 1383, 'antihero': 96, 'incarcer': 767, 'supervillain': 1426, 'enabl': 489, 'asset': 118, 'undertak': 1553, 'highrisk': 714, 'op': 1052, 'exchang': 531, 'commut': 311, 'prison': 1156, 'sentenc': 1312, 'contact': 332, 'congressmen': 326, 'van': 1583, 'baxter': 156, 'ark': 109, 'flood': 589, 'ceremoni': 251, 'devot': 419, 'drop': 460, 'minut': 978, 'manag': 921, 'alpha': 72, 'again': 52, 'physic': 1118, 'thrown': 1490, 'loop': 900, 'futurist': 621, 'ice': 745, 'cap': 229, 'melt': 954, 'liquid': 892, 'barmaid': 149, 'rescu': 1230, 'seafar': 1299, 'float': 588, 'along': 71, 'charg': 261, 'knoll': 848, 'sail': 1281, 'trip': 1530, 'cover': 347, 'map': 928, 'maryland': 938, 'tattoo': 1452, 'egyptian': 480, 'desert': 408, 'deep': 396, 'elit': 482, 'gi': 637, 'joe': 819, 'nextgener': 1023, 'spi': 1378, 'equip': 513, 'corrupt': 343, 'dealer': 387, 'dora': 450, 'prevent': 1151, 'bump': 211, 'except': 530, 'mile': 969, 'promot': 1163, 'widest': 1642, 'job': 817, 'francisco': 606, 'guid': 673, 'emot': 487, 'dear': 389, 'anger': 89, 'disgust': 435, 'sad': 1278, 'headquart': 694, 'miless': 970, 'advis': 47, 'everyday': 525, 'adjust': 40, 'ensu': 506, 'although': 75, 'main': 915, 'import': 762, 'navig': 1011, 'hous': 737, 'tiger': 1495, 'than': 1469, 'flee': 585, 'mancub': 922, 'mowgli': 997, 'self': 1308, 'discoveri': 433, 'bagheera': 142, 'bear': 158, 'awar': 134, 'dual': 461, 'pressur': 1150, 'press': 1149, 'public': 1171, 'share': 1323, 'unwil': 1572, 'let': 878, 'invent': 797, 'pepper': 1107, 'boot': 190, 'rhode': 1245, 'forg': 598, 'confront': 324, 'marri': 936, 'perform': 1108, 'violent': 1596, 'coup': 345, 'murder': 1000, 'almost': 70, 'decad': 392, 'obtain': 1038, 'immort': 759, 'heart': 697, 'castl': 240, 'huntsman': 743, 'forest': 596, 'untold': 1570, 'kidney': 838, '1959': 8, 'classic': 285, 'sleep': 1350, 'pureheart': 1174, 'malefic': 919, 'idyl': 749, 'peaceabl': 1104, 'harmoni': 687, 'fierc': 568, 'protector': 1168, 'stone': 1397, 'successor': 1412, 'result': 1237, 'curs': 368, 'newton': 1022, 'infant': 777, 'aurora': 125, 'true': 1531, 'happi': 686, 'aftermath': 51, 'wipe': 1651, 'caesar': 220, 'maintain': 916, 'commun': 310, 'poland': 1134, 'off': 1043, 'jhankar': 816, 'sweep': 1437, 'tale': 1447, 'imposs': 763, 'backdrop': 138, 'anglomartha': 90, 'contin': 335, 'centr': 249, 'four': 604, 'british': 206, 'coloni': 302, 'india': 773, 'deepli': 398, 'presentday': 1147, 'biologist': 178, 'base': 152, '1941': 7, 'japan': 815, 'endur': 495, 'fantasyadventur': 551, '47': 14, 'nerv': 1017, 'ai': 56, 'hiroyuki': 720, 'canada': 224, 'samurai': 1282, 'vengeanc': 1588, 'treacher': 1522, 'overland': 1075, 'banish': 146, 'kind': 841, 'holland': 726, 'trial': 1528, 'ordinari': 1061, 'steve': 1395, 'roger': 1260, 'ak': 58, 'quietli': 1186, 'washington': 1615, 'dc': 384, 'modern': 982, 'web': 1625, 'risk': 1252, 'everwiden': 524, 'conspiraci': 330, 'profession': 1159, 'silenc': 1337, 'everi': 523, 'scope': 1292, 'falcon': 548, 'enemy': 497, 'th': 1468, 'bore': 191, 'domest': 445, 'dealmak': 388, 'rumpelstiltskin': 1270, 'ore': 1062, 'dump': 462, 'version': 1591, 'wher': 1632, 'vilna': 1595, 'round': 1266, 'bright': 203, 'optimist': 1056, 'burst': 213, 'scientif': 1290, 'curios': 365, 'boygeniu': 195, 'jade': 813, 'disillusion': 436, 'dangerfil': 378, 'enigmat': 501, 'somewher': 1361, 'tomorrowland': 1503, 'bond': 186, 'plussiz': 1132, 'inflamm': 780, 'layman': 867, 'prodigi': 1157, 'highteach': 715, 'wreckit': 1670, 'ralph': 1196, '9foottal': 23, '643pound': 17, 'arcad': 105, 'video': 1592, 'sixit': 1344, 'felix': 563, 'pant': 1084, 'good': 653, 'guy': 676, 'duti': 464, 'firstperson': 581, 'shorter': 1331, 'enter': 508, 'sugar': 1415, 'rush': 1272, 'track': 1513, 'candl': 225, 'sweet': 1438, 'vanellop': 1584, 'von': 1601, 'schweetz': 1289, 'affect': 48, 'doubt': 452, 'sole': 1360, 'selfdiscoveri': 1309, 'wonder': 1662, 'fade': 546, 'alway': 76, 'knew': 846, 'recov': 1208, 'collabor': 296, 'immens': 758, 'defens': 401, 'aliens': 62, 'advanc': 44, 'ingenu': 783, 'women': 1661, 'cusp': 370, 'manhood': 925, 'shi': 1326, 'hiccup': 709, 'horrend': 731, 'braddock': 196, 'iii': 750, 'rite': 1253, 'passag': 1096, 'mettl': 964, 'longer': 897, 'instead': 787, 'befriend': 165, 'beast': 159, 'toothless': 1504, 'chagrin': 252, '10': 1, 'judgment': 824, 'rear': 1203, 'sneer': 1355, 'clear': 287, 'anyth': 98, 'skynet': 1348, 'trace': 1512, 'tx': 1542, 'robot': 1258, 'finish': 577, 't1000': 1444, 'termin': 1461, 'nowadult': 1035, '26': 13, 'abduct': 25, 'quill': 1187, 'prime': 1153, 'orb': 1059, 'conan': 319, 'accus': 33, 'interstellar': 793, 'chronicl': 276, 'newli': 1021, 'wormhol': 1668, 'surplu': 1430, 'limit': 889, 'vast': 1586, 'distanc': 439, 'involv': 802, 'cobb': 294, 'skill': 1346, 'commit': 307, 'corpor': 342, 'infiltr': 779, 'unconsci': 1548, 'offer': 1044, 'regain': 1214, 'payment': 1102, 'task': 1451, 'incept': 768, 'implant': 761, 'idea': 747, 'evangelion': 519, 'hit': 721, 'larger': 860, 'scrambl': 1296, 'ragtag': 1194, 'volunt': 1600, 'cut': 372, 'red': 1210, 'tape': 1449, 'weak': 1621, 'tie': 1494, 'foreign': 595, 'greatest': 665, 'catastroph': 243, 'befal': 163, 'evolv': 528, 'margin': 931, 'habit': 677, 'enjoy': 502, 'quiet': 1185, 'swept': 1439, 'grey': 667, 'thirteen': 1483, 'domen': 444, 'os': 1067, 'angel': 88, 'suspect': 1436, 'mastermind': 943, 'bigfig': 177, 'hijack': 716, 'undercov': 1550, 'cop': 338, 'brian': 200, 'olong': 1047, 'iconoclast': 746, 'sister': 1342, 'choos': 274, 'lapd': 859}\n"
     ]
    }
   ],
   "source": [
    "print(cv.vocabulary_)"
   ]
  },
  {
   "cell_type": "code",
   "execution_count": 103,
   "metadata": {
    "id": "pcODqY_CDlZA"
   },
   "outputs": [],
   "source": [
    "bow=bow.toarray()"
   ]
  },
  {
   "cell_type": "code",
   "execution_count": 104,
   "metadata": {
    "colab": {
     "base_uri": "https://localhost:8080/"
    },
    "id": "St76v8ZPD3XQ",
    "outputId": "2952502f-dbe7-4be2-bbce-53b5e30ad60d"
   },
   "outputs": [
    {
     "data": {
      "text/plain": [
       "array([[0, 0, 0, ..., 0, 0, 0],\n",
       "       [0, 0, 0, ..., 0, 0, 0],\n",
       "       [0, 0, 0, ..., 0, 0, 0],\n",
       "       ...,\n",
       "       [0, 0, 0, ..., 0, 0, 0],\n",
       "       [0, 0, 0, ..., 0, 0, 0],\n",
       "       [0, 0, 0, ..., 0, 0, 0]])"
      ]
     },
     "execution_count": 104,
     "metadata": {},
     "output_type": "execute_result"
    }
   ],
   "source": [
    "bow"
   ]
  },
  {
   "cell_type": "code",
   "execution_count": 106,
   "metadata": {
    "colab": {
     "base_uri": "https://localhost:8080/"
    },
    "id": "XaQBjYL3EJGv",
    "outputId": "81b4352d-c054-4baa-c656-0a280b074958"
   },
   "outputs": [
    {
     "data": {
      "text/plain": [
       "array([0, 0, 0, ..., 0, 0, 0])"
      ]
     },
     "execution_count": 106,
     "metadata": {},
     "output_type": "execute_result"
    }
   ],
   "source": [
    "bow[3]"
   ]
  },
  {
   "cell_type": "code",
   "execution_count": 107,
   "metadata": {
    "colab": {
     "base_uri": "https://localhost:8080/"
    },
    "id": "F8cUpWo3ELFg",
    "outputId": "029fcc28-3d3f-4d78-b623-b6e09d253a41"
   },
   "outputs": [
    {
     "name": "stdout",
     "output_type": "stream",
     "text": [
      "0 0 0 0 0 0 0 0 0 0 0 0 0 0 0 0 0 0 0 0 0 0 0 0 0 0 1 0 0 0 0 0 0 0 0 0 0 0 0 0 0 0 0 0 0 0 0 0 0 0 0 0 0 0 0 0 0 0 0 0 0 0 0 0 0 0 0 0 0 0 0 0 0 0 0 0 0 0 0 0 0 0 0 0 0 0 0 0 0 0 0 0 0 0 0 0 0 0 0 0 0 0 0 0 0 0 0 0 0 0 0 0 0 0 0 0 0 0 0 0 1 0 0 2 0 0 0 0 0 0 0 0 0 0 0 0 0 0 0 0 0 0 0 0 0 0 0 0 0 0 0 0 0 0 2 0 0 0 0 0 0 0 0 0 0 0 0 0 0 0 0 0 0 0 0 0 0 0 0 0 0 0 0 0 0 0 0 0 0 0 0 0 0 0 0 0 0 1 0 0 0 0 0 0 0 0 0 0 0 0 0 0 0 0 0 0 0 0 0 0 0 0 0 0 0 0 0 0 0 0 0 0 0 0 0 0 0 0 0 0 0 0 0 0 0 0 0 0 0 0 0 0 0 0 0 0 0 0 0 0 0 0 0 0 0 0 0 0 0 0 0 0 0 0 0 0 0 0 2 0 0 0 0 0 0 0 0 0 0 0 0 0 0 0 0 0 0 0 0 0 0 0 0 0 0 0 0 0 0 0 0 0 0 0 0 0 0 0 0 0 0 0 0 0 0 0 0 0 0 0 0 0 0 0 0 0 0 0 0 0 0 0 0 0 0 0 0 0 0 0 0 0 0 0 1 0 0 0 0 0 0 0 0 0 0 0 0 0 0 0 0 0 0 0 0 0 0 0 0 0 1 0 0 0 0 0 0 0 0 0 1 0 0 0 0 0 0 0 0 0 0 0 0 0 0 0 1 0 0 0 0 0 0 0 0 0 0 0 0 0 0 0 0 0 0 0 0 0 0 0 0 0 0 0 0 0 0 0 0 0 1 0 0 0 0 0 0 0 0 0 0 0 0 0 0 0 0 0 0 0 0 0 0 0 0 0 0 0 0 0 0 0 0 0 0 0 0 0 0 0 0 0 0 0 0 0 0 0 0 0 0 0 1 0 0 0 1 0 0 0 0 0 0 0 0 0 0 0 0 0 0 0 0 0 0 0 0 0 0 0 0 0 0 0 0 0 0 0 0 0 0 0 0 0 0 0 0 0 0 0 0 0 0 0 0 0 0 0 0 0 0 0 0 0 0 0 0 0 0 0 0 0 0 0 0 0 0 0 0 0 0 0 0 0 0 0 1 0 0 0 0 0 0 0 0 0 0 0 0 0 0 1 0 0 0 0 0 0 0 0 0 0 0 0 0 0 0 0 0 0 0 0 0 0 0 0 0 0 0 0 0 0 0 0 0 0 0 0 0 0 0 0 0 0 0 0 0 0 0 0 0 0 0 0 0 0 0 0 0 0 0 0 0 0 0 0 2 0 0 0 0 0 0 0 0 0 0 0 0 0 0 0 0 0 0 0 0 0 0 0 0 0 0 0 0 0 0 0 1 0 0 0 0 0 0 0 0 0 0 0 0 1 0 0 0 0 0 0 0 0 0 0 0 0 0 0 0 0 0 0 0 0 0 0 0 0 0 0 0 0 0 0 0 0 0 0 0 0 0 0 0 0 1 0 0 0 0 0 0 0 0 0 0 0 0 0 0 0 0 0 0 0 0 0 0 0 0 0 0 0 0 0 0 0 0 0 0 0 0 0 0 0 0 0 0 0 0 0 0 0 0 0 0 0 0 0 0 0 0 0 0 0 0 0 0 0 0 0 0 0 0 0 0 0 0 0 0 0 0 0 0 0 0 0 0 0 0 0 0 0 0 0 0 0 0 0 0 0 0 0 0 0 0 0 0 0 0 0 0 0 0 0 0 0 0 0 0 1 0 0 0 0 1 1 0 0 0 0 0 1 0 0 0 0 0 0 0 0 0 0 0 0 0 0 0 0 0 0 0 0 0 0 0 0 0 0 0 0 0 0 0 0 0 0 0 0 0 0 0 0 0 0 0 0 0 0 0 0 0 0 0 0 0 0 0 0 0 0 0 0 0 0 0 0 0 0 0 0 0 0 0 0 0 0 0 0 0 0 0 0 0 0 0 0 0 0 0 0 0 0 0 0 0 0 0 0 0 0 0 0 0 0 0 0 0 0 0 0 0 0 0 0 0 0 0 0 0 0 0 0 0 0 0 0 0 0 0 0 0 0 0 0 0 0 0 1 0 0 0 0 0 0 0 0 0 0 0 0 0 0 1 0 0 0 1 0 0 0 0 0 0 0 0 0 0 0 0 0 0 0 0 0 0 0 0 0 0 0 0 0 0 0 0 0 0 0 0 0 0 0 0 0 0 0 0 0 0 0 0 0 0 0 0 0 0 0 0 0 0 0 1 0 0 0 0 0 0 0 0 0 0 0 0 0 0 0 0 0 0 0 0 0 0 0 0 0 0 0 0 0 0 0 0 0 0 0 0 0 0 0 0 0 0 0 0 0 0 0 0 0 0 0 0 0 0 0 1 0 0 0 0 0 0 0 0 0 0 0 0 0 0 0 0 0 0 0 0 0 0 0 0 0 0 0 0 0 0 2 0 0 0 0 0 0 0 0 0 0 0 0 0 0 0 0 0 0 0 0 0 0 0 0 0 0 0 0 0 0 0 0 0 0 0 0 0 0 0 0 0 0 0 0 0 0 0 0 0 0 0 0 0 0 0 0 0 0 0 0 0 1 0 0 0 0 1 0 0 0 0 0 0 0 0 0 0 0 0 0 0 1 0 0 0 0 0 0 0 0 0 0 0 0 0 0 0 0 0 0 0 0 0 0 0 0 0 0 0 0 0 0 0 0 0 0 0 0 0 0 0 0 0 0 0 0 0 0 0 0 0 0 0 0 0 0 0 0 0 0 0 0 0 0 0 0 0 0 0 0 0 0 0 0 0 0 0 0 0 0 0 0 0 0 0 0 0 0 0 0 0 0 0 0 0 0 0 0 0 0 0 0 0 0 0 0 0 0 0 0 0 0 0 0 0 0 0 0 0 0 0 0 0 0 0 0 0 0 0 0 0 0 0 0 0 0 0 0 0 0 0 0 0 0 0 0 0 0 0 0 0 0 0 0 0 0 0 0 0 0 0 0 1 0 0 0 0 0 0 0 0 0 0 0 0 0 0 0 0 0 1 0 0 0 0 0 0 0 0 0 0 0 0 0 0 0 0 0 0 0 0 0 0 0 0 0 0 0 0 0 0 0 0 0 0 0 0 1 0 0 0 0 0 0 1 0 0 0 0 0 0 0 0 0 0 0 0 0 0 0 0 0 0 0 0 0 0 0 0 0 0 0 0 0 0 0 0 0 0 0 0 0 0 0 0 0 0 0 0 0 0 0 0 0 0 0 0 0 0 0 0 0 0 0 0 0 0 0 0 0 0 0 0 0 0 0 0 0 0 0 0 0 0 0 0 0 0 0 0 0 0 0 0 0 0 0 0 0 0 0 0 0 0 0 0 0 0 0 0 0 0 0 0 0 0 0 0 0 0 0 0 0 0 0 0 0 1 0 0 0 0 0 0 0 0 0 0 0 0 0 0 0 0 0 0 0 0 0 0 0 0 0 0 0 0 0 0 0 0 0 0 2 0 0 0 0 0 0 0 0 0 0 0 0 0 0 0 0 0 0 0 0 0 0 0 0 0 0 0 0 0 0 0 0 0 0 0 0 0 0 0 0 0 0 0 0 0 0 1 0 0 0 0 0 "
     ]
    }
   ],
   "source": [
    "# Print each element of the array\n",
    "for element in bow[3]:\n",
    "        print(element, end=' ')"
   ]
  },
  {
   "cell_type": "markdown",
   "metadata": {
    "id": "LQMsISBwHoJS"
   },
   "source": [
    "## 3. N-Grams"
   ]
  },
  {
   "cell_type": "code",
   "execution_count": 108,
   "metadata": {
    "id": "dqL4uPsUFnvu"
   },
   "outputs": [],
   "source": [
    "cv=CountVectorizer(ngram_range=(4,4))\n",
    "n_grams=cv.fit_transform(df['overview'])"
   ]
  },
  {
   "cell_type": "code",
   "execution_count": 109,
   "metadata": {
    "colab": {
     "base_uri": "https://localhost:8080/"
    },
    "id": "tiZwToh3HZie",
    "outputId": "fdc20447-09c2-4237-930d-13dc301f84ff"
   },
   "outputs": [
    {
     "name": "stdout",
     "output_type": "stream",
     "text": [
      "{'in and centuri paraplegia': 1404, 'and centuri paraplegia marin': 161, 'centuri paraplegia marin dispatch': 480, 'paraplegia marin dispatch moon': 2065, 'marin dispatch moon candor': 1766, 'dispatch moon candor uniqu': 759, 'moon candor uniqu mission': 1857, 'candor uniqu mission becom': 432, 'uniqu mission becom torn': 2926, 'mission becom torn follow': 1843, 'becom torn follow order': 315, 'torn follow order protect': 2834, 'follow order protect alien': 1062, 'order protect alien civil': 2028, 'captain barbossa long believ': 445, 'barbossa long believ dead': 283, 'long believ dead come': 1696, 'believ dead come back': 332, 'dead come back life': 678, 'come back life head': 555, 'back life head edg': 266, 'life head edg earth': 1663, 'head edg earth will': 1276, 'edg earth will turner': 816, 'earth will turner elizabeth': 808, 'will turner elizabeth want': 3120, 'turner elizabeth want but': 2890, 'elizabeth want but noth': 827, 'want but noth quit': 3011, 'but noth quit seem': 410, 'cystic messag fond past': 646, 'messag fond past send': 1811, 'fond past send trail': 1070, 'past send trail uncov': 2090, 'send trail uncov sinist': 2475, 'trail uncov sinist organ': 2845, 'uncov sinist organ while': 2913, 'sinist organ while battl': 2531, 'organ while battl polit': 2037, 'while battl polit forc': 3087, 'battl polit forc keep': 301, 'polit forc keep secret': 2174, 'forc keep secret servic': 1081, 'keep secret servic aliv': 1537, 'secret servic aliv fond': 2451, 'servic aliv fond feel': 2485, 'aliv fond feel back': 108, 'fond feel back layer': 1067, 'feel back layer deceit': 1000, 'back layer deceit reveal': 265, 'layer deceit reveal terribl': 1613, 'deceit reveal terribl truth': 691, 'reveal terribl truth behind': 2350, 'terribl truth behind spectr': 2734, 'follow death district attorney': 1060, 'death district attorney harvey': 686, 'district attorney harvey went': 761, 'attorney harvey went batman': 228, 'harvey went batman assum': 1258, 'went batman assum respons': 3061, 'batman assum respons went': 291, 'assum respons went crime': 220, 'respons went crime protect': 2334, 'went crime protect late': 3063, 'crime protect late attorney': 622, 'protect late attorney reput': 2225, 'late attorney reput subsequ': 1602, 'attorney reput subsequ hunt': 229, 'reput subsequ hunt gotham': 2328, 'subsequ hunt gotham citi': 2649, 'hunt gotham citi polic': 1373, 'gotham citi polic depart': 1207, 'citi polic depart right': 519, 'polic depart right year': 2173, 'depart right year later': 709, 'right year later batman': 2368, 'year later batman encount': 3225, 'later batman encount mysteri': 1604, 'batman encount mysteri helena': 292, 'encount mysteri helena abl': 850, 'mysteri helena abl villain': 1896, 'helena abl villain lane': 1288, 'abl villain lane new': 28, 'villain lane new terrorist': 2994, 'lane new terrorist leader': 1592, 'new terrorist leader overwhelm': 1948, 'terrorist leader overwhelm gotham': 2738, 'leader overwhelm gotham finest': 1622, 'overwhelm gotham finest the': 2059, 'gotham finest the dark': 1209, 'finest the dark night': 1039, 'the dark night surfac': 2750, 'dark night surfac protect': 664, 'night surfac protect citi': 1957, 'surfac protect citi brand': 2672, 'protect citi brand enemi': 2223, 'john garter warweari former': 1507, 'garter warweari former militari': 1161, 'warweari former militari captain': 3032, 'former militari captain who': 1101, 'militari captain who inexplic': 1827, 'captain who inexplic transport': 447, 'who inexplic transport mysteri': 3098, 'inexplic transport mysteri exot': 1427, 'transport mysteri exot planet': 2855, 'mysteri exot planet barsoom': 1894, 'exot planet barsoom war': 933, 'planet barsoom war reluctantli': 2156, 'barsoom war reluctantli becom': 288, 'war reluctantli becom embroil': 3020, 'reluctantli becom embroil epic': 2320, 'becom embroil epic conflict': 309, 'embroil epic conflict it': 833, 'epic conflict it world': 883, 'conflict it world brink': 577, 'it world brink collaps': 1494, 'world brink collaps garter': 3169, 'brink collaps garter rediscov': 386, 'collaps garter rediscov human': 541, 'garter rediscov human realiz': 1160, 'rediscov human realiz surviv': 2308, 'human realiz surviv barsoom': 1369, 'realiz surviv barsoom peopl': 2298, 'surviv barsoom peopl rest': 2677, 'barsoom peopl rest hand': 287, 'the seemingli invinc spideran': 2759, 'seemingli invinc spideran goe': 2467, 'invinc spideran goe allnew': 1467, 'spideran goe allnew crop': 2585, 'goe allnew crop villain': 1198, 'allnew crop villain includ': 117, 'crop villain includ shapeshift': 630, 'villain includ shapeshift madman': 2993, 'includ shapeshift madman while': 1416, 'shapeshift madman while spideran': 2499, 'madman while spideran superpow': 1726, 'while spideran superpow alter': 3088, 'spideran superpow alter alien': 2588, 'superpow alter alien organ': 2667, 'alter alien organ alter': 128, 'alien organ alter ego': 102, 'organ alter ego peter': 2031, 'alter ego peter parker': 130, 'ego peter parker deal': 822, 'peter parker deal genesi': 2125, 'parker deal genesi die': 2071, 'deal genesi die frock': 681, 'genesi die frock also': 1165, 'die frock also get': 734, 'frock also get caught': 1128, 'also get caught love': 125, 'get caught love triangl': 1172, 'when kingdom wantedand charmingbandit': 3074, 'kingdom wantedand charmingbandit lynn': 1570, 'wantedand charmingbandit lynn wider': 3013, 'charmingbandit lynn wider hide': 502, 'lynn wider hide mysteri': 1720, 'wider hide mysteri tower': 3109, 'hide mysteri tower he': 1317, 'mysteri tower he taken': 1904, 'tower he taken hostag': 2835, 'he taken hostag rapunzel': 1274, 'taken hostag rapunzel beauti': 2703, 'hostag rapunzel beauti fifti': 1352, 'rapunzel beauti fifti towerbound': 2291, 'beauti fifti towerbound been': 307, 'fifti towerbound been 70': 1011, 'towerbound been 70 feet': 2837, 'been 70 feet magic': 318, '70 feet magic golden': 19, 'feet magic golden hair': 1003, 'magic golden hair lynn': 1727, 'golden hair lynn curiou': 1201, 'hair lynn curiou castor': 1249, 'lynn curiou castor who': 1717, 'curiou castor who look': 638, 'castor who look ticket': 464, 'who look ticket tower': 3099, 'look ticket tower lock': 1702, 'ticket tower lock away': 2810, 'tower lock away year': 2836, 'lock away year strike': 1693, 'away year strike deal': 251, 'year strike deal handsom': 3228, 'strike deal handsom thief': 2641, 'deal handsom thief unlik': 682, 'handsom thief unlik do': 1254, 'thief unlik do set': 2783, 'unlik do set actionpack': 2939, 'do set actionpack escapad': 764, 'set actionpack escapad complet': 2486, 'actionpack escapad complet supercop': 44, 'escapad complet supercop hors': 900, 'complet supercop hors overprotect': 568, 'supercop hors overprotect chameleon': 2660, 'hors overprotect chameleon gruff': 1351, 'overprotect chameleon gruff gang': 2056, 'chameleon gruff gang pub': 487, 'gruff gang pub thu': 1242, 'when boni stark tri': 3066, 'boni stark tri jumpstart': 359, 'stark tri jumpstart dormant': 2602, 'tri jumpstart dormant peacekeep': 2872, 'jumpstart dormant peacekeep program': 1524, 'dormant peacekeep program thing': 775, 'peacekeep program thing go': 2103, 'program thing go awri': 2215, 'thing go awri earth': 2786, 'go awri earth lightest': 1188, 'awri earth lightest hero': 252, 'earth lightest hero put': 802, 'lightest hero put ultim': 1675, 'hero put ultim test': 1308, 'put ultim test fate': 2245, 'ultim test fate planet': 2905, 'test fate planet hang': 2739, 'fate planet hang balanc': 986, 'planet hang balanc is': 2161, 'hang balanc is villain': 1255, 'balanc is villain patron': 277, 'is villain patron emerg': 1483, 'villain patron emerg the': 2995, 'patron emerg the aveng': 2096, 'emerg the aveng stop': 838, 'the aveng stop enact': 2746, 'aveng stop enact terribl': 244, 'stop enact terribl plan': 2623, 'enact terribl plan soon': 848, 'terribl plan soon uneasi': 2733, 'plan soon uneasi allianc': 2155, 'soon uneasi allianc unexpect': 2560, 'uneasi allianc unexpect action': 2920, 'allianc unexpect action have': 116, 'unexpect action have way': 2921, 'action have way epic': 42, 'have way epic uniqu': 1261, 'way epic uniqu global': 3044, 'epic uniqu global adventur': 888, 'is carri begin sixth': 1474, 'carri begin sixth year': 458, 'begin sixth year hogwart': 326, 'sixth year hogwart discov': 2535, 'year hogwart discov old': 3222, 'hogwart discov old book': 1331, 'discov old book mark': 749, 'old book mark properti': 1990, 'book mark properti halfblood': 361, 'mark properti halfblood princ': 1768, 'properti halfblood princ begin': 2221, 'halfblood princ begin learn': 1250, 'princ begin learn word': 2202, 'begin learn word voldemort': 324, 'learn word voldemort dark': 1630, 'word voldemort dark past': 3159, 'hear action godlik super': 1283, 'action godlik super hero': 41, 'godlik super hero left': 1197, 'super hero left check': 2659, 'hero left check gotham': 1306, 'left check gotham city': 1638, 'check gotham city formid': 504, 'gotham city formid forc': 1208, 'city formid forc vigil': 522, 'formid forc vigil take': 1106, 'forc vigil take metropolis': 1087, 'vigil take metropolis rever': 2989, 'take metropolis rever modernday': 2699, 'metropolis rever modernday savior': 1815, 'rever modernday savior world': 2355, 'modernday savior world wrestl': 1851, 'savior world wrestl sort': 2424, 'world wrestl sort hero': 3193, 'wrestl sort hero realli': 3200, 'sort hero realli need': 2561, 'hero realli need and': 1309, 'realli need and batman': 2299, 'need and batman superman': 1928, 'and batman superman war': 160, 'batman superman war one': 295, 'superman war one anoth': 2665, 'war one anoth new': 3018, 'one anoth new threat': 2000, 'anoth new threat quickli': 178, 'new threat quickli aris': 1949, 'threat quickli aris put': 2799, 'quickli aris put mankind': 2266, 'aris put mankind greater': 195, 'put mankind greater danger': 2242, 'mankind greater danger it': 1759, 'greater danger it ever': 1224, 'danger it ever known': 654, 'it ever known befor': 1490, 'superman return discov 5year': 2664, 'return discov 5year absenc': 2342, 'discov 5year absenc allow': 745, '5year absenc allow ex': 17, 'absenc allow ex author': 31, 'allow ex author walk': 118, 'ex author walk free': 924, 'author walk free closest': 236, 'walk free closest felt': 3007, 'free closest felt abandon': 1118, 'closest felt abandon move': 534, 'felt abandon move on': 1005, 'abandon move on author': 25, 'move on author plot': 1867, 'on author plot ultim': 1998, 'author plot ultim reveng': 234, 'plot ultim reveng could': 2166, 'ultim reveng could see': 2903, 'reveng could see million': 2351, 'could see million kill': 607, 'see million kill chang': 2459, 'million kill chang face': 1832, 'kill chang face planet': 1548, 'chang face planet forev': 491, 'face planet forev well': 958, 'planet forev well ride': 2159, 'forev well ride an': 1093, 'well ride an steel': 3058, 'quantum solac continu adventur': 2249, 'solac continu adventur jame': 2547, 'continu adventur jame fond': 593, 'adventur jame fond basin': 56, 'jame fond basin royal': 1498, 'fond basin royal betray': 1066, 'basin royal betray deeper': 290, 'royal betray deeper woman': 2399, 'betray deeper woman love': 338, 'deeper woman love 007': 698, 'woman love 007 fight': 3151, 'love 007 fight urg': 1707, '007 fight urg make': 0, 'fight urg make latest': 1016, 'urg make latest mission': 2962, 'make latest mission person': 1734, 'latest mission person pursu': 1610, 'mission person pursu determin': 1848, 'person pursu determin uncov': 2114, 'pursu determin uncov truth': 2238, 'determin uncov truth fond': 722, 'uncov truth fond interrog': 2914, 'truth fond interrog or': 2880, 'fond interrog or white': 1068, 'interrog or white reveal': 1447, 'or white reveal organ': 2023, 'white reveal organ blackmail': 3094, 'reveal organ blackmail deeper': 2348, 'organ blackmail deeper far': 2032, 'blackmail deeper far complex': 349, 'deeper far complex danger': 697, 'far complex danger anyon': 976, 'complex danger anyon imagin': 569, 'captain back sparrow work': 444, 'back sparrow work way': 268, 'sparrow work way blood': 2575, 'work way blood debt': 3163, 'way blood debt ghostli': 3043, 'blood debt ghostli have': 351, 'debt ghostli have bone': 689, 'ghostli have bone also': 1175, 'have bone also attempt': 1260, 'bone also attempt avoid': 354, 'also attempt avoid etern': 123, 'attempt avoid etern donat': 225, 'the texa danger chase': 2762, 'texa danger chase gang': 2740, 'danger chase gang outlaw': 651, 'chase gang outlaw led': 503, 'gang outlaw led dutch': 1156, 'outlaw led dutch cavendish': 2052, 'led dutch cavendish gang': 1636, 'dutch cavendish gang bush': 789, 'cavendish gang bush danger': 473, 'gang bush danger seemingli': 1153, 'bush danger seemingli kill': 399, 'danger seemingli kill all': 658, 'seemingli kill all one': 2468, 'kill all one survivor': 1547, 'all one survivor found': 110, 'one survivor found howev': 2007, 'survivor found howev american': 2680, 'found howev american indian': 1110, 'howev american indian name': 1355, 'american indian name onto': 144, 'indian name onto nurs': 1423, 'name onto nurs back': 1915, 'onto nurs back health': 2012, 'nurs back health the': 1975, 'back health the danger': 262, 'health the danger don': 1282, 'the danger don mask': 2749, 'danger don mask ride': 653, 'don mask ride white': 772, 'mask ride white stallion': 1772, 'ride white stallion name': 2362, 'white stallion name silver': 3095, 'stallion name silver tear': 2595, 'name silver tear onto': 1919, 'silver tear onto bring': 2528, 'tear onto bring unscrupul': 2722, 'onto bring unscrupul gang': 2011, 'bring unscrupul gang other': 384, 'unscrupul gang other ill': 2947, 'gang other ill justic': 1155, 'young boy learn extraordinari': 3232, 'boy learn extraordinari power': 368, 'learn extraordinari power earth': 1626, 'extraordinari power earth is': 942, 'power earth is young': 2182, 'earth is young man': 799, 'is young man journey': 1484, 'young man journey discov': 3238, 'man journey discov came': 1745, 'journey discov came sent': 1517, 'discov came sent do': 746, 'came sent do but': 428, 'sent do but hero': 2476, 'do but hero must': 763, 'but hero must emerg': 404, 'hero must emerg save': 1307, 'must emerg save world': 1882, 'emerg save world annihil': 837, 'save world annihil becom': 2423, 'world annihil becom symbol': 3165, 'annihil becom symbol hope': 176, 'becom symbol hope mankind': 313, 'one year incred adventur': 2008, 'year incred adventur lion': 3223, 'incred adventur lion pitch': 1419, 'adventur lion pitch wardrob': 58, 'lion pitch wardrob peter': 1684, 'pitch wardrob peter edmund': 2145, 'wardrob peter edmund luci': 3026, 'peter edmund luci susan': 2121, 'edmund luci susan pevensi': 817, 'luci susan pevensi return': 1715, 'susan pevensi return hernia': 2683, 'pevensi return hernia aid': 2134, 'return hernia aid young': 2343, 'hernia aid young princ': 1299, 'aid young princ whose': 93, 'young princ whose life': 3240, 'princ whose life threaten': 2204, 'whose life threaten evil': 3107, 'life threaten evil king': 1672, 'threaten evil king diaz': 2802, 'evil king diaz now': 919, 'king diaz now help': 1555, 'diaz now help colour': 731, 'now help colour cast': 1970, 'help colour cast new': 1292, 'colour cast new charact': 550, 'cast new charact includ': 462, 'new charact includ trufflehunt': 1942, 'charact includ trufflehunt badg': 498, 'includ trufflehunt badg nikabrik': 1417, 'trufflehunt badg nikabrik dwarf': 2878, 'badg nikabrik dwarf pevensi': 275, 'nikabrik dwarf pevensi clan': 1959, 'dwarf pevensi clan embark': 791, 'pevensi clan embark incred': 2133, 'clan embark incred quest': 526, 'embark incred quest ensur': 829, 'incred quest ensur hernia': 1420, 'quest ensur hernia return': 2260, 'ensur hernia return right': 872, 'hernia return right heir': 1300, 'when unexpect enemi emerg': 3082, 'unexpect enemi emerg threaten': 2923, 'enemi emerg threaten global': 857, 'emerg threaten global safeti': 839, 'threaten global safeti secur': 2803, 'global safeti secur sick': 1185, 'safeti secur sick juri': 2414, 'secur sick juri director': 2454, 'sick juri director intern': 2520, 'juri director intern peacekeep': 1529, 'director intern peacekeep agenc': 741, 'intern peacekeep agenc known': 1445, 'peacekeep agenc known shield': 2102, 'agenc known shield find': 82, 'known shield find need': 1578, 'shield find need team': 2506, 'find need team pull': 1030, 'need team pull world': 1931, 'team pull world back': 2717, 'pull world back brink': 2235, 'world back brink disast': 3167, 'back brink disast span': 257, 'brink disast span globe': 387, 'disast span globe dare': 744, 'span globe dare recruit': 2573, 'globe dare recruit effort': 1186, 'dare recruit effort begin': 660, 'captain back sparrow cross': 443, 'back sparrow cross path': 267, 'sparrow cross path woman': 2574, 'cross path woman past': 631, 'path woman past he': 2094, 'woman past he sure': 3154, 'past he sure love': 2089, 'he sure love ruthless': 1273, 'sure love ruthless con': 2671, 'love ruthless con artist': 1710, 'ruthless con artist who': 2409, 'con artist who use': 572, 'artist who use find': 211, 'who use find fail': 3102, 'use find fail mountain': 2969, 'find fail mountain south': 1028, 'fail mountain south when': 966, 'mountain south when forc': 1865, 'south when forc aboard': 2562, 'when forc aboard queen': 3072, 'forc aboard queen ann': 1075, 'aboard queen ann reveng': 29, 'queen ann reveng ship': 2251, 'ann reveng ship formid': 175, 'reveng ship formid pirat': 2354, 'ship formid pirat blackbeard': 2511, 'formid pirat blackbeard back': 1107, 'pirat blackbeard back find': 2140, 'blackbeard back find unexpect': 348, 'back find unexpect adventur': 260, 'find unexpect adventur know': 1034, 'unexpect adventur know fear': 2922, 'adventur know fear more': 57, 'know fear more blackbeard': 1575, 'fear more blackbeard woman': 998, 'more blackbeard woman past': 1858, 'agent will smith tommi': 88, 'will smith tommi see': 3119, 'smith tommi see bone': 2544, 'tommi see bone backin': 2825, 'see bone backin time': 2456, 'bone backin time seen': 355, 'backin time seen inexplic': 272, 'time seen inexplic thing': 2814, 'seen inexplic thing 15': 2471, 'inexplic thing 15 year': 1426, 'thing 15 year men': 2784, '15 year men black': 4, 'year men black noth': 3226, 'men black noth even': 1802, 'black noth even alien': 344, 'noth even alien perplex': 1964, 'even alien perplex much': 904, 'alien perplex much wri': 103, 'perplex much wri retic': 2110, 'much wri retic partner': 1872, 'wri retic partner but': 3201, 'retic partner but ks': 2340, 'partner but ks life': 2082, 'but ks life fate': 405, 'ks life fate planet': 1580, 'life fate planet put': 1658, 'fate planet put stake': 987, 'planet put stake agent': 2163, 'put stake agent travel': 2243, 'stake agent travel back': 2593, 'agent travel back year': 86, 'travel back year eye': 2857, 'back year eye put': 270, 'year eye put thing': 3218, 'eye put thing right': 950, 'put thing right discov': 2244, 'thing right discov secret': 2790, 'right discov secret univers': 2365, 'discov secret univers never': 751, 'secret univers never told': 2452, 'univers never told secret': 2936, 'never told secret reveal': 1938, 'told secret reveal tear': 2824, 'secret reveal tear young': 2450, 'reveal tear young agent': 2349, 'tear young agent most': 2723, 'young agent most groin': 3231, 'agent most groin save': 85, 'most groin save partner': 1860, 'groin save partner agenc': 1229, 'save partner agenc futur': 2422, 'partner agenc futur mankind': 2081, 'immedi event the desol': 1391, 'event the desol mug': 911, 'the desol mug ilio': 2751, 'desol mug ilio wave': 714, 'mug ilio wave tri': 1873, 'ilio wave tri defend': 1387, 'wave tri defend tremor': 3042, 'tri defend tremor mountain': 2869, 'defend tremor mountain treasur': 703, 'tremor mountain treasur other': 2866, 'mountain treasur other claim': 1866, 'treasur other claim it': 2862, 'other claim it men': 2044, 'claim it men ruin': 524, 'it men ruin laketown': 1493, 'men ruin laketown eav': 1804, 'ruin laketown eav firewood': 2400, 'laketown eav firewood meanwhil': 1583, 'eav firewood meanwhil armi': 812, 'firewood meanwhil armi arm': 1043, 'meanwhil armi arm led': 1791, 'armi arm led dog': 201, 'arm led dog defil': 199, 'led dog defil march': 1635, 'dog defil march tremor': 765, 'defil march tremor field': 706, 'march tremor field rise': 1762, 'tremor field rise dark': 2865, 'field rise dark lord': 1009, 'rise dark lord baron': 2371, 'dark lord baron wave': 663, 'lord baron wave eav': 1703, 'baron wave eav men': 286, 'wave eav men must': 3039, 'eav men must unit': 813, 'men must unit hope': 1803, 'must unit hope middleearth': 1889, 'unit hope middleearth fall': 2929, 'hope middleearth fall ilio': 1345, 'middleearth fall ilio hand': 1819, 'peter parker outcast high': 2128, 'parker outcast high schooner': 2074, 'outcast high schooner abandon': 2047, 'high schooner abandon parent': 1319, 'schooner abandon parent boy': 2427, 'abandon parent boy leav': 26, 'parent boy leav rais': 2066, 'boy leav rais uncl': 369, 'leav rais uncl men': 1633, 'rais uncl men aunt': 2285, 'uncl men aunt may': 2908, 'men aunt may like': 1801, 'aunt may like teenag': 230, 'may like teenag peter': 1784, 'like teenag peter tri': 1680, 'teenag peter tri figur': 2727, 'peter tri figur got': 2131, 'tri figur got person': 2871, 'figur got person today': 1018, 'got person today is': 1206, 'person today is peter': 2117, 'today is peter discov': 2819, 'is peter discov mysteri': 1480, 'peter discov mysteri briefcas': 2120, 'discov mysteri briefcas belong': 748, 'mysteri briefcas belong father': 1892, 'briefcas belong father begin': 381, 'belong father begin quest': 333, 'father begin quest understand': 991, 'begin quest understand parent': 325, 'quest understand parent disappear': 2264, 'understand parent disappear lead': 2917, 'parent disappear lead directli': 2067, 'disappear lead directli score': 742, 'lead directli score lab': 1616, 'directli score lab or': 740, 'score lab or hurt': 2433, 'lab or hurt honor': 1581, 'or hurt honor father': 2022, 'hurt honor father former': 1376, 'honor father former partner': 1339, 'father former partner is': 993, 'former partner is spideran': 1102, 'partner is spideran set': 2083, 'is spideran set collis': 1482, 'spideran set collis cours': 2586, 'set collis cours honor': 2489, 'collis cours honor alter': 547, 'cours honor alter ego': 609, 'honor alter ego the': 1338, 'alter ego the wizard': 131, 'ego the wizard peter': 823, 'the wizard peter make': 2770, 'wizard peter make lifealt': 3145, 'peter make lifealt choic': 2123, 'make lifealt choic use': 1735, 'lifealt choic use power': 1674, 'choic use power shape': 512, 'use power shape destini': 2973, 'power shape destini becom': 2187, 'shape destini becom hero': 2498, 'when soldier robin happen': 3079, 'soldier robin happen upon': 2549, 'robin happen upon die': 2383, 'happen upon die robert': 1256, 'upon die robert volley': 2957, 'die robert volley promis': 735, 'robert volley promis return': 2382, 'volley promis return man': 3002, 'promis return man sword': 2218, 'return man sword famili': 2344, 'man sword famili nottingham': 1746, 'sword famili nottingham there': 2689, 'famili nottingham there assum': 973, 'nottingham there assum robert': 1966, 'there assum robert ident': 2774, 'assum robert ident romanc': 221, 'robert ident romanc widow': 2381, 'ident romanc widow marion': 1381, 'romanc widow marion draw': 2389, 'widow marion draw ire': 3113, 'marion draw ire town': 1767, 'draw ire town sheriff': 781, 'ire town sheriff king': 1469, 'town sheriff king john': 2838, 'sheriff king john frenchman': 2503, 'king john frenchman godfrey': 1556, 'the wave ilio gandalf': 2769, 'wave ilio gandalf success': 3040, 'ilio gandalf success escap': 1385, 'gandalf success escap misti': 1152, 'success escap misti mountain': 2650, 'escap misti mountain ilio': 897, 'misti mountain ilio gain': 1849, 'mountain ilio gain one': 1864, 'ilio gain one king': 1384, 'gain one king they': 1142, 'one king they continu': 2003, 'king they continu journey': 1562, 'they continu journey get': 2779, 'continu journey get gold': 594, 'journey get gold back': 1518, 'get gold back dragon': 1174, 'gold back dragon mug': 1200, 'after overhear shock secret': 72, 'overhear shock secret preciou': 2053, 'shock secret preciou orphan': 2514, 'secret preciou orphan vera': 2449, 'preciou orphan vera belacqua': 2191, 'orphan vera belacqua trade': 2042, 'vera belacqua trade carefre': 2985, 'belacqua trade carefre exist': 330, 'trade carefre exist roam': 2843, 'carefre exist roam hall': 456, 'exist roam hall jordan': 932, 'roam hall jordan colleg': 2380, 'hall jordan colleg otherworldli': 1251, 'jordan colleg otherworldli adventur': 1516, 'colleg otherworldli adventur far': 546, 'otherworldli adventur far north': 2045, 'adventur far north unawar': 53, 'far north unawar part': 977, 'north unawar part destini': 1963, 'in 1933 new work': 1401, '1933 new work overlay': 7, 'new work overlay ambiti': 1952, 'work overlay ambiti movi': 3160, 'overlay ambiti movi produc': 2055, 'ambiti movi produc coerc': 139, 'movi produc coerc cast': 1869, 'produc coerc cast hire': 2210, 'coerc cast hire ship': 538, 'cast hire ship crew': 461, 'hire ship crew travel': 1326, 'ship crew travel mysteri': 2510, 'crew travel mysteri skull': 621, 'travel mysteri skull island': 2860, 'mysteri skull island encount': 1902, 'skull island encount long': 2537, 'island encount long giant': 1485, 'encount long giant ape': 849, 'long giant ape immedi': 1697, 'giant ape immedi smitten': 1177, 'ape immedi smitten lead': 186, 'immedi smitten lead ladi': 1392, '84 year later 101yearold': 22, 'year later 101yearold woman': 3224, 'later 101yearold woman name': 1603, '101yearold woman name rose': 3, 'woman name rose dewitt': 3153, 'name rose dewitt bukat': 1917, 'rose dewitt bukat tell': 2397, 'dewitt bukat tell stori': 730, 'bukat tell stori granddaught': 395, 'tell stori granddaught dizzi': 2729, 'stori granddaught dizzi alert': 2629, 'granddaught dizzi alert frock': 1216, 'dizzi alert frock covert': 762, 'alert frock covert lewi': 95, 'frock covert lewi iodin': 1129, 'covert lewi iodin hobbi': 613, 'lewi iodin hobbi quell': 1649, 'iodin hobbi quell anatol': 1468, 'hobbi quell anatol mikailavich': 1330, 'quell anatol mikailavich keldysh': 2258, 'anatol mikailavich keldysh life': 155, 'mikailavich keldysh life set': 1821, 'keldysh life set april': 1541, 'life set april with': 1669, 'set april with 1912': 2487, 'april with 1912 ship': 190, 'with 1912 ship call': 3130, '1912 ship call titan': 5, 'ship call titan young': 2509, 'call titan young rose': 426, 'titan young rose board': 2816, 'young rose board depart': 3241, 'rose board depart ship': 2396, 'board depart ship upperclass': 352, 'depart ship upperclass passeng': 710, 'ship upperclass passeng mother': 2513, 'upperclass passeng mother ruth': 2961, 'passeng mother ruth dewitt': 2088, 'mother ruth dewitt bukat': 1861, 'ruth dewitt bukat fianc': 2407, 'dewitt bukat fianc caledon': 729, 'bukat fianc caledon jockey': 394, 'fianc caledon jockey meanwhil': 1006, 'caledon jockey meanwhil drift': 419, 'jockey meanwhil drift artist': 1505, 'meanwhil drift artist name': 1792, 'drift artist name back': 784, 'artist name back dawson': 210, 'name back dawson best': 1911, 'back dawson best friend': 258, 'dawson best friend fabrizio': 669, 'best friend fabrizio he': 334, 'friend fabrizio he loss': 1124, 'fabrizio he loss win': 954, 'he loss win thirdclass': 1271, 'loss win thirdclass ticket': 1705, 'win thirdclass ticket ship': 3122, 'thirdclass ticket ship game': 2793, 'ticket ship game and': 2809, 'ship game and explain': 2512, 'game and explain whole': 1143, 'and explain whole stori': 162, 'explain whole stori departur': 935, 'whole stori departur death': 3104, 'stori departur death titan': 2628, 'departur death titan first': 711, 'death titan first last': 688, 'titan first last voyag': 2815, 'first last voyag april': 1046, 'last voyag april with': 1601, 'voyag april with 1912': 3005, 'april with 1912 220': 189, 'with 1912 220 morn': 3129, 'follow event age patron': 1061, 'event age patron collect': 907, 'age patron collect govern': 81, 'patron collect govern world': 2095, 'collect govern world pass': 544, 'govern world pass act': 1214, 'world pass act design': 3183, 'pass act design regul': 2085, 'act design regul superhuman': 37, 'design regul superhuman activ': 713, 'regul superhuman activ hi': 2311, 'superhuman activ hi polar': 2663, 'activ hi polar opinion': 45, 'hi polar opinion amongst': 1312, 'polar opinion amongst aveng': 2172, 'opinion amongst aveng caus': 2015, 'amongst aveng caus two': 146, 'aveng caus two faction': 242, 'caus two faction side': 471, 'two faction side iron': 2894, 'faction side iron an': 965, 'side iron an captain': 2523, 'iron an captain america': 1471, 'an captain america caus': 148, 'captain america caus epic': 440, 'america caus epic battl': 141, 'caus epic battl former': 470, 'epic battl former alli': 879, 'when mankind beam radio': 3076, 'mankind beam radio signal': 1757, 'beam radio signal space': 303, 'radio signal space repli': 2282, 'signal space repli come': 2526, 'space repli come planet': 2570, 'repli come planet form': 2327, 'come planet form sever': 560, 'planet form sever alien': 2160, 'form sever alien craft': 1097, 'sever alien craft splash': 2496, 'alien craft splash water': 98, 'craft splash water hawaii': 615, 'splash water hawaii lieuten': 2590, 'water hawaii lieuten flex': 3037, 'hawaii lieuten flex copper': 1262, 'lieuten flex copper weapon': 1651, 'flex copper weapon offic': 1057, 'copper weapon offic assign': 601, 'weapon offic assign uss': 3051, 'offic assign uss john': 1986, 'assign uss john paul': 218, 'uss john paul bone': 2976, 'john paul bone part': 1510, 'paul bone part intern': 2097, 'bone part intern naval': 356, 'part intern naval coalit': 2077, 'intern naval coalit becom': 1444, 'naval coalit becom world': 1925, 'coalit becom world last': 536, 'becom world last hope': 317, 'world last hope surviv': 3179, 'last hope surviv engag': 1599, 'hope surviv engag hostil': 1346, 'surviv engag hostil alien': 2678, 'engag hostil alien forc': 860, 'hostil alien forc unimagin': 1353, 'alien forc unimagin strength': 99, 'forc unimagin strength while': 1086, 'unimagin strength while take': 2925, 'strength while take invad': 2639, 'while take invad copper': 3089, 'take invad copper must': 2698, 'invad copper must also': 1453, 'copper must also tri': 600, 'must also tri live': 1876, 'also tri live potenti': 127, 'tri live potenti brother': 2874, 'live potenti brother fiance': 1689, 'potenti brother fiance father': 2181, 'brother fiance father admir': 389, 'fiance father admir have': 1007, 'father admir have expect': 988, 'admir have expect him': 49, 'twentytwo year event jurass': 2891, 'year event jurass dark': 3211, 'event jurass dark sea': 909, 'jurass dark sea tubular': 1527, 'dark sea tubular featur': 665, 'sea tubular featur fulli': 2440, 'tubular featur fulli sanction': 2881, 'featur fulli sanction dinosaur': 999, 'fulli sanction dinosaur theme': 1136, 'sanction dinosaur theme park': 2417, 'dinosaur theme park jurass': 737, 'theme park jurass world': 2773, 'park jurass world origin': 2070, 'jurass world origin envis': 1528, 'world origin envis john': 3182, 'origin envis john hammond': 2039, 'when fond latest assign': 3071, 'fond latest assign goe': 1069, 'latest assign goe grave': 1609, 'assign goe grave wrong': 217, 'goe grave wrong agent': 1199, 'grave wrong agent around': 1222, 'wrong agent around world': 3203, 'agent around world expos': 84, 'around world expos mi6': 205, 'world expos mi6 attack': 3175, 'expos mi6 attack forc': 941, 'mi6 attack forc delic': 1817, 'attack forc delic agenc': 222, 'forc delic agenc these': 1078, 'delic agenc these event': 708, 'agenc these event caus': 83, 'these event caus author': 2778, 'event caus author posit': 908, 'caus author posit challeng': 469, 'author posit challeng earth': 235, 'posit challeng earth pallor': 2177, 'challeng earth pallor new': 484, 'earth pallor new chairman': 805, 'pallor new chairman intellig': 2062, 'new chairman intellig secur': 1941, 'chairman intellig secur committe': 483, 'intellig secur committe with': 1441, 'secur committe with mi6': 2453, 'committe with mi6 compromis': 565, 'with mi6 compromis insid': 3136, 'mi6 compromis insid out': 1818, 'compromis insid out left': 571, 'insid out left one': 1438, 'out left one alli': 2046, 'left one alli trust': 1643, 'one alli trust fond': 1999, 'alli trust fond 007': 114, 'trust fond 007 take': 2879, 'fond 007 take shadow': 1065, '007 take shadow aid': 1, 'take shadow aid field': 2701, 'shadow aid field agent': 2497, 'aid field agent ve': 90, 'field agent ve follow': 1008, 'agent ve follow trail': 87, 've follow trail mysteri': 2982, 'follow trail mysteri ilya': 1064, 'trail mysteri ilya whose': 2844, 'mysteri ilya whose lethal': 1897, 'ilya whose lethal hidden': 1390, 'whose lethal hidden motiv': 3106, 'lethal hidden motiv yet': 1648, 'hidden motiv yet reveal': 1315, 'motiv yet reveal themselv': 1862, 'peter parker go major': 2126, 'parker go major ident': 2072, 'go major ident crisi': 1191, 'major ident crisi turn': 1732, 'ident crisi turn spideran': 1380, 'crisi turn spideran decid': 628, 'turn spideran decid shelv': 2886, 'spideran decid shelv superhero': 2584, 'decid shelv superhero alter': 693, 'shelv superhero alter ego': 2502, 'superhero alter ego leav': 2661, 'alter ego leav citi': 129, 'ego leav citi suffer': 821, 'leav citi suffer wake': 1632, 'citi suffer wake carnag': 520, 'suffer wake carnag left': 2654, 'wake carnag left evil': 3006, 'carnag left evil of': 457, 'left evil of back': 1641, 'evil of back in': 920, 'of back in meantim': 1981, 'back in meantim parker': 264, 'in meantim parker still': 1408, 'meantim parker still cant': 1790, 'parker still cant act': 2075, 'still cant act feel': 2620, 'cant act feel mari': 435, 'act feel mari lane': 39, 'feel mari lane watson': 1002, 'mari lane watson girl': 1765, 'lane watson girl he': 1594, 'watson girl he love': 3038, 'girl he love sinc': 1183, 'he love sinc childhood': 1272, 'when boni stark world': 3067, 'boni stark world torn': 360, 'stark world torn apart': 2603, 'world torn apart formid': 3191, 'torn apart formid terrorist': 2832, 'apart formid terrorist call': 183, 'formid terrorist call mandarin': 1108, 'terrorist call mandarin start': 2737, 'call mandarin start odyssey': 424, 'mandarin start odyssey rebuild': 1752, 'start odyssey rebuild retribut': 2606, 'alic unpretenti individu 19yearold': 97, 'unpretenti individu 19yearold betroth': 2946, 'individu 19yearold betroth danc': 1425, '19yearold betroth danc english': 10, 'betroth danc english nobleman': 339, 'danc english nobleman it': 650, 'english nobleman it engag': 863, 'nobleman it engag parti': 1960, 'it engag parti escap': 1489, 'engag parti escap crowd': 861, 'parti escap crowd consid': 2080, 'escap crowd consid whether': 894, 'crowd consid whether go': 632, 'consid whether go marriag': 585, 'whether go marriag fall': 3084, 'go marriag fall hole': 1192, 'marriag fall hole garden': 1770, 'fall hole garden sport': 969, 'hole garden sport unusu': 1334, 'garden sport unusu rabbit': 1158, 'sport unusu rabbit arriv': 2591, 'unusu rabbit arriv strang': 2952, 'rabbit arriv strang surrey': 2271, 'arriv strang surrey place': 208, 'strang surrey place call': 2634, 'surrey place call underland': 2676, 'place call underland find': 2146, 'call underland find world': 427, 'underland find world resembl': 2916, 'find world resembl nightmar': 1038, 'world resembl nightmar child': 3188, 'resembl nightmar child fill': 2331, 'nightmar child fill talk': 1958, 'child fill talk anim': 506, 'fill talk anim villain': 1020, 'talk anim villain queen': 2706, 'anim villain queen knight': 174, 'villain queen knight furiou': 2997, 'queen knight furiou bandersnatch': 2253, 'knight furiou bandersnatch alic': 1573, 'furiou bandersnatch alic realiz': 1137, 'bandersnatch alic realiz reason': 281, 'alic realiz reason conquer': 96, 'realiz reason conquer horrifi': 2297, 'reason conquer horrifi jabberwocki': 2301, 'conquer horrifi jabberwocki restor': 582, 'horrifi jabberwocki restor right': 1350, 'jabberwocki restor right queen': 1495, 'restor right queen throne': 2337, 'when cure found treat': 3069, 'cure found treat mutat': 636, 'found treat mutat line': 1111, 'treat mutat line drawn': 2863, 'mutat line drawn amongst': 1891, 'line drawn amongst xmen': 1683, 'drawn amongst xmen the': 782, 'amongst xmen the brotherhood': 147, 'xmen the brotherhood band': 3206, 'the brotherhood band power': 2747, 'brotherhood band power mutant': 390, 'band power mutant organ': 279, 'power mutant organ easier': 2185, 'mutant organ easier former': 1890, 'organ easier former alli': 2034, 'easier former alli magnet': 811, 'look relationship like pulley': 1701, 'relationship like pulley day': 2315, 'like pulley day monster': 1678, 'pulley day monster univers': 2236, 'day monster univers necessarili': 675, 'monster univers necessarili best': 1853, 'univers necessarili best friend': 2935, 'am witwicki leav autobot': 136, 'witwicki leav autobot behind': 3143, 'leav autobot behind normal': 1631, 'autobot behind normal life': 237, 'behind normal life but': 329, 'normal life but mind': 1961, 'life but mind fill': 1655, 'but mind fill cystic': 407, 'mind fill cystic symbol': 1837, 'fill cystic symbol recept': 1019, 'cystic symbol recept target': 647, 'symbol recept target drag': 2692, 'recept target drag back': 2302, 'target drag back transform': 2708, 'drag back transform war': 777, 'is human pick piec': 1478, 'human pick piec follow': 1367, 'pick piec follow conclus': 2136, 'piec follow conclus transform': 2137, 'follow conclus transform dark': 1059, 'conclus transform dark soon': 574, 'transform dark soon autobot': 2851, 'dark soon autobot recept': 666, 'soon autobot recept vanish': 2555, 'autobot recept vanish face': 238, 'recept vanish face planet': 2303, 'vanish face planet howev': 2980, 'face planet howev group': 959, 'planet howev group power': 2162, 'howev group power ingeni': 1357, 'group power ingeni businessman': 1232, 'power ingeni businessman scientist': 2184, 'ingeni businessman scientist attempt': 1434, 'businessman scientist attempt learn': 401, 'scientist attempt learn past': 2431, 'attempt learn past transform': 226, 'learn past transform incurs': 1629, 'past transform incurs push': 2092, 'transform incurs push boundari': 2852, 'incurs push boundari technolog': 1421, 'push boundari technolog beyond': 2240, 'boundari technolog beyond control': 366, 'technolog beyond control ancient': 2724, 'beyond control ancient power': 341, 'control ancient power transform': 596, 'ancient power transform menac': 158, 'power transform menac set': 2188, 'transform menac set earth': 2853, 'menac set earth crosshair': 1808, 'scar sign smalltim circu': 2425, 'sign smalltim circu illusionist': 2525, 'smalltim circu illusionist conartist': 2543, 'circu illusionist conartist whiskey': 516, 'illusionist conartist whiskey kansa': 1389, 'conartist whiskey kansa and': 573, 'whiskey kansa and inhabit': 3091, 'kansa and inhabit assum': 1533, 'and inhabit assum he': 164, 'inhabit assum he great': 1436, 'assum he great wizard': 219, 'he great wizard propheci': 1267, 'great wizard propheci save': 1223, 'wizard propheci save clutch': 3146, 'propheci save clutch evil': 2222, 'for peter parker life': 1074, 'peter parker life busi': 2127, 'parker life busi between': 2073, 'life busi between take': 1654, 'busi between take bad': 400, 'between take bad gun': 340, 'take bad gun spideran': 2695, 'bad gun spideran spend': 273, 'gun spideran spend year': 1244, 'spideran spend year eye': 2587, 'spend year eye person': 2581, 'year eye person love': 3217, 'eye person love wen': 949, 'person love wen stay': 2113, 'love wen stay high': 1712, 'wen stay high school': 3060, 'stay high school granul': 2615, 'high school granul cannot': 1318, 'school granul cannot come': 2426, 'granul cannot come quickli': 1220, 'cannot come quickli enough': 433, 'come quickli enough peter': 561, 'quickli enough peter forgotten': 2267, 'enough peter forgotten promis': 870, 'peter forgotten promis made': 2122, 'forgotten promis made wen': 1095, 'promis made wen father': 2217, 'made wen father protect': 1725, 'wen father protect stay': 3059, 'father protect stay away': 994, 'protect stay away promis': 2227, 'stay away promis cannot': 2614, 'away promis cannot keep': 250, 'promis cannot keep thing': 2216, 'cannot keep thing chang': 434, 'keep thing chang peter': 1538, 'thing chang peter new': 2785, 'chang peter new villain': 493, 'peter new villain elector': 2124, 'new villain elector emerg': 1951, 'villain elector emerg old': 2992, 'elector emerg old friend': 825, 'emerg old friend carri': 836, 'old friend carri born': 1991, 'friend carri born return': 1123, 'carri born return peter': 459, 'born return peter uncov': 365, 'return peter uncov new': 2345, 'peter uncov new clue': 2132, 'uncov new clue past': 2912, 'am lynn teachnavvi dare': 134, 'lynn teachnavvi dare son': 1719, 'teachnavvi dare son even': 2713, 'dare son even lynn': 661, 'son even lynn investig': 2552, 'even lynn investig father': 906, 'lynn investig father disappear': 1718, 'investig father disappear pull': 1465, 'father disappear pull the': 992, 'disappear pull the rid': 743, 'pull the rid with': 2234, 'the rid with help': 2758, 'rid with help mysteri': 2360, 'with help mysteri program': 3135, 'help mysteri program name': 1295, 'mysteri program name hourra': 1901, 'program name hourra am': 2213, 'name hourra am quest': 1913, 'hourra am quest stop': 1354, 'am quest stop evil': 135, 'quest stop evil dictat': 2263, 'stop evil dictat you': 2624, 'evil dictat you cross': 918, 'dictat you cross real': 732, 'you cross real world': 3230, 'star race car lightn': 2598, 'race car lightn mcqueen': 2274, 'car lightn mcqueen pal': 454, 'lightn mcqueen pal later': 1676, 'mcqueen pal later head': 1785, 'pal later head oversea': 2061, 'later head oversea compet': 1608, 'head oversea compet world': 1277, 'oversea compet world grand': 2058, 'compet world grand six': 567, 'world grand six race': 3177, 'grand six race but': 1215, 'six race but road': 2533, 'race but road championship': 2273, 'but road championship becom': 412, 'road championship becom rocki': 2377, 'championship becom rocki later': 488, 'becom rocki later get': 312, 'rocki later get caught': 2385, 'later get caught intrigu': 1606, 'get caught intrigu adventur': 1171, 'caught intrigu adventur own': 468, 'intrigu adventur own intern': 1450, 'adventur own intern espionag': 60, 'for centuri small power': 1072, 'centuri small power forc': 481, 'small power forc warrior': 2542, 'power forc warrior call': 2183, 'forc warrior call green': 1088, 'warrior call green lantern': 3028, 'call green lantern corp': 423, 'green lantern corp sworn': 1226, 'lantern corp sworn keep': 1595, 'corp sworn keep intergalact': 603, 'sworn keep intergalact order': 2691, 'keep intergalact order each': 1536, 'intergalact order each green': 1443, 'order each green lantern': 2025, 'each green lantern wear': 793, 'green lantern wear ring': 1227, 'lantern wear ring grant': 1596, 'wear ring grant superpow': 3053, 'ring grant superpow but': 2369, 'grant superpow but new': 1219, 'superpow but new enemi': 2668, 'but new enemi call': 408, 'new enemi call parallax': 1944, 'enemi call parallax threaten': 856, 'call parallax threaten destroy': 425, 'parallax threaten destroy balanc': 2064, 'threaten destroy balanc power': 2801, 'destroy balanc power univers': 716, 'balanc power univers fate': 278, 'power univers fate fate': 2189, 'univers fate fate earth': 2933, 'fate fate earth lie': 985, 'fate earth lie hand': 984, 'earth lie hand first': 801, 'lie hand first human': 1650, 'hand first human ever': 1252, 'first human ever recruit': 1045, 'moodi buzz rest andi': 1856, 'buzz rest andi toy': 416, 'rest andi toy play': 2335, 'andi toy play year': 170, 'toy play year with': 2840, 'play year with andi': 2164, 'year with andi go': 3229, 'with andi go colleg': 3132, 'andi go colleg gang': 169, 'go colleg gang find': 1189, 'colleg gang find accident': 545, 'gang find accident left': 1154, 'find accident left nefari': 1025, 'accident left nefari day': 32, 'left nefari day care': 1642, 'nefari day care center': 1932, 'day care center the': 670, 'care center the toy': 455, 'center the toy must': 476, 'the toy must band': 2764, 'toy must band togeth': 2839, 'must band togeth escap': 1877, 'band togeth escap return': 280, 'togeth escap return home': 2820, 'escap return home andi': 898, 'all grown postapocalypt 2018': 109, 'grown postapocalypt 2018 john': 1241, 'postapocalypt 2018 john honor': 2180, '2018 john honor must': 12, 'john honor must lead': 1508, 'honor must lead resist': 1342, 'must lead resist human': 1885, 'lead resist human increasingli': 1619, 'resist human increasingli domin': 2332, 'human increasingli domin militarist': 1366, 'increasingli domin militarist root': 1418, 'domin militarist root but': 770, 'militarist root but marcu': 1831, 'root but marcu right': 2391, 'but marcu right appear': 406, 'marcu right appear exist': 1763, 'right appear exist confus': 2363, 'appear exist confus mission': 188, 'exist confus mission honor': 928, 'confus mission honor tri': 578, 'mission honor tri determin': 1846, 'honor tri determin whether': 1344, 'tri determin whether right': 2870, 'determin whether right come': 723, 'whether right come futur': 3086, 'right come futur past': 2364, 'come futur past whether': 558, 'futur past whether he': 1140, 'past whether he friend': 2093, 'whether he friend foe': 3085, 'deckard thaw seek reveng': 694, 'thaw seek reveng domin': 2744, 'seek reveng domin toretto': 2462, 'reveng domin toretto famili': 2352, 'domin toretto famili compos': 771, 'toretto famili compos brother': 2828, 'life former unit nation': 1660, 'former unit nation investig': 1104, 'unit nation investig merri': 2931, 'nation investig merri lane': 1924, 'investig merri lane famili': 1466, 'merri lane famili seem': 1809, 'lane famili seem content': 1590, 'famili seem content suddenli': 974, 'seem content suddenli world': 2464, 'content suddenli world plagu': 591, 'suddenli world plagu mysteri': 2652, 'world plagu mysteri infect': 3184, 'plagu mysteri infect turn': 2150, 'mysteri infect turn whole': 1898, 'infect turn whole human': 1429, 'turn whole human popul': 2889, 'whole human popul damag': 3103, 'human popul damag endless': 1368, 'popul damag endless hobbi': 2175, 'damag endless hobbi after': 649, 'endless hobbi after bare': 854, 'hobbi after bare escap': 1329, 'after bare escap chao': 66, 'bare escap chao lane': 284, 'escap chao lane persuad': 893, 'chao lane persuad go': 495, 'lane persuad go mission': 1593, 'persuad go mission investig': 2118, 'go mission investig diseas': 1193, 'mission investig diseas that': 1847, 'investig diseas that follow': 1463, 'diseas that follow peril': 755, 'that follow peril tree': 2742, 'follow peril tree around': 1063, 'peril tree around world': 2107, 'tree around world lane': 2864, 'around world lane must': 206, 'world lane must brave': 3178, 'lane must brave horrifi': 1591, 'must brave horrifi danger': 1878, 'brave horrifi danger long': 375, 'horrifi danger long odd': 1349, 'danger long odd find': 655, 'long odd find answer': 1699, 'odd find answer human': 1980, 'find answer human civil': 1026, 'answer human civil fall': 180, 'the ultim xmen resembl': 2766, 'ultim xmen resembl fight': 2906, 'xmen resembl fight war': 3205, 'resembl fight war surviv': 2330, 'fight war surviv speci': 1017, 'war surviv speci across': 3022, 'surviv speci across two': 2679, 'speci across two year': 2576, 'across two year eye': 35, 'two year eye period': 2899, 'year eye period join': 3216, 'eye period join forc': 948, 'period join forc younger': 2109, 'join forc younger serv': 1514, 'forc younger serv epic': 1090, 'younger serv epic battl': 3243, 'serv epic battl must': 2484, 'epic battl must chang': 881, 'battl must chang past': 300, 'must chang past save': 1879, 'chang past save futur': 492, 'when crew enterpris call': 3068, 'crew enterpris call back': 618, 'enterpris call back home': 874, 'call back home find': 421, 'back home find unstopp': 263, 'home find unstopp forc': 1336, 'find unstopp forc terror': 1036, 'unstopp forc terror within': 2949, 'forc terror within organ': 1085, 'terror within organ deton': 2736, 'within organ deton fleet': 3140, 'organ deton fleet everyth': 2033, 'deton fleet everyth stand': 724, 'fleet everyth stand for': 1056, 'everyth stand for leav': 917, 'stand for leav world': 2596, 'for leav world state': 1073, 'leav world state crisi': 1634, 'world state crisi with': 3190, 'state crisi with person': 2608, 'crisi with person score': 629, 'with person score settl': 3137, 'person score settl captain': 2115, 'score settl captain kirk': 2434, 'settl captain kirk lead': 2495, 'captain kirk lead manhunt': 446, 'kirk lead manhunt warzon': 1571, 'lead manhunt warzon world': 1618, 'manhunt warzon world captur': 1756, 'warzon world captur one': 3033, 'world captur one man': 3171, 'captur one man weapon': 452, 'one man weapon mass': 2004, 'man weapon mass destruct': 1747, 'weapon mass destruct is': 3050, 'mass destruct is hero': 1773, 'destruct is hero repel': 720, 'is hero repel epic': 1477, 'hero repel epic chess': 1310, 'repel epic chess game': 2326, 'epic chess game life': 882, 'chess game life death': 505, 'game life death love': 1147, 'life death love challeng': 1656, 'death love challeng friendship': 687, 'love challeng friendship torn': 1709, 'challeng friendship torn apart': 485, 'friendship torn apart sacrific': 1127, 'torn apart sacrific must': 2833, 'apart sacrific must made': 184, 'sacrific must made famili': 2411, 'must made famili kirk': 1886, 'made famili kirk left': 1724, 'famili kirk left crew': 971, 'the stori ancient war': 2761, 'stori ancient war reign': 2627, 'ancient war reign young': 159, 'war reign young farrand': 3019, 'reign young farrand unwittingli': 2313, 'young farrand unwittingli open': 3236, 'farrand unwittingli open gateway': 981, 'unwittingli open gateway world': 2955, 'open gateway world wearisom': 2014, 'gateway world wearisom race': 1162, 'world wearisom race giant': 3192, 'wearisom race giant unleash': 3054, 'race giant unleash earth': 2278, 'giant unleash earth first': 1180, 'unleash earth first year': 2937, 'earth first year eye': 798, 'first year eye centuri': 1049, 'year eye centuri giant': 3213, 'eye centuri giant strive': 945, 'centuri giant strive reclaim': 479, 'giant strive reclaim land': 1179, 'strive reclaim land lost': 2642, 'reclaim land lost forc': 2304, 'land lost forc young': 1588, 'lost forc young man': 1706, 'forc young man back': 1089, 'young man back battl': 3237, 'man back battl life': 1743, 'back battl life stop': 255, 'battl life stop them': 299, 'life stop them fight': 1670, 'stop them fight kingdom': 2626, 'them fight kingdom peopl': 2772, 'fight kingdom peopl love': 1014, 'kingdom peopl love brave': 1566, 'peopl love brave princess': 2104, 'love brave princess come': 1708, 'brave princess come face': 377, 'princess come face face': 2205, 'come face face unstopp': 557, 'face face unstopp warrior': 957, 'face unstopp warrior thought': 964, 'unstopp warrior thought exist': 2950, 'warrior thought exist legend': 3031, 'thought exist legend and': 2796, 'exist legend and get': 929, 'legend and get chanc': 1644, 'and get chanc becom': 163, 'get chanc becom legend': 1173, 'chanc becom legend himself': 489, 'in adapt scott fitzgerald': 1402, 'adapt scott fitzgerald long': 46, 'scott fitzgerald long islandset': 2435, 'fitzgerald long islandset novel': 1051, 'long islandset novel midwestern': 1698, 'islandset novel midwestern sick': 1487, 'novel midwestern sick faraway': 1968, 'midwestern sick faraway lure': 1820, 'sick faraway lure lavish': 2519, 'faraway lure lavish world': 978, 'lure lavish world neighbor': 1716, 'lavish world neighbor may': 1612, 'world neighbor may gatsbi': 3181, 'neighbor may gatsbi soon': 1933, 'may gatsbi soon enough': 1782, 'gatsbi soon enough howev': 1164, 'soon enough howev faraway': 2557, 'enough howev faraway see': 869, 'howev faraway see crack': 1356, 'faraway see crack gatsbi': 979, 'see crack gatsbi nouveau': 2457, 'crack gatsbi nouveau rich': 614, 'gatsbi nouveau rich exist': 1163, 'nouveau rich exist possess': 1967, 'rich exist possess mad': 2359, 'exist possess mad tragedi': 931, 'possess mad tragedi await': 2179, 'rogu princ reluctantli join': 2387, 'princ reluctantli join forc': 2203, 'reluctantli join forc mysteri': 2321, 'join forc mysteri princess': 1513, 'forc mysteri princess togeth': 1082, 'mysteri princess togeth race': 1900, 'princess togeth race dark': 2207, 'togeth race dark forc': 2821, 'race dark forc safeguard': 2275, 'dark forc safeguard ancient': 662, 'forc safeguard ancient dagger': 1084, 'safeguard ancient dagger capabl': 2413, 'ancient dagger capabl releas': 156, 'dagger capabl releas hand': 648, 'capabl releas hand year': 438, 'releas hand year eye': 2316, 'hand year eye gift': 1253, 'year eye gift god': 3214, 'eye gift god revers': 946, 'gift god revers year': 1181, 'god revers year eye': 1195, 'revers year eye allow': 2356, 'year eye allow possessor': 3212, 'eye allow possessor rule': 944, 'allow possessor rule world': 119, 'when lesion monstrou creatur': 3075, 'lesion monstrou creatur known': 1646, 'monstrou creatur known kaiju': 1855, 'creatur known kaiju start': 617, 'known kaiju start rise': 1577, 'kaiju start rise sea': 1532, 'start rise sea war': 2607, 'rise sea war began': 2373, 'sea war began would': 2441, 'war began would take': 3016, 'began would take million': 322, 'would take million live': 3198, 'take million live consum': 2700, 'million live consum human': 1833, 'live consum human resourc': 1687, 'consum human resourc year': 587, 'human resourc year end': 1370, 'resourc year end to': 2333, 'year end to combat': 3210, 'end to combat giant': 853, 'to combat giant kaiju': 2817, 'combat giant kaiju special': 553, 'giant kaiju special type': 1178, 'kaiju special type weapon': 1531, 'special type weapon devis': 2579, 'type weapon devis massiv': 2902, 'weapon devis massiv root': 3049, 'devis massiv root call': 727, 'massiv root call danger': 1775, 'root call danger control': 2392, 'call danger control simultan': 422, 'danger control simultan two': 652, 'control simultan two pilot': 598, 'simultan two pilot whose': 2529, 'two pilot whose mind': 2897, 'pilot whose mind lock': 2139, 'whose mind lock neutral': 3108, 'mind lock neutral bridg': 1839, 'lock neutral bridg but': 1694, 'neutral bridg but even': 1935, 'bridg but even danger': 380, 'but even danger prove': 403, 'even danger prove nearli': 905, 'danger prove nearli defenseless': 657, 'prove nearli defenseless face': 2231, 'nearli defenseless face relentless': 1927, 'defenseless face relentless kaiju': 705, 'face relentless kaiju in': 961, 'relentless kaiju in verg': 2317, 'kaiju in verg defeat': 1530, 'in verg defeat forc': 1412, 'verg defeat forc defend': 2986, 'defeat forc defend mankind': 701, 'forc defend mankind choic': 1077, 'defend mankind choic turn': 702, 'mankind choic turn two': 1758, 'choic turn two unlik': 511, 'turn two unlik heroes': 2887, 'two unlik heroes washedup': 2898, 'unlik heroes washedup former': 2940, 'heroes washedup former pilot': 1311, 'washedup former pilot charli': 3034, 'former pilot charli unna': 1103, 'pilot charli unna invest': 2138, 'charli unna invest traine': 500, 'unna invest traine into': 2942, 'invest traine into kikuchi': 1461, 'traine into kikuchi who': 2850, 'into kikuchi who term': 1449, 'kikuchi who term drive': 1546, 'who term drive legendari': 3101, 'term drive legendari seemingli': 2731, 'drive legendari seemingli obsolet': 785, 'legendari seemingli obsolet danger': 1645, 'seemingli obsolet danger past': 2469, 'obsolet danger past togeth': 1976, 'danger past togeth stand': 656, 'past togeth stand mankind': 2091, 'togeth stand mankind last': 2823, 'stand mankind last hope': 2597, 'mankind last hope mount': 1760, 'last hope mount apocalyps': 1598, 'am witwicki take first': 137, 'witwicki take first tendon': 3144, 'take first tendon step': 2697, 'first tendon step adulthood': 1048, 'tendon step adulthood remain': 2730, 'step adulthood remain reluct': 2616, 'adulthood remain reluct human': 51, 'remain reluct human alli': 2324, 'reluct human alli autobotlead': 2319, 'human alli autobotlead optimu': 1362, 'alli autobotlead optimu crime': 112, 'autobotlead optimu crime the': 239, 'optimu crime the film': 2018, 'crime the film center': 623, 'the film center around': 2754, 'film center around space': 1021, 'center around space race': 474, 'around space race ussr': 204, 'space race ussr usa': 2569, 'race ussr usa suggest': 2280, 'ussr usa suggest hidden': 2977, 'usa suggest hidden transform': 2967, 'suggest hidden transform role': 2656, 'hidden transform role remain': 1316, 'transform role remain one': 2854, 'role remain one planet': 2388, 'remain one planet danger': 2323, 'one planet danger secret': 2005, 'met old war soviet': 1812, 'old war soviet led': 1995, 'war soviet led swordwield': 3021, 'soviet led swordwield irina': 2564, 'led swordwield irina spalko': 1637, 'swordwield irina spalko search': 2690, 'irina spalko search crystal': 1470, 'spalko search crystal skull': 2572, 'search crystal skull supernatur': 2443, 'crystal skull supernatur power': 635, 'skull supernatur power relat': 2538, 'supernatur power relat mystic': 2666, 'power relat mystic most': 2186, 'relat mystic most citi': 2314, 'mystic most citi old': 1905, 'most citi old after': 1859, 'citi old after captur': 518, 'old after captur escap': 1989, 'after captur escap them': 67, 'captur escap them andi': 450, 'escap them andi coerc': 899, 'them andi coerc head': 2771, 'andi coerc head peru': 167, 'coerc head peru best': 539, 'head peru best young': 1279, 'peru best young man': 2119, 'best young man whose': 336, 'young man whose friend': 3239, 'man whose friend andi': 1748, 'whose friend andi colleagu': 3105, 'friend andi colleagu professor': 1122, 'andi colleagu professor alley': 168, 'colleagu professor alley captur': 543, 'professor alley captur knowledg': 2212, 'alley captur knowledg skull': 111, 'captur knowledg skull whereabout': 451, 'in epic journey world': 1406, 'epic journey world dinosaur': 884, 'journey world dinosaur apatosauru': 1521, 'world dinosaur apatosauru name': 3172, 'dinosaur apatosauru name orlov': 736, 'apatosauru name orlov make': 185, 'name orlov make unlik': 1916, 'orlov make unlik human': 2040, 'make unlik human friend': 1736, 'grave set mystic scottish': 1221, 'set mystic scottish highland': 2491, 'mystic scottish highland mérida': 1906, 'scottish highland mérida princess': 2436, 'highland mérida princess kingdom': 1320, 'mérida princess kingdom rule': 1908, 'princess kingdom rule king': 2206, 'kingdom rule king serou': 1568, 'rule king serou queen': 2401, 'king serou queen minor': 1560, 'serou queen minor in': 2482, 'queen minor in unduli': 2255, 'minor in unduli daughter': 1840, 'in unduli daughter accomplish': 1410, 'unduli daughter accomplish arch': 2919, 'daughter accomplish arch mérida': 667, 'accomplish arch mérida one': 34, 'arch mérida one day': 193, 'mérida one day defin': 1907, 'one day defin sacr': 2001, 'day defin sacr custom': 672, 'defin sacr custom land': 707, 'sacr custom land inadvert': 2410, 'custom land inadvert bring': 644, 'land inadvert bring turmoil': 1587, 'inadvert bring turmoil kingdom': 1413, 'bring turmoil kingdom in': 383, 'turmoil kingdom in attempt': 2884, 'kingdom in attempt set': 1563, 'in attempt set thing': 1405, 'attempt set thing right': 227, 'set thing right mérida': 2493, 'thing right mérida seek': 2791, 'right mérida seek eccentr': 2366, 'mérida seek eccentr old': 1910, 'seek eccentr old rise': 2460, 'eccentr old rise woman': 815, 'old rise woman grant': 1994, 'rise woman grant illfat': 2374, 'woman grant illfat wish': 3149, 'grant illfat wish also': 1217, 'illfat wish also fire': 1388, 'wish also fire mérida': 3127, 'also fire mérida quest': 124, 'fire mérida quest serv': 1042, 'mérida quest serv comic': 1909, 'quest serv comic relief': 2262, 'serv comic relief kingdom': 2483, 'comic relief kingdom three': 563, 'relief kingdom three lord': 2318, 'kingdom three lord enorm': 1569, 'three lord enorm word': 2806, 'lord enorm word macguffin': 1704, 'enorm word macguffin surli': 868, 'word macguffin surli word': 3158, 'macguffin surli word farintosh': 1721, 'surli word farintosh disagre': 2673, 'word farintosh disagre word': 3157, 'farintosh disagre word dingwal': 980, 'the uss enterpris crew': 2768, 'uss enterpris crew explor': 2975, 'enterpris crew explor furthest': 875, 'crew explor furthest reach': 619, 'explor furthest reach unchang': 936, 'furthest reach unchang space': 1138, 'reach unchang space encount': 2293, 'unchang space encount mysteri': 2907, 'space encount mysteri new': 2565, 'encount mysteri new enemi': 851, 'mysteri new enemi put': 1899, 'new enemi put everyth': 1945, 'enemi put everyth feder': 858, 'put everyth feder stand': 2241, 'everyth feder stand test': 916, 'wall last root left': 3008, 'last root left earth': 1600, 'root left earth overrun': 2394, 'left earth overrun garag': 1640, 'earth overrun garag human': 804, 'overrun garag human fled': 2057, 'garag human fled outer': 1157, 'human fled outer space': 1364, 'fled outer space for': 1054, 'outer space for 700': 2050, 'space for 700 year': 2567, 'for 700 year continu': 1071, '700 year continu tri': 20, 'year continu tri clean': 3208, 'continu tri clean mess': 595, 'tri clean mess develop': 2868, 'clean mess develop rather': 528, 'mess develop rather interest': 1810, 'develop rather interest humanlik': 726, 'rather interest humanlik qualiti': 2292, 'interest humanlik qualiti when': 1442, 'humanlik qualiti when ship': 1372, 'qualiti when ship arriv': 2248, 'when ship arriv sleek': 3078, 'ship arriv sleek new': 2507, 'arriv sleek new type': 207, 'sleek new type root': 2540, 'new type root wall': 1950, 'type root wall think': 2901, 'root wall think he': 2395, 'wall think he final': 3009, 'think he final found': 2792, 'he final found friend': 1266, 'final found friend show': 1024, 'found friend show away': 1109, 'friend show away ship': 1126, 'show away ship leav': 2517, 'after attempt assassin ambassador': 65, 'attempt assassin ambassador an': 224, 'assassin ambassador an inspector': 212, 'ambassador an inspector see': 138, 'an inspector see detect': 153, 'inspector see detect garter': 1439, 'see detect garter back': 2458, 'detect garter back action': 721, 'garter back action head': 1159, 'back action head pari': 253, 'action head pari protect': 43, 'head pari protect french': 1278, 'pari protect french woman': 2069, 'protect french woman knowledg': 2224, 'french woman knowledg road': 1121, 'woman knowledg road secret': 3150, 'knowledg road secret leader': 1576, 'road secret leader see': 2379, 'secret leader see also': 2447, 'leader see also hold': 1624, 'see also hold secret': 2455, 'also hold secret meet': 126, 'hold secret meet unit': 1333, 'secret meet unit nation': 2448, 'meet unit nation author': 1797, 'unit nation author person': 2930, 'nation author person struggl': 1922, 'author person struggl chines': 233, 'person struggl chines crimin': 2116, 'struggl chines crimin master': 2644, 'chines crimin master name': 510, 'crimin master name henri': 626, 'master name henri reveal': 1778, 'name henri reveal see': 1912, 'henri reveal see longlostbroth': 1298, 'or adrian helmsley part': 2019, 'adrian helmsley part worldwid': 50, 'helmsley part worldwid geophys': 1289, 'part worldwid geophys team': 2079, 'worldwid geophys team investig': 3195, 'geophys team investig effect': 1168, 'team investig effect earth': 2716, 'investig effect earth radiat': 1464, 'effect earth radiat unpreced': 819, 'earth radiat unpreced solar': 806, 'radiat unpreced solar storm': 2281, 'unpreced solar storm learn': 2944, 'solar storm learn earth': 2548, 'storm learn earth core': 2633, 'learn earth core heat': 1625, 'earth core heat up': 797, 'core heat up he': 602, 'heat up he warn': 1286, 'up he warn us': 2956, 'he warn us presid': 1275, 'warn us presid thoma': 3027, 'us presid thoma wilson': 2966, 'presid thoma wilson crust': 2195, 'thoma wilson crust earth': 2795, 'wilson crust earth becom': 3121, 'crust earth becom unstabl': 634, 'earth becom unstabl without': 795, 'becom unstabl without proper': 316, 'unstabl without proper prepar': 2948, 'without proper prepar save': 3141, 'proper prepar save fraction': 2220, 'prepar save fraction world': 2192, 'save fraction world popul': 2421, 'fraction world popul entir': 1113, 'world popul entir race': 3186, 'popul entir race doom': 2176, 'entir race doom meanwhil': 878, 'race doom meanwhil writer': 2276, 'doom meanwhil writer jackson': 773, 'meanwhil writer jackson curti': 1794, 'writer jackson curti stumbl': 3202, 'jackson curti stumbl inform': 1496, 'curti stumbl inform while': 642, 'stumbl inform while world': 2648, 'inform while world leader': 1433, 'while world leader race': 3090, 'world leader race build': 3180, 'leader race build arm': 1623, 'race build arm escap': 2272, 'build arm escap impend': 392, 'arm escap impend cataclysm': 198, 'escap impend cataclysm curti': 896, 'impend cataclysm curti struggl': 1395, 'cataclysm curti struggl find': 465, 'curti struggl find way': 641, 'struggl find way save': 2646, 'find way save famili': 1037, 'way save famili meanwhil': 3045, 'save famili meanwhil volcan': 2420, 'famili meanwhil volcan erupt': 972, 'meanwhil volcan erupt earthquak': 1793, 'volcan erupt earthquak unpreced': 3001, 'erupt earthquak unpreced strength': 890, 'earthquak unpreced strength break': 810, 'unpreced strength break havoc': 2945, 'strength break havoc around': 2638, 'break havoc around world': 378, 'wiser ebenez scroog awaken': 3126, 'ebenez scroog awaken christma': 814, 'scroog awaken christma ve': 2438, 'awaken christma ve spirit': 247, 'christma ve spirit reveal': 514, 've spirit reveal miser': 2983, 'spirit reveal miser exist': 2589, 'reveal miser exist opportun': 2347, 'miser exist opportun wast': 1842, 'exist opportun wast youth': 930, 'opportun wast youth current': 2016, 'wast youth current cruelti': 3036, 'youth current cruelti dire': 3244, 'current cruelti dire fate': 639, 'cruelti dire fate await': 633, 'dire fate await chang': 738, 'fate await chang way': 983, 'await chang way scroog': 245, 'chang way scroog face': 494, 'way scroog face stori': 3046, 'scroog face stori grow': 2439, 'face stori grow bitter': 963, 'stori grow bitter mean': 2630, 'grow bitter mean must': 1235, 'bitter mean must decid': 343, 'mean must decid futur': 1786, 'must decid futur hold': 1881, 'decid futur hold death': 692, 'futur hold death redempt': 1139, 'in univers human genet': 1411, 'univers human genet materi': 2934, 'human genet materi preciou': 1365, 'genet materi preciou commod': 1167, 'materi preciou commod impoverish': 1781, 'preciou commod impoverish young': 2190, 'commod impoverish young earth': 566, 'impoverish young earth woman': 1400, 'young earth woman becom': 3235, 'earth woman becom key': 809, 'woman becom key strateg': 3147, 'becom key strateg maneuv': 311, 'key strateg maneuv intern': 1544, 'strateg maneuv intern strife': 2635, 'maneuv intern strife within': 1753, 'intern strife within power': 1446, 'strife within power dynasty': 2640, 'kazan acclim life london': 1535, 'acclim life london call': 33, 'life london call back': 1665, 'london call back former': 1695, 'call back former home': 420, 'back former home jungl': 261, 'former home jungl investig': 1100, 'home jungl investig activ': 1337, 'jungl investig activ mine': 1525, 'investig activ mine encamp': 1462, 'will luci edmund susan': 3118, 'luci edmund susan peter': 1714, 'edmund susan peter step': 818, 'susan peter step magic': 2682, 'peter step magic wardrob': 2130, 'step magic wardrob find': 2617, 'magic wardrob find land': 1728, 'wardrob find land hernia': 3025, 'find land hernia there': 1029, 'land hernia there discov': 1585, 'hernia there discov charm': 1302, 'there discov charm peac': 2775, 'discov charm peac kingdom': 747, 'charm peac kingdom plung': 501, 'peac kingdom plung etern': 2100, 'kingdom plung etern winter': 1567, 'plung etern winter evil': 2167, 'etern winter evil white': 902, 'winter evil white pitch': 3123, 'evil white pitch ladi': 923, 'white pitch ladi aid': 3093, 'pitch ladi aid wise': 2144, 'ladi aid wise magnific': 1582, 'aid wise magnific lion': 92, 'wise magnific lion plan': 3125, 'magnific lion plan children': 1729, 'lion plan children lead': 1685, 'plan children lead hernia': 2153, 'children lead hernia spectacular': 508, 'lead hernia spectacular climact': 1617, 'hernia spectacular climact battl': 1301, 'spectacular climact battl free': 2580, 'climact battl free pitch': 530, 'battl free pitch facial': 297, 'free pitch facial power': 1119, 'pitch facial power forev': 2143, 'after reemerg world first': 73, 'reemerg world first meant': 2309, 'world first meant worlddestroy': 3176, 'first meant worlddestroy apocalyps': 1047, 'meant worlddestroy apocalyps xmen': 1789, 'worlddestroy apocalyps xmen must': 3194, 'apocalyps xmen must unit': 187, 'xmen must unit defeat': 3204, 'must unit defeat extinct': 1888, 'unit defeat extinct level': 2928, 'defeat extinct level plan': 700, 'batman rais stake war': 293, 'rais stake war crime': 2284, 'stake war crime with': 2594, 'war crime with help': 3017, 'crime with help it': 624, 'with help it him': 3134, 'help it him gordon': 1294, 'it him gordon district': 1491, 'him gordon district attorney': 1323, 'gordon district attorney harvey': 1204, 'harvey went batman set': 1259, 'went batman set dismantl': 3062, 'batman set dismantl remain': 294, 'set dismantl remain crimin': 2490, 'dismantl remain crimin organ': 758, 'remain crimin organ plagu': 2322, 'crimin organ plagu street': 627, 'organ plagu street the': 2035, 'plagu street the partnership': 2151, 'street the partnership prove': 2637, 'the partnership prove effect': 2756, 'partnership prove effect soon': 2084, 'prove effect soon find': 2229, 'effect soon find prey': 820, 'soon find prey reign': 2558, 'find prey reign chao': 1031, 'prey reign chao unleash': 2200, 'reign chao unleash rise': 2312, 'chao unleash rise crimin': 496, 'unleash rise crimin master': 2938, 'rise crimin master known': 2370, 'crimin master known terrifi': 625, 'master known terrifi citizen': 1777, 'known terrifi citizen gotham': 1579, 'terrifi citizen gotham poker': 2735, 'karl fredricksen spent entir': 1534, 'fredricksen spent entir life': 1117, 'spent entir life dream': 2582, 'entir life dream explor': 877, 'life dream explor globe': 1657, 'dream explor globe experienc': 783, 'explor globe experienc life': 937, 'globe experienc life fullest': 1187, 'experienc life fullest but': 934, 'life fullest but age': 1661, 'fullest but age 78': 1135, 'but age 78 life': 402, 'age 78 life seem': 78, '78 life seem pass': 21, 'life seem pass by': 1668, 'seem pass by twist': 2465, 'pass by twist fate': 2086, 'by twist fate and': 417, 'twist fate and persist': 2892, 'fate and persist 8year': 982, 'and persist 8year old': 165, 'persist 8year old wilder': 2111, '8year old wilder explor': 23, 'old wilder explor name': 1996, 'wilder explor name russel': 3116, 'explor name russel give': 939, 'name russel give new': 1918, 'russel give new leas': 2406, 'give new leas life': 1184, 'when susan murphi unwittingli': 3080, 'susan murphi unwittingli clamber': 2681, 'murphi unwittingli clamber method': 1875, 'unwittingli clamber method full': 2954, 'clamber method full outer': 525, 'method full outer space': 1814, 'full outer space gun': 1133, 'outer space gun wed': 2051, 'space gun wed day': 2568, 'gun wed day mysteri': 1245, 'wed day mysteri grow': 3057, 'day mysteri grow 49feet11inch': 676, 'mysteri grow 49feet11inch the': 1895, 'grow 49feet11inch the militari': 1234, '49feet11inch the militari jump': 16, 'the militari jump action': 2755, 'militari jump action captur': 1829, 'jump action captur susan': 1523, 'action captur susan secret': 40, 'captur susan secret away': 453, 'susan secret away covert': 2684, 'secret away covert govern': 2444, 'away covert govern compound': 249, 'covert govern compound the': 612, 'govern compound the renam': 1210, 'compound the renam ginormica': 570, 'the renam ginormica place': 2757, 'renam ginormica place confin': 2325, 'ginormica place confin rage': 1182, 'place confin rage group': 2147, 'confin rage group monster': 575, 'after held captiv afghan': 70, 'held captiv afghan cave': 1287, 'captiv afghan cave millionair': 448, 'afghan cave millionair engin': 64, 'cave millionair engin boni': 472, 'millionair engin boni stark': 1834, 'engin boni stark creat': 862, 'boni stark creat uniqu': 357, 'stark creat uniqu weapon': 2599, 'creat uniqu weapon suit': 616, 'uniqu weapon suit armor': 2927, 'weapon suit armor fight': 3052, 'suit armor fight evil': 2658, 'hugo orphan boy live': 1361, 'orphan boy live wall': 2041, 'boy live wall train': 370, 'live wall train station': 1692, 'wall train station 1930': 3010, 'train station 1930 pari': 2847, 'station 1930 pari he': 2610, '1930 pari he learn': 6, 'pari he learn fix': 2068, 'he learn fix clock': 1269, 'learn fix clock badg': 1627, 'fix clock badg father': 1053, 'clock badg father uncl': 531, 'badg father uncl put': 274, 'father uncl put use': 996, 'uncl put use keep': 2909, 'put use keep train': 2246, 'use keep train station': 2970, 'keep train station clock': 1540, 'train station clock run': 2849, 'station clock run the': 2612, 'clock run the thing': 532, 'run the thing left': 2404, 'the thing left connect': 2763, 'thing left connect dead': 2788, 'left connect dead father': 1639, 'connect dead father automat': 580, 'dead father automat mechan': 679, 'father automat mechan man': 990, 'automat mechan man work': 241, 'mechan man work without': 1795, 'man work without special': 1749, 'work without special key': 3164, 'without special key hugo': 3142, 'special key hugo need': 2578, 'key hugo need find': 1542, 'hugo need find clock': 1360, 'need find clock secret': 1929, 'find clock secret believ': 1027, 'clock secret believ contain': 533, 'secret believ contain in': 2445, 'believ contain in adventur': 331, 'contain in adventur meet': 590, 'in adventur meet shopkeep': 1403, 'adventur meet shopkeep georg': 59, 'meet shopkeep georg seri': 1796, 'shopkeep georg seri work': 2515, 'georg seri work train': 1169, 'seri work train station': 2481, 'work train station adventureseek': 3162, 'train station adventureseek goddaught': 2848, 'station adventureseek goddaught hugo': 2611, 'adventureseek goddaught hugo find': 61, 'goddaught hugo find surpris': 1196, 'hugo find surpris connect': 1359, 'find surpris connect father': 1033, 'surpris connect father automat': 2675, 'connect father automat discov': 581, 'father automat discov unlock': 989, 'automat discov unlock memori': 240, 'discov unlock memori old': 752, 'unlock memori old man': 2941, 'memori old man buri': 1800, 'old man buri insid': 1993, 'man buri insid regard': 1744, 'buri insid regard past': 397, 'wigless southern inventor or': 3115, 'southern inventor or bliss': 2563, 'inventor or bliss hopeless': 1460, 'or bliss hopeless plan': 2020, 'bliss hopeless plan kindl': 350, 'hopeless plan kindl civil': 1347, 'plan kindl civil war': 2154, 'kindl civil war assassin': 1554, 'civil war assassin presid': 523, 'war assassin presid us': 3015, 'assassin presid us grant': 214, 'presid us grant onli': 2196, 'us grant onli two': 2964, 'grant onli two men': 1218, 'onli two men stop': 2010, 'two men stop him': 2895, 'men stop him gunfight': 1805, 'stop him gunfight jame': 2625, 'him gunfight jame west': 1324, 'gunfight jame west masterofdisguis': 1246, 'jame west masterofdisguis inventor': 1500, 'west masterofdisguis inventor artemu': 3065, 'masterofdisguis inventor artemu gordon': 1780, 'inventor artemu gordon the': 1457, 'artemu gordon the two': 209, 'gordon the two must': 1205, 'the two must team': 2765, 'two must team thwart': 2896, 'must team thwart hopeless': 1887, 'team thwart hopeless plan': 2718, 'archaeologist sick ocornel travel': 194, 'sick ocornel travel china': 2521, 'ocornel travel china pit': 1979, 'travel china pit emperor': 2858, 'china pit emperor 2000yearold': 509, 'pit emperor 2000yearold an': 2142, 'emperor 2000yearold an dynasti': 845, '2000yearold an dynasti who': 11, 'an dynasti who return': 149, 'dynasti who return dead': 792, 'who return dead pursu': 3100, 'return dead pursu quest': 2341, 'dead pursu quest world': 680, 'pursu quest world domin': 2239, 'quest world domin hi': 2265, 'world domin hi time': 3173, 'domin hi time ocornel': 769, 'hi time ocornel enlist': 1313, 'time ocornel enlist help': 2813, 'ocornel enlist help wife': 1978, 'enlist help wife son': 867, 'help wife son quasi': 1297, 'wife son quasi socal': 3114, 'son quasi socal dragon': 2554, 'quasi socal dragon emperor': 2250, 'socal dragon emperor abus': 2546, 'dragon emperor abus supernatur': 778, 'emperor abus supernatur power': 846, 'from of topic come': 1132, 'of topic come suicid': 1983, 'topic come suicid squad': 2827, 'come suicid squad antihero': 562, 'suicid squad antihero team': 2657, 'squad antihero team incarcer': 2592, 'antihero team incarcer supervillain': 181, 'team incarcer supervillain act': 2715, 'incarcer supervillain act enabl': 1414, 'supervillain act enabl asset': 2670, 'act enabl asset unit': 38, 'enabl asset unit state': 847, 'asset unit state govern': 216, 'unit state govern undertak': 2932, 'state govern undertak highrisk': 2609, 'govern undertak highrisk black': 1213, 'undertak highrisk black op': 2918, 'highrisk black op mission': 1321, 'black op mission exchang': 345, 'op mission exchang commut': 2013, 'mission exchang commut prison': 1845, 'exchang commut prison sentenc': 926, 'god contact congressmen van': 1194, 'contact congressmen van baxter': 589, 'congressmen van baxter tell': 579, 'van baxter tell build': 2978, 'baxter tell build ark': 302, 'tell build ark prepar': 2728, 'build ark prepar great': 391, 'ark prepar great flood': 196, 'major will age offic': 1733, 'will age offic never': 3117, 'age offic never seen': 80, 'offic never seen day': 1987, 'never seen day combat': 1937, 'seen day combat ceremoni': 2470, 'day combat ceremoni devot': 671, 'combat ceremoni devot drop': 552, 'ceremoni devot drop combat': 482, 'devot drop combat age': 728, 'drop combat age kill': 786, 'combat age kill within': 551, 'age kill within minut': 79, 'kill within minut manag': 1552, 'within minut manag take': 3139, 'minut manag take alpha': 1841, 'manag take alpha alien': 1750, 'take alpha alien him': 2694, 'alpha alien him he': 122, 'alien him he awaken': 100, 'him he awaken back': 1325, 'he awaken back begin': 1264, 'awaken back begin day': 246, 'back begin day forc': 256, 'begin day forc fight': 323, 'day forc fight die': 673, 'forc fight die again': 1079, 'fight die again physic': 1013, 'die again physic contact': 733, 'again physic contact alien': 77, 'physic contact alien thrown': 2135, 'contact alien thrown year': 588, 'alien thrown year eye': 105, 'thrown year eye loop': 2808, 'in futurist world polar': 1407, 'futurist world polar ice': 1141, 'world polar ice cap': 3185, 'polar ice cap melt': 2171, 'ice cap melt made': 1378, 'cap melt made earth': 437, 'melt made earth liquid': 1799, 'made earth liquid planet': 1723, 'earth liquid planet beauti': 803, 'liquid planet beauti barmaid': 1686, 'planet beauti barmaid rescu': 2157, 'beauti barmaid rescu meant': 305, 'barmaid rescu meant seafar': 285, 'rescu meant seafar float': 2329, 'meant seafar float island': 1788, 'seafar float island prison': 2442, 'float island prison they': 1058, 'island prison they escap': 1486, 'prison they escap along': 2208, 'they escap along young': 2780, 'escap along young charg': 891, 'along young charg knoll': 121, 'young charg knoll sail': 3234, 'charg knoll sail aboard': 499, 'knoll sail aboard ship': 1574, 'sail aboard ship but': 2415, 'aboard ship but trip': 30, 'ship but trip soon': 2508, 'but trip soon becom': 414, 'trip soon becom target': 2877, 'soon becom target menac': 2556, 'becom target menac pirat': 314, 'target menac pirat cover': 2710, 'menac pirat cover map': 1807, 'pirat cover map maryland': 2141, 'cover map maryland tattoo': 611, 'map maryland tattoo knoll': 1761, 'maryland tattoo knoll back': 1771, 'from egyptian desert deep': 1130, 'egyptian desert deep polar': 824, 'desert deep polar ice': 712, 'deep polar ice cap': 695, 'polar ice cap elit': 2170, 'ice cap elit gi': 1377, 'cap elit gi joe': 436, 'elit gi joe team': 826, 'gi joe team use': 1176, 'joe team use latest': 1506, 'team use latest nextgener': 2719, 'use latest nextgener spi': 2971, 'latest nextgener spi militari': 1611, 'nextgener spi militari equip': 1956, 'spi militari equip fight': 2583, 'militari equip fight corrupt': 1828, 'equip fight corrupt arm': 889, 'fight corrupt arm dealer': 1012, 'corrupt arm dealer destroy': 605, 'arm dealer destroy grow': 197, 'dealer destroy grow threat': 683, 'destroy grow threat mysteri': 717, 'grow threat mysteri dora': 1239, 'threat mysteri dora organ': 2798, 'mysteri dora organ prevent': 1893, 'dora organ prevent plung': 774, 'organ prevent plung world': 2036, 'prevent plung world chao': 2199, 'grow bump road except': 1236, 'bump road except mile': 396, 'road except mile promot': 2378, 'except mile promot widest': 925, 'mile promot widest life': 1824, 'promot widest life father': 2219, 'widest life father start': 3110, 'life father start new': 1659, 'father start new job': 995, 'start new job an': 2605, 'new job an francisco': 1946, 'job an francisco like': 1504, 'an francisco like us': 150, 'francisco like us mile': 1114, 'like us mile guid': 1681, 'us mile guid emot': 2965, 'mile guid emot boy': 1823, 'guid emot boy dear': 1243, 'emot boy dear anger': 840, 'boy dear anger disgust': 367, 'dear anger disgust sad': 685, 'anger disgust sad the': 172, 'disgust sad the emot': 756, 'sad the emot live': 2412, 'the emot live headquart': 2752, 'emot live headquart control': 842, 'live headquart control center': 1688, 'headquart control center insid': 1281, 'control center insid miless': 597, 'center insid miless mind': 475, 'insid miless mind help': 1437, 'miless mind help advis': 1826, 'mind help advis everyday': 1838, 'help advis everyday life': 1290, 'advis everyday life is': 62, 'everyday life is mile': 915, 'life is mile emot': 1664, 'is mile emot struggl': 1479, 'mile emot struggl adjust': 1822, 'emot struggl adjust new': 843, 'struggl adjust new life': 2643, 'adjust new life an': 48, 'new life an francisco': 1947, 'life an francisco turmoil': 1652, 'an francisco turmoil ensu': 152, 'francisco turmoil ensu headquart': 1116, 'turmoil ensu headquart although': 2883, 'ensu headquart although boy': 871, 'headquart although boy miless': 1280, 'although boy miless main': 132, 'boy miless main import': 371, 'miless main import emot': 1825, 'main import emot tri': 1730, 'import emot tri keep': 1397, 'emot tri keep thing': 844, 'tri keep thing posit': 2873, 'keep thing posit emot': 1539, 'thing posit emot conflict': 2789, 'posit emot conflict best': 2178, 'emot conflict best navig': 841, 'conflict best navig new': 576, 'best navig new citi': 335, 'navig new citi hous': 1926, 'new citi hous school': 1943, 'after threat tiger there': 74, 'threat tiger there than': 2800, 'tiger there than forc': 2812, 'there than forc flee': 2777, 'than forc flee jungl': 2741, 'forc flee jungl mancub': 1080, 'flee jungl mancub name': 1055, 'jungl mancub name mowgli': 1526, 'mancub name mowgli embark': 1751, 'name mowgli embark journey': 1914, 'mowgli embark journey self': 1870, 'embark journey self discoveri': 830, 'journey self discoveri help': 1519, 'self discoveri help anoth': 2472, 'discoveri help anoth bagheera': 754, 'help anoth bagheera free': 1291, 'anoth bagheera free spirit': 177, 'bagheera free spirit bear': 276, 'free spirit bear also': 1120, 'with world awar dual': 3138, 'world awar dual life': 3166, 'awar dual life arm': 248, 'dual life arm superhero': 787, 'life arm superhero iron': 1653, 'arm superhero iron an': 200, 'superhero iron an millionair': 2662, 'iron an millionair inventor': 1472, 'an millionair inventor boni': 154, 'millionair inventor boni stark': 1835, 'inventor boni stark face': 1458, 'boni stark face pressur': 358, 'stark face pressur govern': 2600, 'face pressur govern press': 960, 'pressur govern press public': 2198, 'govern press public share': 1211, 'press public share technolog': 2197, 'public share technolog militari': 2233, 'share technolog militari unwil': 2501, 'technolog militari unwil let': 2725, 'militari unwil let go': 1830, 'unwil let go invent': 2953, 'let go invent stark': 1647, 'go invent stark pepper': 1190, 'invent stark pepper boot': 1456, 'stark pepper boot jame': 2601, 'pepper boot jame rhode': 2105, 'boot jame rhode rhode': 362, 'jame rhode rhode side': 1499, 'rhode rhode side must': 2357, 'rhode side must forg': 2358, 'side must forg new': 2524, 'must forg new allianc': 1883, 'forg new allianc confront': 1094, 'new allianc confront power': 1940, 'allianc confront power enemi': 115, 'after evil queen marri': 69, 'evil queen marri king': 921, 'queen marri king perform': 2254, 'marri king perform violent': 1769, 'king perform violent coup': 1559, 'perform violent coup king': 2106, 'violent coup king murder': 3000, 'coup king murder daughter': 608, 'king murder daughter now': 1557, 'murder daughter now white': 1874, 'daughter now white taken': 668, 'now white taken captiv': 1973, 'white taken captiv almost': 3097, 'taken captiv almost decad': 2702, 'captiv almost decad later': 449, 'almost decad later grown': 120, 'decad later grown now': 690, 'later grown now white': 1607, 'grown now white still': 1240, 'now white still clutch': 1972, 'white still clutch queen': 3096, 'still clutch queen in': 2621, 'clutch queen in order': 535, 'queen in order obtain': 2252, 'in order obtain immort': 1409, 'order obtain immort the': 2027, 'obtain immort the evil': 1977, 'immort the evil queen': 1394, 'the evil queen need': 2753, 'evil queen need heart': 922, 'queen need heart now': 2256, 'need heart now white': 1930, 'heart now white after': 1284, 'now white after now': 1971, 'white after now escap': 3092, 'after now escap castl': 71, 'now escap castl queen': 1969, 'escap castl queen send': 892, 'castl queen send huntsman': 463, 'queen send huntsman find': 2257, 'send huntsman find dark': 2474, 'huntsman find dark forest': 1375, 'the untold stori kidney': 2767, 'untold stori kidney iron': 2951, 'stori kidney iron villain': 2631, 'kidney iron villain 1959': 1545, 'iron villain 1959 classic': 1473, 'villain 1959 classic sleep': 2990, '1959 classic sleep beauti': 9, 'classic sleep beauti beauti': 527, 'sleep beauti beauti pureheart': 2541, 'beauti beauti pureheart young': 306, 'beauti pureheart young woman': 308, 'pureheart young woman malefic': 2237, 'young woman malefic idyl': 3242, 'woman malefic idyl life': 3152, 'malefic idyl life grow': 1739, 'idyl life grow peaceabl': 1382, 'life grow peaceabl forest': 1662, 'grow peaceabl forest kingdom': 1238, 'peaceabl forest kingdom one': 2101, 'forest kingdom one day': 1092, 'kingdom one day invad': 1565, 'one day invad armi': 2002, 'day invad armi threaten': 674, 'invad armi threaten harmoni': 1452, 'armi threaten harmoni land': 202, 'threaten harmoni land malefic': 2804, 'harmoni land malefic rise': 1257, 'land malefic rise land': 1589, 'malefic rise land fierc': 1741, 'rise land fierc protector': 2372, 'land fierc protector ultim': 1584, 'fierc protector ultim suffer': 1010, 'protector ultim suffer ruthless': 2228, 'ultim suffer ruthless betray': 2904, 'suffer ruthless betray act': 2653, 'ruthless betray act begin': 2408, 'betray act begin turn': 337, 'act begin turn heart': 36, 'begin turn heart stone': 327, 'turn heart stone went': 2885, 'heart stone went reveng': 1285, 'stone went reveng malefic': 2622, 'went reveng malefic face': 3064, 'reveng malefic face epic': 2353, 'malefic face epic battl': 1738, 'face epic battl invad': 956, 'epic battl invad king': 880, 'battl invad king successor': 298, 'invad king successor and': 1455, 'king successor and result': 1561, 'successor and result place': 2651, 'and result place curs': 166, 'result place curs upon': 2339, 'place curs upon newton': 2148, 'curs upon newton infant': 640, 'upon newton infant aurora': 2958, 'newton infant aurora is': 1955, 'infant aurora is child': 1428, 'aurora is child grow': 232, 'is child grow malefic': 1475, 'child grow malefic realiz': 507, 'grow malefic realiz aurora': 1237, 'malefic realiz aurora hold': 1740, 'realiz aurora hold key': 2295, 'aurora hold key peac': 231, 'hold key peac kingdom': 1332, 'key peac kingdom malefic': 1543, 'peac kingdom malefic true': 2099, 'kingdom malefic true happi': 1564, 'malefic true happi well': 1742, 'group scientist an francisco': 1233, 'scientist an francisco struggl': 2430, 'an francisco struggl stay': 151, 'francisco struggl stay aliv': 1115, 'struggl stay aliv aftermath': 2647, 'stay aliv aftermath plagu': 2613, 'aliv aftermath plagu wipe': 107, 'aftermath plagu wipe human': 75, 'plagu wipe human caesar': 2152, 'wipe human caesar tri': 3124, 'human caesar tri maintain': 1363, 'caesar tri maintain domin': 418, 'tri maintain domin commun': 2875, 'maintain domin commun intellig': 1731, 'domin commun intellig ape': 768, 'the cover epic romanc': 2748, 'cover epic romanc year': 610, 'epic romanc year eye': 887, 'romanc year eye travel': 2390, 'year eye travel adventur': 3221, 'eye travel adventur film': 953, 'travel adventur film seem': 2856, 'adventur film seem poland': 54, 'film seem poland off': 1022, 'seem poland off stori': 2466, 'poland off stori they': 2169, 'off stori they jhankar': 1984, 'stori they jhankar film': 2632, 'they jhankar film sweep': 2781, 'jhankar film sweep tale': 1503, 'film sweep tale imposs': 1023, 'sweep tale imposs love': 2686, 'tale imposs love set': 2705, 'imposs love set backdrop': 1399, 'love set backdrop first': 1711, 'set backdrop first anglomartha': 2488, 'backdrop first anglomartha war': 271, 'first anglomartha war across': 1044, 'anglomartha war across two': 173, 'war across two year': 3014, 'year eye period contin': 3215, 'eye period contin centr': 947, 'period contin centr around': 2108, 'contin centr around four': 592, 'centr around four charact': 477, 'around four charact british': 203, 'four charact british offic': 1112, 'charact british offic with': 497, 'british offic with centuri': 388, 'offic with centuri coloni': 1988, 'with centuri coloni india': 3133, 'centuri coloni india indian': 478, 'coloni india indian woman': 548, 'india indian woman fall': 1422, 'indian woman fall deepli': 1424, 'woman fall deepli love': 3148, 'fall deepli love with': 968, 'deepli love with american': 699, 'love with american presentday': 1713, 'with american presentday marin': 3131, 'american presentday marin biologist': 145, 'presentday marin biologist wife': 2194, 'base origin 1941 movi': 289, 'origin 1941 movi japan': 2038, '1941 movi japan ancient': 8, 'movi japan ancient japan': 1868, 'japan ancient japan endur': 1501, 'ancient japan endur tale': 157, 'japan endur tale epic': 1502, 'endur tale epic of': 855, 'tale epic of fantasyadventur': 2704, 'epic of fantasyadventur 47': 885, 'of fantasyadventur 47 join': 1982, 'fantasyadventur 47 join born': 975, '47 join born mean': 14, 'join born mean nerv': 1511, 'born mean nerv lead': 364, 'mean nerv lead cast': 1787, 'nerv lead cast ai': 1934, 'lead cast ai outcast': 1615, 'cast ai outcast join': 460, 'ai outcast join wish': 89, 'outcast join wish hiroyuki': 2048, 'join wish hiroyuki canada': 1515, 'wish hiroyuki canada leader': 3128, 'hiroyuki canada leader 47': 1327, 'canada leader 47 outcast': 429, 'leader 47 outcast samurai': 1620, '47 outcast samurai togeth': 15, 'outcast samurai togeth seek': 2049, 'samurai togeth seek vengeanc': 2416, 'togeth seek vengeanc upon': 2822, 'seek vengeanc upon treacher': 2463, 'vengeanc upon treacher overland': 2984, 'upon treacher overland kill': 2960, 'treacher overland kill master': 2861, 'overland kill master banish': 2054, 'kill master banish kind': 1550, 'master banish kind to': 1776, 'banish kind to restor': 282, 'kind to restor honor': 1553, 'to restor honor holland': 2818, 'restor honor holland warrior': 2336, 'honor holland warrior embark': 1341, 'holland warrior embark upon': 1335, 'warrior embark upon quest': 3029, 'embark upon quest challeng': 832, 'upon quest challeng seri': 2959, 'quest challeng seri trial': 2259, 'challeng seri trial would': 486, 'seri trial would destroy': 2480, 'trial would destroy ordinari': 2876, 'would destroy ordinari warrior': 3197, 'after cataclysm event new': 68, 'cataclysm event new work': 466, 'event new work the': 910, 'new work the aveng': 1953, 'work the aveng steve': 3161, 'the aveng steve roger': 2745, 'aveng steve roger ak': 243, 'steve roger ak captain': 2619, 'roger ak captain america': 2386, 'ak captain america live': 94, 'captain america live quietli': 441, 'america live quietli washington': 142, 'live quietli washington dc': 1690, 'quietli washington dc tri': 2269, 'washington dc tri adjust': 3035, 'dc tri adjust modern': 677, 'tri adjust modern world': 2867, 'adjust modern world but': 47, 'modern world but shield': 1850, 'world but shield colleagu': 3170, 'but shield colleagu come': 413, 'shield colleagu come attack': 2505, 'colleagu come attack steve': 542, 'come attack steve becom': 554, 'attack steve becom embroil': 223, 'steve becom embroil web': 2618, 'becom embroil web intrigu': 310, 'embroil web intrigu threaten': 834, 'web intrigu threaten put': 3055, 'intrigu threaten put world': 1451, 'threaten put world risk': 2805, 'put world risk join': 2247, 'world risk join forc': 3189, 'risk join forc black': 2375, 'join forc black widow': 1512, 'forc black widow captain': 1076, 'black widow captain america': 346, 'widow captain america struggl': 3111, 'captain america struggl expos': 442, 'america struggl expos everwiden': 143, 'struggl expos everwiden conspiraci': 2645, 'expos everwiden conspiraci fight': 940, 'everwiden conspiraci fight profession': 914, 'conspiraci fight profession assassin': 586, 'fight profession assassin sent': 1015, 'profession assassin sent silenc': 2211, 'assassin sent silenc everi': 215, 'sent silenc everi turn': 2477, 'silenc everi turn when': 2527, 'everi turn when full': 913, 'turn when full scope': 2888, 'when full scope villain': 3073, 'full scope villain plot': 1134, 'scope villain plot reveal': 2432, 'villain plot reveal captain': 2996, 'plot reveal captain america': 2165, 'reveal captain america black': 2346, 'captain america black widow': 439, 'america black widow enlist': 140, 'black widow enlist help': 347, 'widow enlist help new': 3112, 'enlist help new alli': 866, 'help new alli falcon': 1296, 'new alli falcon howev': 1939, 'alli falcon howev soon': 113, 'falcon howev soon find': 967, 'howev soon find unexpect': 1358, 'soon find unexpect formid': 2559, 'find unexpect formid enemy': 1035, 'unexpect formid enemy th': 2924, 'formid enemy th winter': 1105, 'enemy th winter soldier': 859, 'bore domest three part': 363, 'domest three part dealmak': 767, 'three part dealmak rumpelstiltskin': 2807, 'part dealmak rumpelstiltskin get': 2076, 'dealmak rumpelstiltskin get back': 684, 'rumpelstiltskin get back feel': 2402, 'get back feel like': 1170, 'back feel like real': 259, 'feel like real ore': 1001, 'like real ore again': 1679, 'real ore again he': 2294, 'ore again he dump': 2029, 'again he dump sent': 76, 'he dump sent twist': 1265, 'dump sent twist version': 788, 'sent twist version war': 2478, 'twist version war war': 2893, 'version war war way': 2987, 'war war way wher': 3023, 'war way wher rumpelstiltskin': 3024, 'way wher rumpelstiltskin king': 3047, 'wher rumpelstiltskin king ore': 3083, 'rumpelstiltskin king ore hunt': 2403, 'king ore hunt vilna': 1558, 'ore hunt vilna never': 2030, 'hunt vilna never met': 1374, 'vilna never met set': 2999, 'never met set restor': 1936, 'met set restor world': 1813, 'set restor world reclaim': 2492, 'restor world reclaim true': 2338, 'world reclaim true love': 3187, 'round share destini bright': 2398, 'share destini bright optimist': 2500, 'destini bright optimist been': 715, 'bright optimist been burst': 382, 'optimist been burst scientif': 2017, 'been burst scientif curios': 319, 'burst scientif curios former': 398, 'scientif curios former boygeniu': 2429, 'curios former boygeniu inventor': 637, 'former boygeniu inventor jade': 1098, 'boygeniu inventor jade disillusion': 373, 'inventor jade disillusion embark': 1459, 'jade disillusion embark dangerfil': 1497, 'disillusion embark dangerfil mission': 757, 'embark dangerfil mission earth': 828, 'dangerfil mission earth secret': 659, 'mission earth secret enigmat': 1844, 'earth secret enigmat place': 807, 'secret enigmat place somewher': 2446, 'enigmat place somewher year': 864, 'place somewher year eye': 2149, 'somewher year eye space': 2551, 'year eye space exist': 3220, 'eye space exist collect': 952, 'space exist collect memori': 2566, 'exist collect memori tomorrowland': 927, 'the special bond develop': 2760, 'special bond develop plussiz': 2577, 'bond develop plussiz inflamm': 353, 'develop plussiz inflamm root': 725, 'plussiz inflamm root layman': 2168, 'inflamm root layman prodigi': 1432, 'root layman prodigi fire': 2393, 'layman prodigi fire canada': 1614, 'prodigi fire canada team': 2209, 'fire canada team group': 1041, 'canada team group friend': 430, 'team group friend form': 2714, 'group friend form band': 1231, 'friend form band highteach': 1125, 'form band highteach hero': 1096, 'wreckit ralph 9foottal 643pound': 3199, 'ralph 9foottal 643pound villain': 2286, '9foottal 643pound villain arcad': 24, '643pound villain arcad video': 18, 'villain arcad video game': 2991, 'arcad video game name': 192, 'video game name sixit': 2988, 'game name sixit felix': 1148, 'name sixit felix or': 1920, 'sixit felix or game': 2534, 'felix or game tubular': 1004, 'or game tubular hero': 2021, 'game tubular hero fix': 1150, 'tubular hero fix build': 2882, 'hero fix build ralph': 1305, 'fix build ralph destroy': 1052, 'build ralph destroy pant': 393, 'ralph destroy pant prove': 2287, 'destroy pant prove good': 719, 'pant prove good guy': 2063, 'prove good guy villain': 2230, 'good guy villain ralph': 1202, 'guy villain ralph escap': 1247, 'villain ralph escap game': 2998, 'ralph escap game land': 2288, 'escap game land hero': 895, 'game land hero duti': 1146, 'land hero duti firstperson': 1586, 'hero duti firstperson shorter': 1304, 'duti firstperson shorter help': 790, 'firstperson shorter help game': 1050, 'shorter help game hero': 2516, 'help game hero battl': 1293, 'game hero battl alien': 1145, 'hero battl alien invad': 1303, 'battl alien invad he': 296, 'alien invad he later': 101, 'invad he later enter': 1454, 'he later enter sugar': 1268, 'later enter sugar rush': 1605, 'enter sugar rush part': 873, 'sugar rush part race': 2655, 'rush part race game': 2405, 'part race game set': 2078, 'race game set track': 2277, 'game set track made': 1149, 'set track made candl': 2494, 'track made candl coloni': 2842, 'made candl coloni sweet': 1722, 'candl coloni sweet there': 431, 'coloni sweet there ralph': 549, 'sweet there ralph meet': 2687, 'there ralph meet vanellop': 2776, 'ralph meet vanellop von': 2290, 'meet vanellop von schweetz': 1798, 'vanellop von schweetz learn': 2979, 'von schweetz learn game': 3004, 'schweetz learn game face': 2428, 'learn game face dire': 1628, 'game face dire threat': 1144, 'face dire threat could': 955, 'dire threat could affect': 739, 'threat could affect entir': 2797, 'could affect entir arcad': 606, 'affect entir arcad one': 63, 'entir arcad one ralph': 876, 'arcad one ralph may': 191, 'one ralph may inadvert': 2006, 'ralph may inadvert start': 2289, 'when doubt young boy': 3070, 'doubt young boy take': 776, 'young boy take extraordinari': 3233, 'boy take extraordinari train': 372, 'take extraordinari train ride': 2696, 'extraordinari train ride north': 943, 'train ride north sole': 2846, 'ride north sole embark': 2361, 'north sole embark journey': 1962, 'sole embark journey selfdiscoveri': 2550, 'embark journey selfdiscoveri show': 831, 'journey selfdiscoveri show wonder': 1520, 'selfdiscoveri show wonder life': 2473, 'show wonder life never': 2518, 'wonder life never fade': 3156, 'life never fade believ': 1666, 'he alway knew come': 1263, 'alway knew come back': 133, 'knew come back use': 1572, 'come back use recov': 556, 'back use recov alien': 269, 'use recov alien technolog': 2974, 'recov alien technolog nation': 2306, 'alien technolog nation earth': 104, 'technolog nation earth collabor': 2726, 'nation earth collabor immens': 1923, 'earth collabor immens defens': 796, 'collabor immens defens program': 540, 'immens defens program protect': 1393, 'defens program protect planet': 704, 'program protect planet but': 2214, 'protect planet but noth': 2226, 'planet but noth prepar': 2158, 'but noth prepar us': 409, 'noth prepar us aliens': 1965, 'prepar us aliens advanc': 2193, 'us aliens advanc unpreced': 2963, 'aliens advanc unpreced forc': 106, 'advanc unpreced forc onli': 52, 'unpreced forc onli ingenu': 2943, 'forc onli ingenu brave': 1083, 'onli ingenu brave men': 2009, 'ingenu brave men women': 1435, 'brave men women bring': 376, 'men women bring world': 1806, 'women bring world back': 3155, 'bring world back brink': 385, 'world back brink extinct': 3168, 'is son like leader': 1481, 'son like leader cusp': 2553, 'like leader cusp manhood': 1677, 'leader cusp manhood shi': 1621, 'cusp manhood shi hiccup': 643, 'manhood shi hiccup horrend': 1754, 'shi hiccup horrend braddock': 2504, 'hiccup horrend braddock iii': 1314, 'horrend braddock iii face': 1348, 'braddock iii face rite': 374, 'iii face rite passag': 1383, 'face rite passag must': 962, 'rite passag must kill': 2376, 'passag must kill dragon': 2087, 'must kill dragon prove': 1884, 'kill dragon prove warrior': 1549, 'dragon prove warrior mettl': 779, 'prove warrior mettl but': 2232, 'warrior mettl but own': 3030, 'mettl but own fear': 1816, 'but own fear dragon': 411, 'own fear dragon realiz': 2060, 'fear dragon realiz longer': 997, 'dragon realiz longer want': 780, 'realiz longer want destroy': 2296, 'longer want destroy it': 1700, 'want destroy it instead': 3012, 'destroy it instead befriend': 718, 'it instead befriend beast': 1492, 'instead befriend beast name': 1440, 'befriend beast name toothless': 321, 'beast name toothless much': 304, 'name toothless much chagrin': 1921, 'toothless much chagrin warrior': 2826, 'much chagrin warrior father': 1871, 'it 10 year sinc': 1488, '10 year sinc john': 2, 'year sinc john honor': 3227, 'sinc john honor save': 2530, 'john honor save earth': 1509, 'honor save earth judgment': 1343, 'save earth judgment may': 2419, 'earth judgment may he': 800, 'judgment may he live': 1522, 'may he live rear': 1783, 'he live rear sneer': 1270, 'live rear sneer clear': 1691, 'rear sneer clear use': 2300, 'sneer clear use anyth': 2545, 'clear use anyth skynet': 529, 'use anyth skynet trace': 2968, 'anyth skynet trace that': 182, 'skynet trace that is': 2539, 'trace that is encount': 2841, 'that is encount tx': 2743, 'is encount tx robot': 1476, 'encount tx robot assassin': 852, 'tx robot assassin order': 2900, 'robot assassin order finish': 2384, 'assassin order finish t1000': 213, 'order finish t1000 start': 2026, 'finish t1000 start good': 1040, 't1000 start good thing': 2693, 'start good thing honor': 2604, 'good thing honor former': 1203, 'thing honor former genesi': 2787, 'honor former genesi termin': 1340, 'former genesi termin back': 1099, 'genesi termin back aid': 1166, 'termin back aid nowadult': 2732, 'back aid nowadult honor': 254, 'aid nowadult honor like': 91, 'nowadult honor like promis': 1974, 'right year earth 26': 2367, 'year earth 26 year': 3209, 'earth 26 year abduct': 794, '26 year abduct peter': 13, 'year abduct peter quill': 3207, 'abduct peter quill find': 27, 'peter quill find prime': 2129, 'quill find prime target': 2270, 'find prime target manhunt': 1032, 'prime target manhunt discov': 2201, 'target manhunt discov orb': 2709, 'manhunt discov orb want': 1755, 'discov orb want conan': 750, 'orb want conan accus': 2024, 'interstellar chronicl adventur group': 1448, 'chronicl adventur group explor': 515, 'adventur group explor make': 55, 'group explor make use': 1230, 'explor make use newli': 938, 'make use newli discov': 1737, 'use newli discov wormhol': 2972, 'newli discov wormhol surplu': 1954, 'discov wormhol surplu limit': 753, 'wormhol surplu limit human': 3196, 'surplu limit human space': 2674, 'limit human space travel': 1682, 'human space travel conquer': 1371, 'space travel conquer vast': 2571, 'travel conquer vast distanc': 2859, 'conquer vast distanc involv': 583, 'vast distanc involv interstellar': 2981, 'distanc involv interstellar voyag': 760, 'cobb skill thief commit': 537, 'skill thief commit corpor': 2536, 'thief commit corpor espionag': 2782, 'commit corpor espionag infiltr': 564, 'corpor espionag infiltr unconsci': 604, 'espionag infiltr unconsci target': 901, 'infiltr unconsci target offer': 1431, 'unconsci target offer chanc': 2910, 'target offer chanc regain': 2711, 'offer chanc regain old': 1985, 'chanc regain old life': 490, 'regain old life payment': 2310, 'old life payment task': 1992, 'life payment task consid': 1667, 'payment task consid imposs': 2098, 'task consid imposs incept': 2712, 'consid imposs incept implant': 584, 'imposs incept implant anoth': 1398, 'incept implant anoth person': 1415, 'implant anoth person idea': 1396, 'anoth person idea target': 179, 'person idea target unconsci': 2112, 'from mind behind evangelion': 1131, 'mind behind evangelion come': 1836, 'behind evangelion come hit': 328, 'evangelion come hit larger': 903, 'come hit larger life': 559, 'hit larger life when': 1328, 'larger life when massiv': 1597, 'life when massiv kill': 1673, 'when massiv kill monster': 3077, 'massiv kill monster emerg': 1774, 'kill monster emerg deep': 1551, 'monster emerg deep tear': 1852, 'emerg deep tear citi': 835, 'deep tear citi govern': 696, 'tear citi govern scrambl': 2721, 'citi govern scrambl save': 517, 'govern scrambl save citizen': 1212, 'scrambl save citizen ragtag': 2437, 'save citizen ragtag team': 2418, 'citizen ragtag team volunt': 521, 'ragtag team volunt cut': 2283, 'team volunt cut web': 2720, 'volunt cut web red': 3003, 'cut web red tape': 645, 'web red tape uncov': 3056, 'red tape uncov monster': 2307, 'tape uncov monster weak': 2707, 'uncov monster weak mysteri': 2911, 'monster weak mysteri tie': 1854, 'weak mysteri tie foreign': 3048, 'mysteri tie foreign superpow': 1903, 'tie foreign superpow but': 2811, 'foreign superpow but year': 1091, 'superpow but year eye': 2669, 'but year eye side': 415, 'year eye side greatest': 3219, 'eye side greatest catastroph': 951, 'side greatest catastroph ever': 2522, 'greatest catastroph ever befal': 1225, 'catastroph ever befal world': 467, 'ever befal world evolv': 912, 'befal world evolv right': 320, 'world evolv right eye': 3174, 'ilio margin habit enjoy': 1386, 'margin habit enjoy quiet': 1764, 'habit enjoy quiet life': 1248, 'enjoy quiet life swept': 865, 'quiet life swept epic': 2268, 'life swept epic quest': 1671, 'swept epic quest gandalf': 2688, 'epic quest gandalf grey': 886, 'quest gandalf grey thirteen': 2261, 'gandalf grey thirteen wave': 1151, 'grey thirteen wave seek': 1228, 'thirteen wave seek reclaim': 2794, 'wave seek reclaim mountain': 3041, 'seek reclaim mountain home': 2461, 'reclaim mountain home mug': 2305, 'mountain home mug dragon': 1863, 'domen toretto os angel': 766, 'toretto os angel street': 2830, 'os angel street race': 2043, 'angel street race suspect': 171, 'street race suspect mastermind': 2636, 'race suspect mastermind seri': 2279, 'suspect mastermind seri bigfig': 2685, 'mastermind seri bigfig hijack': 1779, 'seri bigfig hijack when': 2479, 'bigfig hijack when undercov': 342, 'hijack when undercov cop': 1322, 'when undercov cop brian': 3081, 'undercov cop brian olong': 2915, 'cop brian olong infiltr': 599, 'brian olong infiltr toretto': 379, 'olong infiltr toretto iconoclast': 1997, 'infiltr toretto iconoclast crew': 1430, 'toretto iconoclast crew fall': 2829, 'iconoclast crew fall toretto': 1379, 'crew fall toretto sister': 620, 'fall toretto sister must': 970, 'toretto sister must choos': 2831, 'sister must choos side': 2532, 'must choos side gang': 1880, 'choos side gang lapd': 513}\n"
     ]
    }
   ],
   "source": [
    "print(cv.vocabulary_)"
   ]
  },
  {
   "cell_type": "code",
   "execution_count": 110,
   "metadata": {
    "colab": {
     "base_uri": "https://localhost:8080/"
    },
    "id": "3Zy2WYHHIIHe",
    "outputId": "c92dfd8f-a2f5-40d9-f356-31090a25ffb3"
   },
   "outputs": [
    {
     "data": {
      "text/plain": [
       "(100, 3245)"
      ]
     },
     "execution_count": 110,
     "metadata": {},
     "output_type": "execute_result"
    }
   ],
   "source": [
    "n_grams.shape"
   ]
  },
  {
   "cell_type": "code",
   "execution_count": 111,
   "metadata": {
    "id": "2DQ3D4CjIV6e"
   },
   "outputs": [],
   "source": [
    "n_grams=n_grams.toarray()"
   ]
  },
  {
   "cell_type": "code",
   "execution_count": 112,
   "metadata": {
    "colab": {
     "base_uri": "https://localhost:8080/"
    },
    "id": "WAbzkEaDIt-k",
    "outputId": "89d7a8cc-f540-4e89-bae6-f40a247e9e8f"
   },
   "outputs": [
    {
     "data": {
      "text/plain": [
       "array([[0, 0, 0, ..., 0, 0, 0],\n",
       "       [0, 0, 0, ..., 0, 0, 0],\n",
       "       [0, 0, 0, ..., 0, 0, 0],\n",
       "       ...,\n",
       "       [0, 0, 0, ..., 0, 0, 0],\n",
       "       [0, 0, 0, ..., 0, 0, 0],\n",
       "       [0, 0, 0, ..., 0, 0, 0]])"
      ]
     },
     "execution_count": 112,
     "metadata": {},
     "output_type": "execute_result"
    }
   ],
   "source": [
    "n_grams"
   ]
  },
  {
   "cell_type": "code",
   "execution_count": 113,
   "metadata": {
    "colab": {
     "base_uri": "https://localhost:8080/"
    },
    "id": "ni0p2eDKI36X",
    "outputId": "7a758b47-2e89-4a37-d93e-84c11e87cc17"
   },
   "outputs": [
    {
     "data": {
      "text/plain": [
       "array([0, 0, 0, ..., 0, 0, 0])"
      ]
     },
     "execution_count": 113,
     "metadata": {},
     "output_type": "execute_result"
    }
   ],
   "source": [
    "n_grams[3]"
   ]
  },
  {
   "cell_type": "code",
   "execution_count": 114,
   "metadata": {
    "colab": {
     "base_uri": "https://localhost:8080/"
    },
    "id": "m2eHD6huIvgT",
    "outputId": "d8c159fd-88dd-45d6-f3c0-fd1cbe7d2016"
   },
   "outputs": [
    {
     "name": "stdout",
     "output_type": "stream",
     "text": [
      "0 0 0 0 0 0 0 0 0 0 0 0 0 0 0 0 0 0 0 0 0 0 0 0 0 0 0 0 1 0 0 0 0 0 0 0 0 0 0 0 0 0 0 0 0 0 0 0 0 0 0 0 0 0 0 0 0 0 0 0 0 0 0 0 0 0 0 0 0 0 0 0 0 0 0 0 0 0 0 0 0 0 0 0 0 0 0 0 0 0 0 0 0 0 0 0 0 0 0 0 0 0 0 0 0 0 0 0 0 0 0 0 0 0 0 0 0 0 0 0 0 0 0 0 0 0 0 0 0 0 0 0 0 0 0 0 0 0 0 0 0 0 0 0 0 0 0 0 0 0 0 0 0 0 0 0 0 0 0 0 0 0 0 0 0 0 0 0 0 0 0 0 0 0 0 0 0 0 0 0 0 0 0 0 0 0 0 0 0 0 0 0 0 0 0 0 0 0 0 0 0 0 0 0 0 0 0 0 0 0 0 0 0 0 0 0 0 0 0 0 1 0 0 0 0 0 0 0 1 1 0 0 0 0 0 0 0 0 0 0 0 0 0 0 0 0 0 0 0 0 0 0 0 0 0 0 0 0 0 0 0 0 0 0 0 0 0 0 0 0 0 0 0 0 0 0 0 0 0 0 0 0 0 0 0 0 0 0 0 0 0 1 1 0 0 0 0 0 0 0 0 0 0 0 0 0 0 0 0 0 0 0 0 0 0 0 0 0 0 0 0 0 0 0 0 0 0 0 0 0 0 0 0 0 0 0 0 0 0 0 0 0 0 0 0 0 0 0 0 0 0 0 0 0 0 0 0 0 0 0 0 0 0 0 0 0 0 0 0 0 0 0 0 0 0 0 0 0 0 0 0 0 0 0 0 0 0 0 0 0 0 0 0 0 0 0 0 0 0 0 0 0 0 0 0 0 0 0 0 0 0 0 0 0 0 0 0 0 0 0 0 0 0 0 0 0 0 0 0 0 0 0 0 0 0 0 0 0 0 0 0 0 0 0 0 0 0 0 0 0 0 0 0 0 0 0 0 0 0 0 0 0 0 0 0 0 0 0 0 0 0 0 0 0 0 0 0 0 0 0 0 0 0 0 0 0 0 0 0 0 0 0 0 0 0 0 0 0 0 0 0 0 0 0 0 0 0 0 0 0 0 0 0 0 0 0 0 0 0 1 0 0 0 0 0 0 0 0 0 0 0 0 0 0 0 0 0 0 0 0 0 0 0 0 0 0 0 0 0 0 0 0 0 0 0 0 0 0 0 0 0 0 0 0 0 0 0 0 0 0 0 0 0 0 0 0 0 0 0 0 0 0 0 0 0 0 0 0 0 0 0 0 0 0 0 0 0 0 0 0 0 0 0 0 0 0 0 0 0 0 0 0 0 0 0 0 0 0 0 0 0 0 1 0 0 0 0 0 0 0 0 0 0 0 0 0 0 0 0 0 0 0 0 0 0 0 0 0 0 0 0 0 0 0 0 0 0 0 0 0 0 0 0 0 1 0 0 0 0 0 0 0 0 0 0 0 0 0 0 0 0 0 0 0 0 0 1 0 0 0 0 0 0 0 0 0 0 0 0 0 0 0 0 0 0 0 0 0 0 1 0 0 0 0 0 0 0 0 0 0 0 0 0 0 0 0 0 0 0 0 0 0 0 0 0 0 0 0 0 0 0 0 0 0 0 0 0 0 0 0 0 0 0 0 0 0 0 0 0 0 0 1 0 0 0 0 0 0 0 0 0 0 0 0 0 0 0 0 0 0 0 0 0 0 0 0 0 0 0 0 0 0 0 0 0 0 0 0 0 0 0 0 0 0 0 0 0 0 0 0 0 0 0 0 0 0 0 0 0 0 0 0 0 0 0 0 0 0 0 0 0 0 0 0 0 0 0 0 0 0 0 0 0 0 0 0 0 0 0 0 1 0 0 0 0 0 0 0 0 0 0 0 0 0 0 0 0 0 0 0 0 0 0 0 0 0 0 0 0 0 0 0 0 0 0 0 0 0 0 0 0 0 0 0 0 0 0 0 0 0 0 0 0 0 0 0 0 0 0 0 0 0 0 0 0 0 0 0 0 0 0 0 0 0 0 0 0 0 0 0 0 0 0 0 0 0 0 0 0 0 0 0 0 0 0 0 0 0 0 0 0 0 0 0 0 0 0 0 0 0 0 0 0 0 0 0 0 0 0 0 0 0 0 0 0 0 0 0 0 0 0 0 0 0 0 0 0 0 0 0 0 0 0 0 0 0 0 0 0 0 0 0 0 0 0 0 0 0 0 0 0 0 0 0 0 0 0 0 0 0 0 0 0 0 0 0 0 0 0 0 0 0 0 0 0 0 0 0 0 1 0 0 0 0 0 0 0 0 0 0 0 0 0 0 0 0 0 0 0 0 1 0 0 0 0 0 0 0 0 0 0 0 0 0 0 0 0 0 0 0 0 0 0 0 0 0 0 0 0 0 0 0 0 0 0 0 0 0 0 0 0 0 0 0 0 0 0 0 0 0 0 0 0 0 0 0 0 0 0 0 0 0 0 0 0 0 0 0 0 0 0 0 0 0 0 0 0 0 0 0 0 0 0 0 0 0 0 0 0 0 0 0 0 0 0 0 0 0 0 0 0 0 0 0 0 0 0 0 0 0 0 0 0 0 0 0 0 0 0 0 0 0 0 0 0 0 0 0 0 0 0 0 0 0 0 0 0 0 0 0 0 0 0 0 0 0 0 1 0 1 0 0 0 0 0 0 0 0 0 0 0 0 0 0 0 0 0 0 0 0 0 0 0 0 0 0 0 0 0 0 0 0 0 0 0 0 0 0 0 0 0 0 0 0 0 0 0 0 1 0 0 0 0 0 0 0 0 0 0 0 0 0 0 0 0 0 0 0 0 0 0 0 0 0 0 0 0 0 1 0 0 0 0 0 0 0 0 0 0 0 0 0 0 0 0 0 0 0 0 0 0 0 0 0 0 0 0 0 0 0 0 0 0 0 0 0 0 0 0 0 0 0 0 0 0 0 0 0 0 0 0 0 0 0 0 0 0 0 0 0 0 0 0 0 0 0 0 0 0 0 0 0 0 0 0 0 0 0 0 0 0 0 0 1 0 0 0 0 0 0 0 0 0 0 0 0 0 0 0 0 0 0 0 0 0 0 0 0 0 0 0 0 0 0 0 0 0 0 0 0 0 0 0 0 0 0 0 0 0 0 0 0 0 0 0 0 0 0 0 0 0 0 0 0 0 0 0 0 0 0 0 0 0 0 0 0 0 0 0 0 0 0 0 0 0 0 0 0 0 0 0 0 0 0 0 0 0 0 0 0 0 0 0 0 0 0 0 0 0 0 0 0 0 0 0 0 0 0 0 0 0 0 0 0 0 0 0 0 0 0 0 0 0 0 0 0 0 0 0 0 0 0 0 0 0 0 0 0 0 0 0 0 0 0 0 0 0 0 0 0 0 0 0 0 0 0 0 0 0 0 0 0 0 0 0 0 0 0 0 0 0 0 0 0 0 0 0 0 0 0 0 0 0 0 0 0 0 0 0 0 0 0 0 0 0 0 0 0 0 0 0 0 0 0 0 0 0 0 0 0 0 0 1 0 0 0 0 0 0 0 0 0 1 0 1 0 0 0 0 0 0 0 0 0 0 0 0 0 0 0 0 0 1 0 0 0 0 0 0 0 0 0 0 0 0 0 0 0 0 0 0 0 0 0 0 0 0 0 0 0 0 0 0 0 0 0 0 0 0 0 0 0 0 0 0 0 0 0 0 0 0 0 0 0 0 0 0 0 0 0 0 0 0 0 0 0 0 0 0 0 0 0 0 0 0 0 0 0 0 0 0 0 0 0 0 0 0 0 0 0 0 0 0 0 0 0 0 0 0 0 0 0 0 0 0 0 0 0 0 0 0 0 0 0 0 0 0 0 0 0 0 0 0 0 0 0 0 0 0 0 0 0 0 0 0 0 0 0 0 0 0 0 0 0 0 0 0 0 0 0 0 0 0 0 0 0 0 0 0 0 0 0 0 0 0 0 0 0 0 0 0 0 0 0 0 0 0 0 0 0 0 0 0 0 0 0 0 0 0 0 0 0 0 0 0 0 0 0 0 0 0 0 0 0 0 0 0 0 0 0 0 0 0 0 0 0 0 0 0 0 0 0 0 0 0 0 0 0 0 0 0 0 0 0 0 0 0 0 0 0 0 0 0 0 0 0 0 0 0 0 0 0 0 0 0 0 0 0 0 0 0 0 0 0 0 0 0 0 0 0 0 0 0 0 0 0 1 0 0 0 0 0 0 0 0 0 0 0 0 0 0 0 0 0 0 0 0 0 0 0 0 0 0 0 0 0 0 0 0 0 0 0 0 0 0 0 0 0 0 0 0 0 0 0 0 0 0 0 1 0 0 0 0 0 0 0 0 1 0 0 0 0 0 0 0 0 0 0 0 0 0 0 0 0 0 0 0 0 0 0 0 0 0 0 0 0 0 0 0 0 0 0 0 0 0 0 0 0 0 0 0 0 0 0 0 0 0 0 0 0 0 0 0 0 0 0 0 0 0 0 0 0 0 0 0 0 0 0 0 0 0 0 0 0 0 0 0 0 0 0 0 0 0 0 0 0 0 0 0 0 0 0 0 0 0 0 0 0 0 1 0 0 0 0 0 0 0 0 0 0 0 0 0 0 0 0 0 0 0 0 0 0 0 0 0 0 0 0 0 0 0 0 0 0 0 0 0 0 0 0 0 0 0 0 0 0 0 0 0 0 0 0 0 0 0 0 0 0 0 0 0 0 0 0 0 0 0 0 0 0 0 0 0 0 0 0 0 0 0 0 0 0 0 0 0 0 0 0 0 0 0 0 0 0 0 0 0 0 0 0 0 0 0 0 0 0 0 0 0 0 0 0 0 1 0 0 0 0 0 0 0 0 0 0 0 0 0 0 0 0 0 0 0 0 0 0 0 0 0 0 0 0 0 0 0 0 0 0 0 0 0 0 0 0 0 0 0 0 0 0 0 0 0 1 0 1 0 0 0 0 0 0 0 0 0 0 0 0 0 0 0 0 0 0 0 0 0 0 0 0 0 0 0 0 0 0 0 0 0 0 0 0 0 0 0 0 0 0 0 0 0 0 0 0 0 0 0 0 0 0 0 0 0 0 0 0 0 0 0 0 0 0 0 0 0 0 0 0 0 0 0 0 0 0 0 0 0 0 0 0 0 0 0 0 0 0 0 0 0 0 0 0 0 0 0 0 0 0 1 0 0 0 0 0 1 0 0 0 0 0 0 0 0 0 0 0 0 0 0 0 0 0 0 0 0 0 0 0 0 0 0 0 0 0 0 0 0 0 1 0 0 0 0 0 0 0 0 0 0 0 0 0 0 0 0 0 0 0 0 0 0 0 0 0 0 0 0 0 0 0 0 0 0 0 0 0 0 0 0 0 0 0 0 0 0 0 0 0 0 0 0 0 0 0 0 0 0 0 0 0 0 0 0 0 0 0 0 0 0 0 0 0 0 0 0 0 0 0 0 0 0 0 0 0 0 0 0 0 0 0 0 0 0 0 0 0 0 0 0 0 0 0 0 0 0 0 0 0 0 0 0 0 0 0 0 0 0 0 0 0 0 0 0 0 0 0 0 0 0 0 0 0 0 0 0 0 0 0 0 0 0 0 0 0 0 0 0 0 0 0 0 0 0 0 0 0 0 0 0 0 0 0 0 0 0 0 0 0 0 0 0 0 0 0 0 0 0 0 0 0 0 0 0 0 0 0 0 0 0 0 0 0 0 0 0 0 0 0 0 0 0 0 0 0 0 0 0 0 0 0 0 0 0 0 0 0 0 0 0 0 0 0 0 0 0 0 0 0 0 0 0 0 0 0 0 0 0 0 0 0 0 0 0 0 0 0 0 0 0 0 0 0 0 0 0 0 0 0 0 0 0 0 0 0 0 0 0 0 0 0 0 0 0 0 0 0 0 0 0 1 0 0 0 0 0 0 0 0 0 0 0 0 0 0 0 0 0 0 0 0 0 0 1 0 0 0 0 0 0 0 0 0 0 0 0 0 0 0 0 0 0 0 0 0 0 0 0 0 0 0 0 0 0 0 0 0 0 0 0 0 0 0 0 0 0 0 0 0 0 0 0 0 0 0 0 0 0 0 0 0 0 0 0 0 0 0 0 0 1 0 0 0 0 0 0 0 0 0 0 0 1 0 0 0 0 0 0 0 0 0 0 0 0 0 0 0 0 0 0 0 0 0 0 0 0 0 0 0 0 0 0 0 0 0 0 0 0 0 0 0 0 0 0 0 0 0 0 0 0 0 0 0 0 0 0 0 0 0 0 0 0 0 0 0 0 0 0 0 0 0 0 0 0 0 0 0 0 0 0 0 0 0 0 0 0 0 0 0 0 0 0 0 0 0 0 0 0 0 0 0 0 0 0 0 0 0 0 0 0 0 0 0 0 0 0 0 0 0 0 0 0 0 0 0 0 0 0 0 0 0 0 0 0 0 0 0 0 0 0 0 0 0 0 0 0 0 0 0 0 0 0 0 0 0 0 0 0 0 0 0 0 0 0 0 0 0 0 0 0 0 0 0 0 0 0 0 0 0 0 0 0 0 0 0 0 0 0 0 0 0 0 0 0 0 0 0 0 0 0 0 0 0 0 0 0 0 0 0 0 0 0 0 0 0 0 0 0 0 0 0 0 0 0 0 0 0 0 0 0 0 0 0 0 0 0 0 0 0 0 0 0 0 0 0 1 0 0 0 0 0 0 0 0 0 0 0 0 0 0 0 0 0 0 0 0 0 0 0 0 0 0 0 0 0 0 0 0 0 0 0 0 0 0 0 0 0 0 0 0 0 0 0 0 0 0 0 0 0 0 0 0 0 0 0 0 0 0 0 0 0 0 1 0 1 0 0 0 0 0 0 0 0 0 0 0 0 0 0 0 0 0 0 0 0 0 0 0 0 0 0 0 0 0 0 0 0 0 0 0 0 0 0 0 0 0 0 0 0 0 0 0 0 0 0 0 0 0 0 0 0 0 0 0 0 0 0 0 0 0 0 0 0 0 0 0 0 0 0 0 0 0 0 0 0 0 0 0 0 0 0 0 0 0 0 0 0 0 0 0 0 0 0 0 0 0 0 0 0 0 0 0 0 0 0 0 0 0 0 0 0 0 0 0 0 0 0 0 0 0 0 0 0 0 0 0 0 0 0 0 0 0 0 0 0 0 0 0 0 0 0 0 0 0 0 0 0 0 0 0 0 0 0 0 0 0 1 0 0 0 0 0 0 0 0 0 0 0 0 0 0 0 0 0 0 0 "
     ]
    }
   ],
   "source": [
    "# Print each element of the array\n",
    "for element in n_grams[3]:\n",
    "        print(element, end=' ')"
   ]
  },
  {
   "cell_type": "markdown",
   "metadata": {
    "id": "UpV1oKU_hsMm"
   },
   "source": [
    "## 4. Tf-Idf"
   ]
  },
  {
   "cell_type": "code",
   "execution_count": 115,
   "metadata": {
    "id": "p8pxQRF0I19N"
   },
   "outputs": [],
   "source": [
    "from sklearn.feature_extraction.text import TfidfVectorizer\n",
    "tfidf=TfidfVectorizer()"
   ]
  },
  {
   "cell_type": "code",
   "execution_count": 116,
   "metadata": {
    "id": "3YFDb7jHh_yI"
   },
   "outputs": [],
   "source": [
    "tfidf_encode=tfidf.fit_transform(df['overview'])"
   ]
  },
  {
   "cell_type": "code",
   "execution_count": 118,
   "metadata": {
    "colab": {
     "base_uri": "https://localhost:8080/"
    },
    "id": "Gsg4-7b_iRPN",
    "outputId": "02ffcd3b-82db-4860-aa08-52526e7d8939"
   },
   "outputs": [
    {
     "data": {
      "text/plain": [
       "array(['007', '10', '101yearold', ..., 'young', 'younger', 'youth'],\n",
       "      dtype=object)"
      ]
     },
     "execution_count": 118,
     "metadata": {},
     "output_type": "execute_result"
    }
   ],
   "source": [
    "tfidf.get_feature_names_out()"
   ]
  },
  {
   "cell_type": "code",
   "execution_count": 119,
   "metadata": {
    "colab": {
     "base_uri": "https://localhost:8080/"
    },
    "id": "CCSVZClkoD1m",
    "outputId": "ad2474fe-42b2-4dc8-c1e2-a3ee6dae985a"
   },
   "outputs": [
    {
     "data": {
      "text/plain": [
       "1682"
      ]
     },
     "execution_count": 119,
     "metadata": {},
     "output_type": "execute_result"
    }
   ],
   "source": [
    "len(tfidf.get_feature_names_out())"
   ]
  },
  {
   "cell_type": "code",
   "execution_count": 123,
   "metadata": {
    "id": "SOxGhbgDoUqF"
   },
   "outputs": [],
   "source": [
    "tfidf_encode=tfidf_encode.toarray()"
   ]
  },
  {
   "cell_type": "code",
   "execution_count": 125,
   "metadata": {
    "colab": {
     "base_uri": "https://localhost:8080/"
    },
    "id": "vjL4MZKopM1-",
    "outputId": "8af0a3da-0073-40b3-a700-962158568d20"
   },
   "outputs": [
    {
     "data": {
      "text/plain": [
       "array([0., 0., 0., ..., 0., 0., 0.])"
      ]
     },
     "execution_count": 125,
     "metadata": {},
     "output_type": "execute_result"
    }
   ],
   "source": [
    "tfidf_encode[3]"
   ]
  },
  {
   "cell_type": "code",
   "execution_count": 124,
   "metadata": {
    "colab": {
     "base_uri": "https://localhost:8080/"
    },
    "id": "ULhNXC-2ocvU",
    "outputId": "ca465edf-3b2a-4cbe-c837-83c648f8cc76"
   },
   "outputs": [
    {
     "name": "stdout",
     "output_type": "stream",
     "text": [
      "0.0 0.0 0.0 0.0 0.0 0.0 0.0 0.0 0.0 0.0 0.0 0.0 0.0 0.0 0.0 0.0 0.0 0.0 0.0 0.0 0.0 0.0 0.0 0.0 0.0 0.0 0.15450532675636877 0.0 0.0 0.0 0.0 0.0 0.0 0.0 0.0 0.0 0.0 0.0 0.0 0.0 0.0 0.0 0.0 0.0 0.0 0.0 0.0 0.0 0.0 0.0 0.0 0.0 0.0 0.0 0.0 0.0 0.0 0.0 0.0 0.0 0.0 0.0 0.0 0.0 0.0 0.0 0.0 0.0 0.0 0.0 0.0 0.0 0.0 0.0 0.0 0.0 0.0 0.0 0.0 0.0 0.0 0.0 0.0 0.0 0.0 0.0 0.0 0.0 0.0 0.0 0.0 0.0 0.0 0.0 0.0 0.0 0.0 0.0 0.0 0.0 0.0 0.0 0.0 0.0 0.0 0.0 0.0 0.0 0.0 0.0 0.0 0.0 0.0 0.0 0.0 0.0 0.0 0.0 0.0 0.0 0.13274679124516603 0.0 0.0 0.28355479882341106 0.0 0.0 0.0 0.0 0.0 0.0 0.0 0.0 0.0 0.0 0.0 0.0 0.0 0.0 0.0 0.0 0.0 0.0 0.0 0.0 0.0 0.0 0.0 0.0 0.0 0.0 0.0 0.0 0.0 0.0 0.26549358249033206 0.0 0.0 0.0 0.0 0.0 0.0 0.0 0.0 0.0 0.0 0.0 0.0 0.0 0.0 0.0 0.0 0.0 0.0 0.0 0.0 0.0 0.0 0.0 0.0 0.0 0.0 0.0 0.0 0.0 0.0 0.0 0.0 0.0 0.0 0.0 0.0 0.0 0.0 0.0 0.0 0.0 0.0 0.15450532675636877 0.0 0.0 0.0 0.0 0.0 0.0 0.0 0.0 0.0 0.0 0.0 0.0 0.0 0.0 0.0 0.0 0.0 0.0 0.0 0.0 0.0 0.0 0.0 0.0 0.0 0.0 0.0 0.0 0.0 0.0 0.0 0.0 0.0 0.0 0.0 0.0 0.0 0.0 0.0 0.0 0.0 0.0 0.0 0.0 0.0 0.0 0.0 0.0 0.0 0.0 0.0 0.0 0.0 0.0 0.0 0.0 0.0 0.0 0.0 0.0 0.0 0.0 0.0 0.0 0.0 0.0 0.0 0.0 0.0 0.0 0.0 0.0 0.0 0.0 0.0 0.0 0.0 0.0 0.0 0.0 0.24003772780100552 0.0 0.0 0.0 0.0 0.0 0.0 0.0 0.0 0.0 0.0 0.0 0.0 0.0 0.0 0.0 0.0 0.0 0.0 0.0 0.0 0.0 0.0 0.0 0.0 0.0 0.0 0.0 0.0 0.0 0.0 0.0 0.0 0.0 0.0 0.0 0.0 0.0 0.0 0.0 0.0 0.0 0.0 0.0 0.0 0.0 0.0 0.0 0.0 0.0 0.0 0.0 0.0 0.0 0.0 0.0 0.0 0.0 0.0 0.0 0.0 0.0 0.0 0.0 0.0 0.0 0.0 0.0 0.0 0.0 0.0 0.0 0.0 0.0 0.0 0.0 0.13274679124516603 0.0 0.0 0.0 0.0 0.0 0.0 0.0 0.0 0.0 0.0 0.0 0.0 0.0 0.0 0.0 0.0 0.0 0.0 0.0 0.0 0.0 0.0 0.0 0.0 0.0 0.11098825573396326 0.0 0.0 0.0 0.0 0.0 0.0 0.0 0.0 0.0 0.12574210736050548 0.0 0.0 0.0 0.0 0.0 0.0 0.0 0.0 0.0 0.0 0.0 0.0 0.0 0.0 0.0 0.14177739941170553 0.0 0.0 0.0 0.0 0.0 0.0 0.0 0.0 0.0 0.0 0.0 0.0 0.0 0.0 0.0 0.0 0.0 0.0 0.0 0.0 0.0 0.0 0.0 0.0 0.0 0.0 0.0 0.0 0.0 0.0 0.0 0.0 0.0 0.14177739941170553 0.0 0.0 0.0 0.0 0.0 0.0 0.0 0.0 0.0 0.0 0.0 0.0 0.0 0.0 0.0 0.0 0.0 0.0 0.0 0.0 0.0 0.0 0.0 0.0 0.0 0.0 0.0 0.0 0.0 0.0 0.0 0.0 0.0 0.0 0.0 0.0 0.0 0.0 0.0 0.0 0.0 0.0 0.0 0.0 0.0 0.0 0.0 0.0 0.0 0.0 0.0 0.12574210736050548 0.0 0.0 0.0 0.12001886390050276 0.0 0.0 0.0 0.0 0.0 0.0 0.0 0.0 0.0 0.0 0.0 0.0 0.0 0.0 0.0 0.0 0.0 0.0 0.0 0.0 0.0 0.0 0.0 0.0 0.0 0.0 0.0 0.0 0.0 0.0 0.0 0.0 0.0 0.0 0.0 0.0 0.0 0.0 0.0 0.0 0.0 0.0 0.0 0.0 0.0 0.0 0.0 0.0 0.0 0.0 0.0 0.0 0.0 0.0 0.0 0.0 0.0 0.0 0.0 0.0 0.0 0.0 0.0 0.0 0.0 0.0 0.0 0.0 0.0 0.0 0.0 0.0 0.0 0.0 0.0 0.0 0.0 0.0 0.0 0.15450532675636877 0.0 0.0 0.0 0.0 0.0 0.0 0.0 0.0 0.0 0.0 0.0 0.0 0.0 0.0 0.1151799305034313 0.0 0.0 0.0 0.0 0.0 0.0 0.0 0.0 0.0 0.0 0.0 0.0 0.0 0.0 0.0 0.0 0.0 0.0 0.0 0.0 0.0 0.0 0.0 0.0 0.0 0.0 0.0 0.0 0.0 0.0 0.0 0.0 0.0 0.0 0.0 0.0 0.0 0.0 0.0 0.0 0.0 0.0 0.0 0.0 0.0 0.0 0.0 0.0 0.0 0.0 0.0 0.0 0.0 0.0 0.0 0.0 0.0 0.0 0.0 0.0 0.0 0.0 0.0 0.0 0.26549358249033206 0.0 0.0 0.0 0.0 0.0 0.0 0.0 0.0 0.0 0.0 0.0 0.0 0.0 0.0 0.0 0.0 0.0 0.0 0.0 0.0 0.0 0.0 0.0 0.0 0.0 0.0 0.0 0.0 0.0 0.0 0.0 0.14177739941170553 0.0 0.0 0.0 0.0 0.0 0.0 0.0 0.0 0.0 0.0 0.0 0.0 0.15450532675636877 0.0 0.0 0.0 0.0 0.0 0.0 0.0 0.0 0.0 0.0 0.0 0.0 0.0 0.0 0.0 0.0 0.0 0.0 0.0 0.0 0.0 0.0 0.0 0.0 0.0 0.0 0.0 0.0 0.0 0.0 0.0 0.0 0.0 0.0 0.0 0.0 0.0 0.0 0.0 0.0 0.14177739941170553 0.0 0.0 0.0 0.0 0.0 0.0 0.0 0.0 0.0 0.0 0.0 0.0 0.0 0.0 0.0 0.0 0.0 0.0 0.0 0.0 0.0 0.0 0.0 0.0 0.0 0.0 0.0 0.0 0.0 0.0 0.0 0.0 0.0 0.0 0.0 0.0 0.0 0.0 0.0 0.0 0.0 0.0 0.0 0.0 0.0 0.0 0.0 0.0 0.0 0.0 0.0 0.0 0.0 0.0 0.0 0.0 0.0 0.0 0.0 0.0 0.0 0.0 0.0 0.0 0.0 0.0 0.0 0.0 0.0 0.0 0.0 0.0 0.0 0.0 0.0 0.0 0.0 0.0 0.0 0.0 0.0 0.0 0.0 0.0 0.0 0.0 0.0 0.0 0.0 0.0 0.0 0.0 0.0 0.0 0.0 0.0 0.0 0.0 0.0 0.0 0.0 0.0 0.0 0.0 0.0 0.0 0.0 0.0 0.0 0.0 0.0 0.0 0.0 0.0 0.13274679124516603 0.0 0.0 0.0 0.0 0.15450532675636877 0.12001886390050276 0.0 0.0 0.0 0.0 0.0 0.12001886390050276 0.0 0.0 0.0 0.0 0.0 0.0 0.0 0.0 0.0 0.0 0.0 0.0 0.0 0.0 0.0 0.0 0.0 0.0 0.0 0.0 0.0 0.0 0.0 0.0 0.0 0.0 0.0 0.0 0.0 0.0 0.0 0.0 0.0 0.0 0.0 0.0 0.0 0.0 0.0 0.0 0.0 0.0 0.0 0.0 0.0 0.0 0.0 0.0 0.0 0.0 0.0 0.0 0.0 0.0 0.0 0.0 0.0 0.0 0.0 0.0 0.0 0.0 0.0 0.0 0.0 0.0 0.0 0.0 0.0 0.0 0.0 0.0 0.0 0.0 0.0 0.0 0.0 0.0 0.0 0.0 0.0 0.0 0.0 0.0 0.0 0.0 0.0 0.0 0.0 0.0 0.0 0.0 0.0 0.0 0.0 0.0 0.0 0.0 0.0 0.0 0.0 0.0 0.0 0.0 0.0 0.0 0.0 0.0 0.0 0.0 0.0 0.0 0.0 0.0 0.0 0.0 0.0 0.0 0.0 0.0 0.0 0.0 0.0 0.0 0.0 0.0 0.0 0.0 0.0 0.0 0.0 0.0 0.0 0.0 0.0 0.09342139499222854 0.0 0.0 0.0 0.0 0.0 0.0 0.0 0.0 0.0 0.0 0.0 0.0 0.0 0.0 0.09342139499222854 0.0 0.0 0.0 0.15450532675636877 0.0 0.0 0.0 0.0 0.0 0.0 0.0 0.0 0.0 0.0 0.0 0.0 0.0 0.0 0.0 0.0 0.0 0.0 0.0 0.0 0.0 0.0 0.0 0.0 0.0 0.0 0.0 0.0 0.0 0.0 0.0 0.0 0.0 0.0 0.0 0.0 0.0 0.0 0.0 0.0 0.0 0.0 0.0 0.0 0.0 0.0 0.0 0.0 0.0 0.0 0.0 0.0 0.0 0.0 0.0 0.15450532675636877 0.0 0.0 0.0 0.0 0.0 0.0 0.0 0.0 0.0 0.0 0.0 0.0 0.0 0.0 0.0 0.0 0.0 0.0 0.0 0.0 0.0 0.0 0.0 0.0 0.0 0.0 0.0 0.0 0.0 0.0 0.0 0.0 0.0 0.0 0.0 0.0 0.0 0.0 0.0 0.0 0.0 0.0 0.0 0.0 0.0 0.0 0.0 0.0 0.0 0.0 0.0 0.0 0.0 0.0 0.0 0.15450532675636877 0.0 0.0 0.0 0.0 0.0 0.0 0.0 0.0 0.0 0.0 0.0 0.0 0.0 0.0 0.0 0.0 0.0 0.0 0.0 0.0 0.0 0.0 0.0 0.0 0.0 0.0 0.0 0.0 0.0 0.0 0.24003772780100552 0.0 0.0 0.0 0.0 0.0 0.0 0.0 0.0 0.0 0.0 0.0 0.0 0.0 0.0 0.0 0.0 0.0 0.0 0.0 0.0 0.0 0.0 0.0 0.0 0.0 0.0 0.0 0.0 0.0 0.0 0.0 0.0 0.0 0.0 0.0 0.0 0.0 0.0 0.0 0.0 0.0 0.0 0.0 0.0 0.0 0.0 0.0 0.0 0.0 0.0 0.0 0.0 0.0 0.0 0.0 0.0 0.0 0.0 0.0 0.0 0.0 0.15450532675636877 0.0 0.0 0.0 0.0 0.15450532675636877 0.0 0.0 0.0 0.0 0.0 0.0 0.0 0.0 0.0 0.0 0.0 0.0 0.0 0.0 0.10729093655583952 0.0 0.0 0.0 0.0 0.0 0.0 0.0 0.0 0.0 0.0 0.0 0.0 0.0 0.0 0.0 0.0 0.0 0.0 0.0 0.0 0.0 0.0 0.0 0.0 0.0 0.0 0.0 0.0 0.0 0.0 0.0 0.0 0.0 0.0 0.0 0.0 0.0 0.0 0.0 0.0 0.0 0.0 0.0 0.0 0.0 0.0 0.0 0.0 0.0 0.0 0.0 0.0 0.0 0.0 0.0 0.0 0.0 0.0 0.0 0.0 0.0 0.0 0.0 0.0 0.0 0.0 0.0 0.0 0.0 0.0 0.0 0.0 0.0 0.0 0.0 0.0 0.0 0.0 0.0 0.0 0.0 0.0 0.0 0.0 0.0 0.0 0.0 0.0 0.0 0.0 0.0 0.0 0.0 0.0 0.0 0.0 0.0 0.0 0.0 0.0 0.0 0.0 0.0 0.0 0.0 0.0 0.0 0.0 0.0 0.0 0.0 0.0 0.0 0.0 0.0 0.0 0.0 0.0 0.0 0.0 0.0 0.0 0.0 0.0 0.0 0.0 0.0 0.0 0.0 0.0 0.0 0.0 0.0 0.0 0.0 0.0 0.0 0.0 0.0 0.0 0.0 0.0 0.0 0.0 0.0 0.0 0.0 0.0 0.0 0.0 0.0 0.0 0.0 0.0 0.0 0.0 0.0 0.0 0.0 0.0 0.15450532675636877 0.0 0.0 0.0 0.0 0.0 0.0 0.0 0.0 0.0 0.0 0.0 0.0 0.0 0.0 0.0 0.0 0.0 0.15450532675636877 0.0 0.0 0.0 0.0 0.0 0.0 0.0 0.0 0.0 0.0 0.0 0.0 0.0 0.0 0.0 0.0 0.0 0.0 0.0 0.0 0.0 0.0 0.0 0.0 0.0 0.0 0.0 0.0 0.0 0.0 0.0 0.0 0.0 0.0 0.0 0.0 0.14177739941170553 0.0 0.0 0.0 0.0 0.0 0.0 0.07522035245343944 0.0 0.0 0.0 0.0 0.0 0.0 0.0 0.0 0.0 0.0 0.0 0.0 0.0 0.0 0.0 0.0 0.0 0.0 0.0 0.0 0.0 0.0 0.0 0.0 0.0 0.0 0.0 0.0 0.0 0.0 0.0 0.0 0.0 0.0 0.0 0.0 0.0 0.0 0.0 0.0 0.0 0.0 0.0 0.0 0.0 0.0 0.0 0.0 0.0 0.0 0.0 0.0 0.0 0.0 0.0 0.0 0.0 0.0 0.0 0.0 0.0 0.0 0.0 0.0 0.0 0.0 0.0 0.0 0.0 0.0 0.0 0.0 0.0 0.0 0.0 0.0 0.0 0.0 0.0 0.0 0.0 0.0 0.0 0.0 0.0 0.0 0.0 0.0 0.0 0.0 0.0 0.0 0.0 0.0 0.0 0.0 0.0 0.0 0.0 0.0 0.0 0.0 0.0 0.0 0.0 0.0 0.0 0.0 0.0 0.0 0.0 0.0 0.0 0.0 0.0 0.0 0.0 0.0 0.0 0.0 0.0 0.10729093655583952 0.0 0.0 0.0 0.0 0.0 0.0 0.0 0.0 0.0 0.0 0.0 0.0 0.0 0.0 0.0 0.0 0.0 0.0 0.0 0.0 0.0 0.0 0.0 0.0 0.0 0.0 0.0 0.0 0.0 0.0 0.0 0.0 0.0 0.0 0.26549358249033206 0.0 0.0 0.0 0.0 0.0 0.0 0.0 0.0 0.0 0.0 0.0 0.0 0.0 0.0 0.0 0.0 0.0 0.0 0.0 0.0 0.0 0.0 0.0 0.0 0.0 0.0 0.0 0.0 0.0 0.0 0.0 0.0 0.0 0.0 0.0 0.0 0.0 0.0 0.0 0.0 0.0 0.0 0.0 0.0 0.0 0.0 0.08069346764756528 0.0 0.0 0.0 0.0 0.0 "
     ]
    }
   ],
   "source": [
    "# Print each element of the array\n",
    "for element in tfidf_encode[3]:\n",
    "        print(element, end=' ')"
   ]
  },
  {
   "cell_type": "code",
   "execution_count": null,
   "metadata": {
    "id": "OKp8r4APop2V"
   },
   "outputs": [],
   "source": []
  }
 ],
 "metadata": {
  "accelerator": "GPU",
  "colab": {
   "gpuType": "T4",
   "provenance": []
  },
  "kernelspec": {
   "display_name": "Python 3 (ipykernel)",
   "language": "python",
   "name": "python3"
  },
  "language_info": {
   "codemirror_mode": {
    "name": "ipython",
    "version": 3
   },
   "file_extension": ".py",
   "mimetype": "text/x-python",
   "name": "python",
   "nbconvert_exporter": "python",
   "pygments_lexer": "ipython3",
   "version": "3.9.13"
  }
 },
 "nbformat": 4,
 "nbformat_minor": 1
}
